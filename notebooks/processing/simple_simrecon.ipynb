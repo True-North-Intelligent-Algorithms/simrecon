{
 "cells": [
  {
   "cell_type": "markdown",
   "metadata": {},
   "source": [
    "## Simple SIM recon \n",
    "\n",
    "This notebook is used to call simrecon on a single image and PSF pair without directory parsing."
   ]
  },
  {
   "cell_type": "markdown",
   "metadata": {},
   "source": [
    "## 1.  Define code paths\n",
    "Currently we hard code these and they need to be modified to run on different machines.  In the future we may move to a more intelligent approach like always having code exist beside the notebooks and using relative imports.  "
   ]
  },
  {
   "cell_type": "code",
   "execution_count": 14,
   "metadata": {},
   "outputs": [
    {
     "name": "stdout",
     "output_type": "stream",
     "text": [
      "Populating the interactive namespace from numpy and matplotlib\n",
      "The autoreload extension is already loaded. To reload it, use:\n",
      "  %reload_ext autoreload\n"
     ]
    }
   ],
   "source": [
    "%pylab inline\n",
    "%load_ext autoreload\n",
    "%autoreload \n",
    "\n",
    "import tifffile as tif\n",
    "import os\n",
    "import sys\n",
    "import numpy as np\n",
    "\n",
    "computer = 'bnort'\n",
    "\n",
    "if computer == 'default':\n",
    "    sys.path.insert(1, 'Y:\\Cryo_data2\\Data Processing Notebooks')\n",
    "    sys.path.insert(1, 'Y:\\Cryo_data2\\Data Processing Notebooks\\Scripts')\n",
    "elif computer == 'bnort':\n",
    "    sys.path.insert(1, r'C:\\Users\\bnort\\work\\Janelia\\code\\\\simrecon\\scripts\\Scripts')\n",
    "    sys.path.insert(1, r'C:\\Users\\bnort\\work\\Janelia\\code\\\\simrecon\\scripts')\n",
    "else:\n",
    "    pass\n",
    "\n",
    "from simrecon_utils import simrecon"
   ]
  },
  {
   "cell_type": "code",
   "execution_count": 37,
   "metadata": {},
   "outputs": [
    {
     "name": "stdout",
     "output_type": "stream",
     "text": [
      "D:\\Janelia\\Data 2024-08-05\\BEST PSFs\\560 201909_19-20_best.mrc\n",
      "D:\\Janelia\\Data 2024-08-05\\561nm cell 5 good signal_20240627_151300\\560 nm 615 45 filter 5 phases 0.81 NA React_All Linear SIM_cam1_1.mrc\n"
     ]
    }
   ],
   "source": [
    "input_name = r'D:\\Janelia\\Data For Brian\\Cryo-SIM Scope #2 Data (James System)\\Not Anti-reflection coated\\Successful samples\\CELL 4 - 1.0W 300ms updated HWPQWP\\488 nm 5 phases 0.81 NA React_All Linear SIM_cam1_1.mrc'\n",
    "input_name = r'D:\\Janelia\\Data 2024-06-30\\488cm cell 5 good signal_20240627_131236  Fail\\488 nm 5 phases 0.81 NA React_All Linear SIM_cam1_1.mrc'\n",
    "#input_name = r'D:\\Janelia\\Data 2024-06-06\\Wiener, gammaApo and SupressR parameter testing\\488nm comparison Brian\\CELL 4 - 1.0W 300ms updated HWPQWP pos_20240503_115909\\488 nm 5 phases 0.81 NA React_All Linear SIM_cam1_1.mrc'\n",
    "#otf_name = r'D:\\Janelia\\Data 2024-06-03\\PSF-OTF used (Davids set of 4 wavelengths)\\201909_19-20_best\\488 OTF Bead 8_20190919_141256.mrc'\n",
    "#otf_name = r'C:\\Users\\bnort\\work\\Janelia\\ims\\computed_OTF_folder\\488nmLin403OTF0.mrc'\n",
    "#otf_name = r'C:\\Users\\bnort\\work\\Janelia\\ims\\computed_OTF_folder\\488nmLinOTF0.mrc'\n",
    "#otf_name = r'C:\\Users\\bnort\\work\\Janelia\\ims\\computed_OTF_folder\\488nmLinOTF0bn_oldroi_mask.mrc'\n",
    "#otf_name = r'C:\\Users\\bnort\\work\\Janelia\\ims\\computed_OTF_folder\\488nmLinOTF0_legacy.mrc'\n",
    "#otf_name = r'C:\\Users\\bnort\\work\\Janelia\\ims\\computed_OTF_folder\\488nmLinOTF0_nomask2.mrc'\n",
    "#wl = 488\n",
    "\n",
    "input_name = r'D:\\Janelia\\Data 2024-08-05\\561nm cell 5 good signal_20240627_151300\\560 nm 615 45 filter 5 phases 0.81 NA React_All Linear SIM_cam1_1.mrc'\n",
    "otf_name = r'D:\\Janelia\\Data 2024-08-05\\BEST PSFs\\560 201909_19-20_best.mrc'\n",
    "wl = 560\n",
    "\n",
    "#input_name = r'D:\\Janelia\\Data 2024-06-30\\488cm cell 5 good signal_20240627_131236  Fail sanity check\\488 nm 5 phases 0.81 NA React_All Linear SIM_cam1_1.mrc'\n",
    "#otf_name = r'C:\\Users\\bnort\\work\\Janelia\\ims\\computed_OTF_folder\\488nmLinOTF0_mask.mrc'\n",
    "#wl = 488\n",
    "\n",
    "print(otf_name)\n",
    "print(input_name)"
   ]
  },
  {
   "cell_type": "markdown",
   "metadata": {},
   "source": [
    "## Set default params\n",
    "\n",
    "Here we set the default params that will be used if none of them are overwritten.\n"
   ]
  },
  {
   "cell_type": "code",
   "execution_count": 38,
   "metadata": {},
   "outputs": [],
   "source": [
    "\n",
    "base_kwargs = dict(\n",
    "                    nphases=5,\n",
    "                    ndirs=3,\n",
    "                    angle0= 1.29,\n",
    "                    negDangle=True,              \n",
    "                    na= 0.85,\n",
    "                    nimm= 1.0,\n",
    "                    zoomfact= 2.0, \n",
    "                    background= 100.0,           \n",
    "                    wiener= 0.001,\n",
    "                    fastSIM=True,\n",
    "                    otfRA= True,\n",
    "                    dampenOrder0=True,\n",
    "                    k0searchall=True,\n",
    "                    equalizez=True,\n",
    "                    preciseapo=True,\n",
    "                    gammaApo=0.7,\n",
    "                    suppressR=15.0,\n",
    "                    nthreads = 8,\n",
    "                    makemodel = False\n",
    "                )"
   ]
  },
  {
   "cell_type": "code",
   "execution_count": 43,
   "metadata": {},
   "outputs": [
    {
     "name": "stdout",
     "output_type": "stream",
     "text": [
      "gApo_0.3_supR_10.0_w_0.001_wl_560_driftfix_nosuppress\n"
     ]
    }
   ],
   "source": [
    "#to_process = []\n",
    "gammaApo = 0.3\n",
    "suppressR = 10.0\n",
    "wiener = 0.001\n",
    "driftfix = True\n",
    "nosuppress = True\n",
    "makemodel = False\n",
    "zpadto = 0 \n",
    "\n",
    "user_text = 'gApo_'+str(gammaApo)+'_supR_'+str(suppressR)+'_w_'+str(wiener)+'_wl_'+str(wl)\n",
    "\n",
    "if zpadto > 0:\n",
    "    user_text += '_zpadto_'+str(zpadto)\n",
    "\n",
    "if driftfix:\n",
    "    user_text += '_driftfix'\n",
    "\n",
    "if nosuppress:\n",
    "    user_text += '_nosuppress'\n",
    "\n",
    "if makemodel:\n",
    "    user_text += '_model'\n",
    "print(user_text)"
   ]
  },
  {
   "cell_type": "code",
   "execution_count": 44,
   "metadata": {
    "scrolled": false
   },
   "outputs": [
    {
     "name": "stdout",
     "output_type": "stream",
     "text": [
      "['nphases=5, ndirs=3\\r', 'nx=1024, ny=1024, nz=16, nwaves=1, ntimes=1\\r', 'nzotf=65, dkzotf=0.061538, nxotf=65, nyotf=1, dkrotf=0.060096\\r', 'Number of threads used: 8\\r', 'Creating FFT plans...\\r', 'Separation matrix:\\r', '  1.00000   1.00000   1.00000   1.00000   1.00000 \\r', '  1.00000   0.30902  -0.80902  -0.80902   0.30902 \\r', '  0.00000   0.95106   0.58779  -0.58779  -0.95106 \\r', '  1.00000  -0.80902   0.30902   0.30902  -0.80902 \\r', '  0.00000   0.58779  -0.95106   0.95106  -0.58779 \\r', '\\r', 'rdistcutoff = 2.905983 1/micron\\r', 'Drift for direction 1 is (0.000000, 0.000000, 0.000000) pixels\\r', 'Drift for direction 2 is (0.000000, 0.000000, 0.000000) pixels\\r', 'k0guess[direction 0] = (0.400836, 1.389779) 1/micron\\r', 'Initial guess by findk0() of k0[direction 0] = (0.289159,1.351632) 1/micron\\r', 'before fitk0andmodamp\\r', ' In getmodamp: angle=1.360040, mag=1.382216, amp=1.138258, phase=-2.010472\\r', ' In getmodamp: angle=1.361040, mag=1.382216, amp=1.031778, phase=-1.654104\\r', ' In getmodamp: angle=1.359040, mag=1.382216, amp=0.926712, phase=-2.348274\\r', ' In getmodamp: angle=1.360194, mag=1.382216, amp=1.142849, phase=-1.955839\\r', ' In getmodamp: angle=1.360194, mag=1.382968, amp=1.062607, phase=-1.916970\\r', ' In getmodamp: angle=1.360194, mag=1.381465, amp=1.185224, phase=-1.991096\\r', ' In getmodamp: angle=1.360194, mag=1.380714, amp=1.184778, phase=-2.025845\\r', 'Optimum modulation amplitude:\\r', ' In getmodamp: angle=1.360194, mag=1.381098, amp=1.190508, phase=-2.007975\\r', ' Reverse modamp is: amp=3.462881, phase=-2.007975\\r', ' Combined modamp is: amp=2.960665, phase=-2.007975\\r', ' Correlation coefficient is: 0.616592\\r', 'Optimum k0 angle=1.360194, length=1.381098 (1/microns), spacing=0.724062 microns\\r', ' In getmodamp: angle=1.360194, mag=1.381098, amp=0.030092, phase=2.972268\\r', ' Reverse modamp is: amp=56.772038, phase=2.972268\\r', ' Combined modamp is: amp=23.583540, phase=2.972268\\r', ' Correlation coefficient is: 0.023975\\r', 'best fit for k0 is 8.211437 percent off expected value.\\r', '\\r', 'k0[0].x=0.288717, k0[0].y=1.350582\\r', 'k0guess[direction 1] = (1.404002, 0.347756) 1/micron\\r', 'In fixdrift_bt_dirs()\\r', '\\r', 'Initial guess by findk0() of k0[direction 1] = (1.313076,0.426052) 1/micron\\r', 'before fitk0andmodamp\\r', ' In getmodamp: angle=0.313751, mag=1.380467, amp=1.200255, phase=-2.029115\\r', ' In getmodamp: angle=0.314751, mag=1.380467, amp=1.036701, phase=-2.061226\\r', ' In getmodamp: angle=0.312751, mag=1.380467, amp=1.174155, phase=-2.037735\\r', ' In getmodamp: angle=0.313396, mag=1.380467, amp=1.214321, phase=-2.029391\\r', ' In getmodamp: angle=0.313396, mag=1.381219, amp=1.207822, phase=-2.076591\\r', ' In getmodamp: angle=0.313396, mag=1.379716, amp=1.193697, phase=-1.984492\\r', 'Optimum modulation amplitude:\\r', ' In getmodamp: angle=0.313396, mag=1.380662, amp=1.215247, phase=-2.041499\\r', ' Reverse modamp is: amp=3.174268, phase=-2.041499\\r', ' Combined modamp is: amp=2.719152, phase=-2.041499\\r', ' Correlation coefficient is: 0.647538\\r', 'Optimum k0 angle=0.313396, length=1.380662 (1/microns), spacing=0.724290 microns\\r', ' In getmodamp: angle=0.313396, mag=1.380662, amp=0.269135, phase=-1.218517\\r', ' Reverse modamp is: amp=6.392319, phase=-1.218517\\r', ' Combined modamp is: amp=3.009043, phase=-1.218517\\r', ' Correlation coefficient is: 0.213397\\r', 'best fit for k0 is 8.259688 percent off expected value.\\r', '\\r', 'k0[1].x=1.313413, k0[1].y=0.425646\\r', 'k0guess[direction 2] = (1.003166, -1.042024) 1/micron\\r', 'In fixdrift_bt_dirs()\\r', '\\r', 'Initial guess by findk0() of k0[direction 2] = (1.025323,-0.925010) 1/micron\\r', 'before fitk0andmodamp\\r', ' In getmodamp: angle=-0.734010, mag=1.380917, amp=0.925908, phase=-1.344035\\r', ' In getmodamp: angle=-0.733010, mag=1.380917, amp=0.869705, phase=-1.356343\\r', ' In getmodamp: angle=-0.735010, mag=1.380917, amp=0.880455, phase=-1.344017\\r', ' In getmodamp: angle=-0.734061, mag=1.380917, amp=0.926011, phase=-1.343558\\r', ' In getmodamp: angle=-0.734061, mag=1.381668, amp=0.916133, phase=-1.348644\\r', ' In getmodamp: angle=-0.734061, mag=1.380166, amp=0.920099, phase=-1.339311\\r', 'Optimum modulation amplitude:\\r', ' In getmodamp: angle=-0.734061, mag=1.380823, amp=0.926179, phase=-1.343007\\r', ' Reverse modamp is: amp=3.740116, phase=-1.343007\\r', ' Combined modamp is: amp=2.994372, phase=-1.343007\\r', ' Correlation coefficient is: 0.524205\\r', 'Optimum k0 angle=-0.734061, length=1.380823 (1/microns), spacing=0.724206 microns\\r', ' In getmodamp: angle=-0.734061, mag=1.380823, amp=0.210001, phase=2.779834\\r', ' Reverse modamp is: amp=8.003606, phase=2.779834\\r', ' Combined modamp is: amp=3.525383, phase=2.779834\\r', ' Correlation coefficient is: 0.168652\\r', 'best fit for k0 is 8.232748 percent off expected value.\\r', '\\r', 'k0[2].x=1.025206, k0[2].y=-0.925000\\r', '0.837   -0.210   -1.258   -2.305   2.931   1.884   \\r', '\\r', 'for direction 0, do filterbands() and assemblerealspace()\\r', 'before filterbands\\r', 'before assemblerealspacebands\\r', 'moving centerband\\r', 're-transforming centerband\\r', 'inserting centerband\\r', 'centerband assembly completed\\r', 'moving order 1\\r', 'order 1 sideband assembly completed\\r', 'moving order 2\\r', 'order 2 sideband assembly completed\\r', '\\r', 'for direction 1, do filterbands() and assemblerealspace()\\r', 'before filterbands\\r', 'before assemblerealspacebands\\r', 'moving centerband\\r', 're-transforming centerband\\r', 'inserting centerband\\r', 'centerband assembly completed\\r', 'moving order 1\\r', 'order 1 sideband assembly completed\\r', 'moving order 2\\r', 'order 2 sideband assembly completed\\r', '\\r', 'for direction 2, do filterbands() and assemblerealspace()\\r', 'before filterbands\\r', 'before assemblerealspacebands\\r', 'moving centerband\\r', 're-transforming centerband\\r', 'inserting centerband\\r', 'centerband assembly completed\\r', 'moving order 1\\r', 'order 1 sideband assembly completed\\r', 'moving order 2\\r', 'order 2 sideband assembly completed\\r', 'before write\\r', 'Time point 0, wave 0 done\\r', '']\n"
     ]
    }
   ],
   "source": [
    "base_kwargs.update(dict(gammaApo=gammaApo, suppressR=suppressR, wiener=wiener, zpadto=zpadto, driftfix=driftfix, nosuppress=nosuppress, makemodel=makemodel))   # default Full frame Recon. parameters\n",
    "    \n",
    "sim_kwargs = dict(                                                                                                            \n",
    "input_file= input_name,\n",
    "otf_file= otf_name,\n",
    "ls= (wl/1000)/2/0.81)\n",
    "        \n",
    "sim_kwargs.update(base_kwargs)\n",
    "            \n",
    "#create processed file output name\n",
    "output_file = sim_kwargs[\"input_file\"].replace(\".mrc\", '_proc'+'_' + user_text + \".mrc\")\n",
    "sim_kwargs[\"output_file\"] = output_file\n",
    "    \n",
    "sim_output = simrecon(**sim_kwargs)\n",
    "print(sim_output)\n",
    "for i in range(len(sim_output)):\n",
    "    sim_output[i] = sim_output[i].replace('\\r', '')\n",
    "with open(output_file.replace(\".mrc\", \".txt\"), \"w\") as myfile:\n",
    "    myfile.write(str(sim_kwargs))\n",
    "    myfile.write(\"\\n\".join(sim_output))            "
   ]
  },
  {
   "cell_type": "code",
   "execution_count": 22,
   "metadata": {},
   "outputs": [
    {
     "name": "stdout",
     "output_type": "stream",
     "text": [
      "['nphases=5, ndirs=3', 'nx=1024, ny=1024, nz=24, nwaves=1, ntimes=1', 'nzotf=65, dkzotf=0.061538, nxotf=81, nyotf=1, dkrotf=0.048077', 'Number of threads used: 8', 'Creating FFT plans...', 'Separation matrix:', '  1.00000   1.00000   1.00000   1.00000   1.00000 ', '  1.00000   0.30902  -0.80902  -0.80902   0.30902 ', '  0.00000   0.95106   0.58779  -0.58779  -0.95106 ', '  1.00000  -0.80902   0.30902   0.30902  -0.80902 ', '  0.00000   0.58779  -0.95106   0.95106  -0.58779 ', '', 'rdistcutoff = 3.269231 1/micron', 'k0guess[direction 0] = (0.459975, 1.594829) 1/micron', 'Initial guess by findk0() of k0[direction 0] = (0.457362,1.595617) 1/micron', 'before fitk0andmodamp', ' In getmodamp: angle=1.291645, mag=1.659872, amp=0.996309, phase=0.000003', ' In getmodamp: angle=1.292645, mag=1.659872, amp=0.996707, phase=0.000001', ' In getmodamp: angle=1.293645, mag=1.659872, amp=0.995770, phase=-0.000001', ' In getmodamp: angle=1.292443, mag=1.659872, amp=0.996725, phase=0.000001', ' In getmodamp: angle=1.292443, mag=1.660623, amp=0.996299, phase=-0.000002', ' In getmodamp: angle=1.292443, mag=1.659120, amp=0.995473, phase=0.000004', 'Optimum modulation amplitude:', ' In getmodamp: angle=1.292443, mag=1.660057, amp=0.996779, phase=0.000000', ' Reverse modamp is: amp=1.002597, phase=0.000000', ' Combined modamp is: amp=0.999683, phase=0.000000', ' Correlation coefficient is: 1.008519', 'Optimum k0 angle=1.292443, length=1.660057 (1/microns), spacing=0.602389 microns', ' In getmodamp: angle=1.292443, mag=1.660057, amp=0.996500, phase=0.000000', ' Reverse modamp is: amp=1.003264, phase=0.000000', ' Combined modamp is: amp=0.999876, phase=0.000000', ' Correlation coefficient is: 1.008546', 'best fit for k0 is 0.244675 percent off expected value.', '', 'k0[0].x=0.456138, k0[0].y=1.596160', 'k0guess[direction 1] = (1.611150, 0.399064) 1/micron', 'Initial guess by findk0() of k0[direction 1] = (1.611350,0.398500) 1/micron', 'before fitk0andmodamp', ' In getmodamp: angle=0.242443, mag=1.659895, amp=0.999269, phase=-0.000001', ' In getmodamp: angle=0.243443, mag=1.659895, amp=0.997987, phase=-0.000001', ' In getmodamp: angle=0.241443, mag=1.659895, amp=0.998257, phase=-0.000000', ' In getmodamp: angle=0.242384, mag=1.659895, amp=0.999275, phase=-0.000001', ' In getmodamp: angle=0.242384, mag=1.660646, amp=0.998230, phase=-0.000006', ' In getmodamp: angle=0.242384, mag=1.659144, amp=0.998328, phase=0.000004', 'Optimum modulation amplitude:', ' In getmodamp: angle=0.242384, mag=1.659876, amp=0.999276, phase=-0.000001', ' Reverse modamp is: amp=1.000589, phase=-0.000001', ' Combined modamp is: amp=0.999932, phase=-0.000001', ' Correlation coefficient is: 1.010768', 'Optimum k0 angle=0.242384, length=1.659876 (1/microns), spacing=0.602455 microns', ' In getmodamp: angle=0.242384, mag=1.659876, amp=0.996205, phase=0.000001', ' Reverse modamp is: amp=1.003323, phase=0.000001', ' Combined modamp is: amp=0.999757, phase=0.000001', ' Correlation coefficient is: 1.008354', 'best fit for k0 is 0.041867 percent off expected value.', '', 'k0[1].x=1.611356, k0[1].y=0.398400', 'k0guess[direction 2] = (1.151174, -1.195765) 1/micron', 'Initial guess by findk0() of k0[direction 2] = (1.152768,-1.194132) 1/micron', 'before fitk0andmodamp', ' In getmodamp: angle=-0.803021, mag=1.659767, amp=0.997657, phase=0.000000', ' In getmodamp: angle=-0.802021, mag=1.659767, amp=0.996561, phase=-0.000006', ' In getmodamp: angle=-0.804021, mag=1.659767, amp=0.996536, phase=0.000006', ' In getmodamp: angle=-0.803016, mag=1.659767, amp=0.997658, phase=0.000000', ' In getmodamp: angle=-0.803016, mag=1.660518, amp=0.996917, phase=0.000000', ' In getmodamp: angle=-0.803016, mag=1.659016, amp=0.996521, phase=-0.000000', 'Optimum modulation amplitude:', ' In getmodamp: angle=-0.803016, mag=1.659846, amp=0.997669, phase=0.000000', ' Reverse modamp is: amp=1.001750, phase=0.000000', ' Combined modamp is: amp=0.999707, phase=0.000000', ' Correlation coefficient is: 1.009497', 'Optimum k0 angle=-0.803016, length=1.659846 (1/microns), spacing=0.602466 microns', ' In getmodamp: angle=-0.803016, mag=1.659846, amp=0.997376, phase=-0.000001', ' Reverse modamp is: amp=1.002717, phase=-0.000001', ' Combined modamp is: amp=1.000043, phase=-0.000001', ' Correlation coefficient is: 1.009308', 'best fit for k0 is 0.137945 percent off expected value.', '', 'k0[2].x=1.152830, k0[2].y=-1.194183', '0.769   -0.281   -1.327   -2.373   2.860   1.815   ', '', 'for direction 0, do filterbands() and assemblerealspace()', 'before filterbands', 'before assemblerealspacebands', 'moving centerband', 're-transforming centerband', 'inserting centerband', 'centerband assembly completed', 'moving order 1', 'order 1 sideband assembly completed', 'moving order 2', 'order 2 sideband assembly completed', '', 'for direction 1, do filterbands() and assemblerealspace()', 'before filterbands', 'before assemblerealspacebands', 'moving centerband', 're-transforming centerband', 'inserting centerband', 'centerband assembly completed', 'moving order 1', 'order 1 sideband assembly completed', 'moving order 2', 'order 2 sideband assembly completed', '', 'for direction 2, do filterbands() and assemblerealspace()', 'before filterbands', 'before assemblerealspacebands', 'moving centerband', 're-transforming centerband', 'inserting centerband', 'centerband assembly completed', 'moving order 1', 'order 1 sideband assembly completed', 'moving order 2', 'order 2 sideband assembly completed', 'before write', 'Time point 0, wave 0 done', '']\n"
     ]
    }
   ],
   "source": [
    "print(sim_output)"
   ]
  }
 ],
 "metadata": {
  "anaconda-cloud": {},
  "kernelspec": {
   "display_name": "Python 3 (ipykernel)",
   "language": "python",
   "name": "python3"
  },
  "language_info": {
   "codemirror_mode": {
    "name": "ipython",
    "version": 3
   },
   "file_extension": ".py",
   "mimetype": "text/x-python",
   "name": "python",
   "nbconvert_exporter": "python",
   "pygments_lexer": "ipython3",
   "version": "3.7.3"
  }
 },
 "nbformat": 4,
 "nbformat_minor": 2
}
