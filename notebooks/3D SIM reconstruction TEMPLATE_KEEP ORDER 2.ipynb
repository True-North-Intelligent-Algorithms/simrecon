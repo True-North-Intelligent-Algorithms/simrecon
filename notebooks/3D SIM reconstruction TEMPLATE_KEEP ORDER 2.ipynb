{
 "cells": [
  {
   "cell_type": "markdown",
   "metadata": {},
   "source": [
    "## WIP 3D SIM reconstruction template\n",
    "\n",
    "This is a work in progress template for running 3D SIM reconstruction based on the Janelia Python and c SIM code written by David Hoffman and Lin Shao"
   ]
  },
  {
   "cell_type": "markdown",
   "metadata": {},
   "source": [
    "## 1.  Define code paths\n",
    "Currently we hard code these and they need to be modified to run on different machines.  In the future we may move to a more intelligent approach like always having code exist beside the notebooks and using relative imports.  "
   ]
  },
  {
   "cell_type": "code",
   "execution_count": 1,
   "metadata": {},
   "outputs": [
    {
     "name": "stdout",
     "output_type": "stream",
     "text": [
      "%pylab is deprecated, use %matplotlib inline and import the required libraries.\n",
      "Populating the interactive namespace from numpy and matplotlib\n"
     ]
    }
   ],
   "source": [
    "%pylab inline\n",
    "\n",
    "import tifffile as tif\n",
    "import os\n",
    "import glob\n",
    "%load_ext autoreload\n",
    "%autoreload \n",
    "import shutil\n",
    "\n",
    "# NOTE: BN the below code is from the legacy notebooks.  I am leaving it here for now, as it may be needed on some machines. \n",
    "if 'C:\\\\Users\\\\Cryo SIM-PALM\\\\Documents\\\\GitHub' in sys.path:\n",
    "    sys.path.remove('C:\\\\Users\\\\Cryo SIM-PALM\\\\Documents\\\\GitHub')\n",
    "else:\n",
    "    pass\n",
    "\n",
    "computer = 'default'\n",
    "\n",
    "import sys\n",
    "\n",
    "if computer == 'default':\n",
    "    sys.path.insert(1, r'Y:\\Cryo_data2\\Data Processing Notebooks')\n",
    "    sys.path.insert(1, r'C:\\Users\\Cryo SIM-PALM\\code\\simrecon\\scripts')\n",
    "    sys.path.insert(1, r'C:\\Users\\Cryo SIM-PALM\\code\\simrecon\\scripts\\Scripts')\n",
    "elif computer == 'bnort':\n",
    "    sys.path.insert(1, r'C:\\Users\\bnort\\work\\Janelia\\code\\\\simrecon\\scripts\\Scripts')\n",
    "    sys.path.insert(1, r'C:\\Users\\bnort\\work\\Janelia\\code\\\\simrecon\\scripts')\n",
    "else:\n",
    "    pass\n",
    "\n",
    "import dphutils \n",
    "from simrecon_utils import simrecon, split_process_recombine\n",
    "\n",
    "# import dask\n",
    "import dask\n",
    "from dask.diagnostics import ProgressBar"
   ]
  },
  {
   "cell_type": "markdown",
   "metadata": {},
   "source": [
    "# Setup home directory and OTF directory:\n",
    "\n",
    "Right now we leave in paths for the current test machines but in the future may move to a more intelligent approach (for example user chooses paths with dialog box, paths stored in configuration)\n",
    "\n",
    "Home should start from {Hesslab(\\\\prfs.hhmi.org)} e.g. home = r'Y:\\Cryo_data2\\ORCA_data\\3D SIM Cells'\n",
    "\n",
    "#### Additonal legacy notes (BN: these notes were in the original notebook I got) I'm leaving them in for now in case we need them for troubleshhoting\n",
    "\n",
    "There was an old note \"OTF folder should be placed inside Data processing notebooks\"\n",
    "\n",
    "(BN I don't think this has to be the case, because there are many notebook that define the full OTF path)\n",
    "\n",
    "OTF Folder directory should be e.g.:   Y:\\Cryo_data2\\Data Processing Notebooks\\SIM PSFs OTFs\n",
    "\n",
    "Raw data from V-SIM data acquisition should be placed inside a dated folder here:   'Y:\\Cryo_data2\\ORCA_data\\3D SIM Cells' \n",
    "\n",
    "with data file directory structure e.g.: 'Y:\\Cryo_data2\\ORCA_data\\3D SIM Cells\\20240322\\488 nm 5 phases 0.81 NA Linear SIM_cam1_0.mrc'"
   ]
  },
  {
   "cell_type": "code",
   "execution_count": 14,
   "metadata": {},
   "outputs": [
    {
     "name": "stdout",
     "output_type": "stream",
     "text": [
      "F:\\ORCA_Data\\2024-12-03 - Schuyler LID 769\\SIM imaging\\LID 769 position 8 560nm - ROI 1 _20241204_105558\n"
     ]
    },
    {
     "data": {
      "text/plain": [
       "{560: ['Y:\\\\Seyforth\\\\Data For Brian\\\\Brians OTF\\\\560 201909_19-20_best.mrc'],\n",
       " 532: ['Y:\\\\Seyforth\\\\Data For Brian\\\\Brians OTF\\\\532 OTF Bead 3_20190920_154920.mrc'],\n",
       " 488: ['Y:\\\\Seyforth\\\\Data For Brian\\\\Brians OTF\\\\488 nmLinOTF0_mask.mrc'],\n",
       " 642: ['Y:\\\\Seyforth\\\\Data For Brian\\\\Brians OTF\\\\642 20240611_125236_best.mrc']}"
      ]
     },
     "execution_count": 14,
     "metadata": {},
     "output_type": "execute_result"
    }
   ],
   "source": [
    "if computer == 'default': \n",
    "    home = r'F:\\ORCA_Data\\2024-12-03 - Schuyler LID 769\\SIM imaging\\LID 769 position 8 560nm - ROI 1 _20241204_105558'\n",
    "    otf_path = r'Y:\\Seyforth\\Data For Brian\\Brians OTF'#'Y:\\Seyforth\\Data For Brian\\Brians OTF'\n",
    "    #'Y:\\Seyforth\\Data For Brian\\Cryo-SIM Scope #1 Data (Ground truth baseline)\\Ground truth OTFs System #1'\n",
    "elif computer == 'bnort':\n",
    "    #home = r'D:\\Janelia\\Data 2024-06-06\\Wiener, gammaApo and SupressR parameter testing\\488nm comparison Brian'\n",
    "    #home = r'D:\\Janelia\\Data 2024-10-02\\560cm cell 4 _20240627_124604'\n",
    "    home = r'D:\\Janelia\\Data 2024-10-10' \n",
    "    \n",
    "    #otf_path = r'D:\\Janelia\\Data 2024-06-06\\Wiener, gammaApo and SupressR parameter testing\\OTF\\BEAD 2 - NON-AR 1.2W 25ms retake_20240503_170242 BEST PSF!!\\computed_OTF_folder'\n",
    "    #otf_path = r'D:\\Janelia\\Data 2024-06-03\\PSF-OTF used (Davids set of 4 wavelengths)\\201909_19-20_best'\n",
    "    #otf_path = r'C:\\Users\\bnort\\work\\Janelia\\ims\\OTF_folder'\n",
    "OTFpath = os.path.join(otf_path,\"*{}*.mrc\")\n",
    "OTFs = {wl : [path for path in glob.iglob(OTFpath.format(wl))] for wl in (560, 532, 488, 642)}\n",
    "print(home)\n",
    "OTFs"
   ]
  },
  {
   "cell_type": "markdown",
   "metadata": {},
   "source": [
    "## Set default params\n",
    "\n",
    "Here we set the default params that will be used if none of them are overwritten.\n",
    "\n",
    "Note that before calling the non-tiled and/or tiled processing code a small subset of parameters will be overwritten to values optimized for non-tiled/tiled processing"
   ]
  },
  {
   "cell_type": "code",
   "execution_count": 10,
   "metadata": {},
   "outputs": [],
   "source": [
    "# David Solecki's suggestion: wiener=0.007 gammaApo=0.7 and suppressR=15\n",
    "# original values by D.Hoffman: wiener=0.001 gammaApo=0.1 and suppressR=1.5\n",
    "\n",
    "base_kwargs = dict(\n",
    "                    nphases=5,\n",
    "                    ndirs=3,\n",
    "                    angle0= 1.29,\n",
    "                    negDangle=True,              # James made False to try experiment\n",
    "                    na= 0.85,\n",
    "                    nimm= 1.0,\n",
    "                    zoomfact= 2.0, \n",
    "                    background= 100.0,           # james experiment was 100.0\n",
    "                    wiener= 0.007,\n",
    "                    fastSIM=True,\n",
    "                    otfRA= True,\n",
    "                    dampenOrder0=True,\n",
    "                    k0searchall=True,\n",
    "                    equalizez=True,\n",
    "                    preciseapo=True,\n",
    "                    gammaApo=0.7,\n",
    "                    suppressR=15.0\n",
    "                )\n",
    "\n",
    "def return_wl_otfs(path):\n",
    "    if \"488 Exc 532 Em\" in path:\n",
    "        wl = 532\n",
    "    elif \"488 Exc 642 Em\" in path:\n",
    "        wl = 642\n",
    "    elif \"532 Exc 561 Em\" in path:\n",
    "        wl = 561\n",
    "    elif \"560 nm\" in path:\n",
    "        wl = 560\n",
    "    elif \"488 nm\" in path:\n",
    "        wl = 488\n",
    "    elif \"532 nm\" in path:\n",
    "        wl = 532\n",
    "    elif \"642 nm\" in path:\n",
    "        wl = 642\n",
    "\n",
    "    else:\n",
    "        raise RuntimeError(\"no matching filename wavelength found, fix directory or filename or code\")\n",
    "    return wl, OTFs[wl]"
   ]
  },
  {
   "cell_type": "markdown",
   "metadata": {},
   "source": [
    "## remove old processed data\n",
    "\n",
    "This is commented out, but I assume we comment back in if we want to erase the previous run"
   ]
  },
  {
   "cell_type": "code",
   "execution_count": 11,
   "metadata": {},
   "outputs": [
    {
     "data": {
      "text/plain": [
       "'python\\n# clear processed\\nfor path in glob.glob(home + \"/*/*proc *.mrc\"):\\n    os.remove(path)\\nfor path in glob.glob(home + \"/*/*proc *.txt\"):\\n    os.remove(path)\\n'"
      ]
     },
     "execution_count": 11,
     "metadata": {},
     "output_type": "execute_result"
    }
   ],
   "source": [
    "'''python\n",
    "# clear processed\n",
    "for path in glob.glob(home + \"/*/*proc *.mrc\"):\n",
    "    os.remove(path)\n",
    "for path in glob.glob(home + \"/*/*proc *.txt\"):\n",
    "    os.remove(path)\n",
    "'''"
   ]
  },
  {
   "cell_type": "markdown",
   "metadata": {},
   "source": [
    "# Define process function defined to use DASK and simrecon package\n",
    "\n",
    "This function is annotated as a dask ```delayed``` function.  Which means it will not be called right away but put in a queue to call using dask. "
   ]
  },
  {
   "cell_type": "code",
   "execution_count": 12,
   "metadata": {},
   "outputs": [],
   "source": [
    "@dask.delayed\n",
    "def process(sim_kwargs, output_file_name):\n",
    "    sim_output = simrecon(**sim_kwargs)\n",
    "    with open(output_file_name.replace(\".mrc\", \".txt\"), \"w\") as myfile:\n",
    "        myfile.write(str(sim_kwargs))\n",
    "        myfile.write(\"\\n\".join(sim_output))\n",
    "    return output_file_name"
   ]
  },
  {
   "cell_type": "markdown",
   "metadata": {},
   "source": [
    "## Dictionary of wavelength based parameter sets"
   ]
  },
  {
   "cell_type": "code",
   "execution_count": 13,
   "metadata": {},
   "outputs": [],
   "source": [
    "#parameter_sets_excitation_emission\n",
    "\n",
    "#532nm excitation 650nm emission\n",
    "dict_532nm_650nm = dict()\n",
    "dict_532nm_650nm['wiener'] = .001\n",
    "dict_532nm_650nm['forcemodamp'] = [0.8,0.25]\n",
    "dict_532nm_650nm['otfamp'] = [1,1]\n",
    "dict_532nm_650nm['nofilteroverlaps'] = True\n",
    "\n",
    "#532nm excitation 650nm emission\n",
    "dict_561nm_650nm = dict()\n",
    "dict_561nm_650nm['wiener'] = .001\n",
    "dict_561nm_650nm['forcemodamp'] = [0.8,0.25]\n",
    "dict_561nm_650nm['otfamp'] = [1,1]\n",
    "dict_561nm_650nm['nofilteroverlaps'] = True\n",
    "\n",
    "#640nm excitation 650nm emission # default 642nm parameters\n",
    "dict_642nm_650nm = dict()\n",
    "dict_642nm_650nm['wiener'] = .0005\n",
    "dict_642nm_650nm['forcemodamp'] = [0.8,0.25]\n",
    "dict_642nm_650nm['otfamp'] = [1,1]\n",
    "dict_642nm_650nm['nofilteroverlaps'] = True\n",
    "\n",
    "#488nm excitation 515nm emission # default 488nm parameters\n",
    "dict_488nm_515nm = dict()\n",
    "dict_488nm_515nm['wiener'] = .0001\n",
    "dict_488nm_515nm['forcemodamp'] = [0.8,0.15]\n",
    "dict_488nm_515nm['otfamp'] = [1,1]\n",
    "dict_488nm_515nm['nofilteroverlaps'] = True\n",
    "\n",
    "#561nm excitation 615nm emission # default 561nm parameters\n",
    "dict_488nm_515nm = dict()\n",
    "dict_488nm_515nm['wiener'] = .00025\n",
    "dict_488nm_515nm['forcemodamp'] = [0.8,0.25]\n",
    "dict_488nm_515nm['otfamp'] = [1,1]\n",
    "dict_488nm_515nm['nofilteroverlaps'] = True"
   ]
  },
  {
   "cell_type": "markdown",
   "metadata": {},
   "source": [
    "## Set up parameters common between Non-tiled and tiled reconstruction"
   ]
  },
  {
   "cell_type": "code",
   "execution_count": null,
   "metadata": {},
   "outputs": [],
   "source": []
  },
  {
   "cell_type": "code",
   "execution_count": 22,
   "metadata": {},
   "outputs": [
    {
     "name": "stdout",
     "output_type": "stream",
     "text": [
      "{'nphases': 5, 'ndirs': 3, 'angle0': 1.29, 'negDangle': True, 'na': 0.85, 'nimm': 1.0, 'zoomfact': 2.0, 'background': 100.0, 'wiener': 0.0001, 'fastSIM': True, 'otfRA': True, 'dampenOrder0': True, 'k0searchall': True, 'equalizez': True, 'preciseapo': True, 'gammaApo': 0.3, 'suppressR': 15, 'nofilteroverlaps': False, 'nthreads': 12, 'keeporder2': True}\n"
     ]
    }
   ],
   "source": [
    "gammaApo = 0.3\n",
    "suppressR = 15\n",
    "wiener = 0.0001\n",
    "\n",
    "user_text = 'gApo_'+str(gammaApo)+'_supR_'+str(suppressR)+'_w_'+str(wiener) \n",
    "\n",
    "nofilteroverlaps = False\n",
    "\n",
    "keeporder2 = True\n",
    "\n",
    "\n",
    "otf_amp = [1,1]\n",
    "base_kwargs.update(dict(gammaApo = gammaApo, nofilteroverlaps=nofilteroverlaps, suppressR=suppressR, wiener=wiener, nthreads = 12))\n",
    "\n",
    "if nofilteroverlaps==True:\n",
    "    user_text += '_nofltroverlap'\n",
    "\n",
    "    o1 = 1.0\n",
    "    o2 = 0.055\n",
    "    user_text += '_fmodamp_'+str(o1)+'_'+str(o2)\n",
    "    forcemodamp = [o1, o2]\n",
    "  \n",
    "    base_kwargs.update(dict(forcemodamp=forcemodamp))   # default Full frame Recon. parameters \n",
    "\n",
    "    if 'keeporder2' in base_kwargs:\n",
    "        del base_kwargs['keeporder2']\n",
    "   \n",
    "    \n",
    "else:\n",
    "    if 'forcemodamp' in  base_kwargs:\n",
    "        del base_kwargs['forcemodamp']\n",
    "        base_kwargs.update(dict(nofilteroverlaps=nofilteroverlaps))\n",
    "    if keeporder2:\n",
    "        user_text += '_keeporder2'\n",
    "        base_kwargs.update(dict(keeporder2 = keeporder2))\n",
    "       # del base_kwargs['otfamp']\n",
    "    else:\n",
    "        del base_kwargs['keeporder2']\n",
    " \n",
    "\n",
    "print(base_kwargs)\n"
   ]
  },
  {
   "cell_type": "markdown",
   "metadata": {},
   "source": [
    "# Full frame Simrecon SIM image reconstruction, recon parameters: \n",
    "\n",
    "Set up full frame processing.  Note that we override gammaApo, supressR and wiener parameters.  Also note the code will not be run right away (just put in a dask queue)"
   ]
  },
  {
   "cell_type": "code",
   "execution_count": 98,
   "metadata": {},
   "outputs": [
    {
     "name": "stdout",
     "output_type": "stream",
     "text": [
      "Data to process F:\\ORCA_Data\\11-22-2024 - Schuyler samples 2\\LID768 SIM\\LID 768 position 2 ROI 1 561nm_20241126_214319\\560 nm 655 40 filter 5 phases 0.81 NA React_All Linear SIM_cam1_1.mrc\n",
      "560\n",
      "\n",
      "OTF filename: 560 201909_19-20_best\n",
      "\n",
      "\n",
      "SIM recon Data to save:\n",
      "F:\\ORCA_Data\\11-22-2024 - Schuyler samples 2\\LID768 SIM\\LID 768 position 2 ROI 1 561nm_20241126_214319\\560 nm 655 40 filter 5 phases 0.81 NA React_All Linear SIM_cam1_1_proc560 201909_19-20_best_gApo_0.3_supR_15_w_0.0001_keeporder2.mrc\n",
      "\n"
     ]
    }
   ],
   "source": [
    "to_process = []\n",
    "\n",
    "done_already = set(glob.iglob(home + \"/**/*proc*.mrc\", recursive = True))\n",
    "done_already;\n",
    "done_already = set()     # do this if want to re-process\n",
    "#print('Data processed already: \\n')\n",
    "\n",
    "\n",
    "\n",
    "for raw in glob.iglob(home + \"/**/*SIM*.mrc\", recursive = True):\n",
    "   \n",
    "    wl, otfs = return_wl_otfs(raw)\n",
    "    for otf in otfs:\n",
    "        if \"proc\" not in os.path.split(raw)[1]: \n",
    "            print('Data to process ' +str(raw))\n",
    "            # Test with actually measured OTF\n",
    "            sim_kwargs = dict(                                                                                                            \n",
    "                input_file= raw,\n",
    "                otf_file= otf,\n",
    "                #ls= (wl/1000)/2/0.81,)\n",
    "                ls = (wl/1000)/(2*0.775))\n",
    "            \n",
    "            sim_kwargs.update(base_kwargs)\n",
    "            print(wl)\n",
    "            OTF_filename = os.path.split(otf)[1].split('.')[0]\n",
    "            print('\\nOTF filename: ' +str(OTF_filename))\n",
    "                \n",
    "            #create processed file output name\n",
    "            sim_kwargs[\"output_file\"] = sim_kwargs[\"input_file\"].replace(\".mrc\", '_proc' + OTF_filename + '_' \n",
    "                                                                         + user_text + \".mrc\")\n",
    "                \n",
    "            if sim_kwargs[\"output_file\"] not in done_already:\n",
    "   \n",
    "                print(\"\\n\\nSIM recon Data to save:\" + '\\n' + str(sim_kwargs[\"output_file\"]) + '\\n')\n",
    "                to_process.append(process(sim_kwargs, sim_kwargs[\"output_file\"]))"
   ]
  },
  {
   "cell_type": "markdown",
   "metadata": {},
   "source": [
    "# Running cell below shows all files being processed for full frame reconstruction and progress using DASK\n",
    "\n",
    "This cell will start and run the processing.  We use dask to compute our processing queue that was set up in the cell above."
   ]
  },
  {
   "cell_type": "code",
   "execution_count": 99,
   "metadata": {
    "scrolled": true
   },
   "outputs": [
    {
     "name": "stdout",
     "output_type": "stream",
     "text": [
      "[Delayed('process-c214afde-cd1d-456e-8b1c-eec506095a4d')]\n",
      "[########################################] | 100% Completed | 123.70 s\n"
     ]
    }
   ],
   "source": [
    "with ProgressBar():\n",
    "    print(to_process)\n",
    "    out_names = done_already.update(*dask.compute(to_process))"
   ]
  },
  {
   "cell_type": "markdown",
   "metadata": {},
   "source": [
    "# cell below checks for data already processed using the tiledreconstruction method, cell below that creates list of data to be set to done already, i.e. already processed\n"
   ]
  },
  {
   "cell_type": "code",
   "execution_count": 16,
   "metadata": {},
   "outputs": [
    {
     "name": "stdout",
     "output_type": "stream",
     "text": [
      "C:\\1\\2\\gold_standard_set\\532nm after all sequence and timing fixes_20240614_115706\n",
      "[]\n"
     ]
    }
   ],
   "source": [
    "print(home)\n",
    "print(glob.glob(home + \"/**/*SIM_*.mrc\"))"
   ]
  },
  {
   "cell_type": "markdown",
   "metadata": {},
   "source": [
    "# Select general Simrecon tile parameters: # "
   ]
  },
  {
   "cell_type": "code",
   "execution_count": 32,
   "metadata": {},
   "outputs": [],
   "source": [
    "base_kwargs = dict(\n",
    "                    nphases=5,\n",
    "                    ndirs=3,\n",
    "                    angle0= 1.36,\n",
    "                    negDangle=True,              # James made False to try experiment\n",
    "                    na= 0.85,\n",
    "                    nimm= 1.0,\n",
    "                    zoomfact= 2.0, \n",
    "                    background= 100.0,           # james experiment was 100.0\n",
    "                    wiener= 0.007,\n",
    "                    fastSIM=True,\n",
    "                    otfRA= True,\n",
    "                    dampenOrder0=True,\n",
    "                    k0searchall=True,\n",
    "                    equalizez=True,\n",
    "                    preciseapo=True,\n",
    "                    gammaApo=0.7,\n",
    "                    suppressR=15.0\n",
    "                )\n",
    "\n"
   ]
  },
  {
   "cell_type": "code",
   "execution_count": 7,
   "metadata": {},
   "outputs": [
    {
     "name": "stdout",
     "output_type": "stream",
     "text": [
      "Datasets alread reconstructed: \n",
      "\n"
     ]
    }
   ],
   "source": [
    "for raw in glob.iglob(home + \"/**/*SIM*.mrc\", recursive = True):\n",
    "    \n",
    "    done_already = set(glob.iglob(home + \"/**/*proc*.mrc\", recursive = True))\n",
    "    done_already;\n",
    "    #done_already = set()     # do this if want to re-process\n",
    "\n",
    "print(\"Datasets alread reconstructed: \\n\" + \"\\n\".join(os.path.split(i)[0] for i in done_already))"
   ]
  },
  {
   "cell_type": "markdown",
   "metadata": {},
   "source": [
    "# Select tile parmeters for tile reconstruction"
   ]
  },
  {
   "cell_type": "code",
   "execution_count": 14,
   "metadata": {},
   "outputs": [
    {
     "name": "stdout",
     "output_type": "stream",
     "text": [
      "Datasets alread reconstructed: \n",
      "F:\\ORCA_Data\\2024-12-03 - Schuyler LID 769\\SIM imaging\\LID 769 position 8 560nm - ROI 1 _20241204_105558\n",
      "F:\\ORCA_Data\\2024-12-03 - Schuyler LID 769\\SIM imaging\\LID 769 position 8 560nm - ROI 1 _20241204_105558\n",
      "\n",
      "RAW DATA TO BE PROCESSED, PROCESS No.<function step at 0x00000237CC6A2A60>: F:\\ORCA_Data\\2024-12-03 - Schuyler LID 769\\SIM imaging\\LID 769 position 8 560nm - ROI 1 _20241204_105558\\560 nm 615 45 filter 5 phases 0.81 NA React_All Linear SIM_cam1_1.mrc\n",
      "\n",
      "\n",
      "SIMRECON BASE KEYWORD ARGUMENTS:{'nphases': 5, 'ndirs': 3, 'angle0': 1.29, 'negDangle': True, 'na': 0.85, 'nimm': 1.0, 'zoomfact': 2.0, 'background': 100.0, 'wiener': 0.0005, 'fastSIM': True, 'otfRA': True, 'dampenOrder0': True, 'k0searchall': True, 'equalizez': True, 'preciseapo': True, 'gammaApo': 0.5, 'suppressR': 2.0, 'keeporder2': True, 'nthreads': 1}\n",
      "\n",
      "OTF FILENAME: 560 201909_19-20_best\n",
      "\n",
      "SIM RECON DATA TO SAVE: F:\\ORCA_Data\\2024-12-03 - Schuyler LID 769\\SIM imaging\\LID 769 position 8 560nm - ROI 1 _20241204_105558\\560 nm 615 45 filter 5 phases 0.81 NA React_All Linear SIM_cam1_1_proc_560 201909_19-20_best__keepod2__w_0.0005_tile_filter__tile64_pad32.mrc\n",
      "\n",
      "\n",
      "\n"
     ]
    },
    {
     "data": {
      "application/vnd.jupyter.widget-view+json": {
       "model_id": "dec756ed47534e468b6bdfef4743d290",
       "version_major": 2,
       "version_minor": 0
      },
      "text/plain": [
       "  0%|          | 0/16 [00:00<?, ?it/s]"
      ]
     },
     "metadata": {},
     "output_type": "display_data"
    },
    {
     "data": {
      "application/vnd.jupyter.widget-view+json": {
       "model_id": "0cfd7ed480f34556a1da96908bd4041b",
       "version_major": 2,
       "version_minor": 0
      },
      "text/plain": [
       "Splitting and saving data:   0%|          | 0/256 [00:00<?, ?it/s]"
      ]
     },
     "metadata": {},
     "output_type": "display_data"
    },
    {
     "name": "stdout",
     "output_type": "stream",
     "text": [
      "[########################################] | 100% Completed | 65.86 s\n"
     ]
    },
    {
     "data": {
      "application/vnd.jupyter.widget-view+json": {
       "model_id": "1979600c69634d33a472a07fa123b80d",
       "version_major": 2,
       "version_minor": 0
      },
      "text/plain": [
       "Reading back processed:   0%|          | 0/256 [00:00<?, ?it/s]"
      ]
     },
     "metadata": {},
     "output_type": "display_data"
    },
    {
     "data": {
      "application/vnd.jupyter.widget-view+json": {
       "model_id": "",
       "version_major": 2,
       "version_minor": 0
      },
      "text/plain": [
       "Recombining:   0%|          | 0/256 [00:00<?, ?it/s]"
      ]
     },
     "metadata": {},
     "output_type": "display_data"
    },
    {
     "name": "stdout",
     "output_type": "stream",
     "text": [
      "MRC Raw data file is still open\n",
      "MRC temp data file is still open\n",
      "MRC Raw data file is now closed\n",
      "MRC temp data file is now closed\n",
      "CPU times: total: 59.2 s\n",
      "Wall time: 1min 14s\n"
     ]
    }
   ],
   "source": [
    "\n",
    "\n",
    "# # # Tile size Parameters (units: pixels) # # #\n",
    "tile_size = 64   #square tile size\n",
    "tile_overlap = int(tile_size/2)        # square tile overlap [usually = tile_size/2]\n",
    "\n",
    "\n",
    "# # # TILE Parameter settings # # # \n",
    "if tile_size == 64:\n",
    "    # SIM RECON PARAMS\n",
    "    gammaApo = 0.5\n",
    "    suppressR = 2.0\n",
    "    #force_modamp = [0.8,0.1]  # [0.8,0.1] for 488nm,[0.8,0.25] for 532nm, [0.8,0.4] for 561nm\n",
    "elif tile_size == 32:\n",
    "    # SIM RECON PARAMS\n",
    "    gammaApo = 0.5\n",
    "    suppressR = 2\n",
    "elif tile_size == 16:\n",
    "    # SIM RECON PARAMS\n",
    "    gammaApo = 0.5\n",
    "    suppressR = 0.5\n",
    "\n",
    "user_text=''\n",
    "\n",
    "\n",
    "# # # Constrained tile filter method # # #\n",
    "filter_tiles = False\n",
    "    \n",
    "#user_text += user_text1 + user_text2 + user_text3 + user_text4 # comment out if your string/driectory path too long\n",
    "\n",
    " # # perform SIM recon wih No Filter overlaps # # #\n",
    "\n",
    "nofilteroverlaps = False\n",
    "keep_order2 = True\n",
    "\n",
    "#update dataset processd, done_already list\n",
    "done_already = []\n",
    "\n",
    "for raw in glob.iglob(home + \"/**/*SIM*.mrc\", recursive = True):\n",
    "    \n",
    "    done_already = set(glob.iglob(home + \"/**/*proc*.mrc\", recursive = True))\n",
    "    done_already;\n",
    "    #done_already = set()     # do this if want to re-process\n",
    "\n",
    "print(\"Datasets alread reconstructed: \\n\" + \"\\n\".join(os.path.split(i)[0] for i in done_already))\n",
    "    \n",
    "\n",
    "\n",
    "for raw in glob.iglob(home + \"/**/*SIM*.mrc\", recursive = True):\n",
    "    \n",
    "    \n",
    "    user_text_process = user_text\n",
    "    wl, otfs = return_wl_otfs(raw)\n",
    "    \n",
    "    \n",
    "    if filter_tiles:\n",
    "        \n",
    "    \n",
    "        tile_limits = {}\n",
    "   \n",
    "        if wl == 488:\n",
    "            tile_limits['spacing_min'] = 0.31   # magnitude vector inverse to line spacing value here; see simrecon text file output\n",
    "            tile_limits['spacing_max'] = 0.32\n",
    "            tile_limits['spacing_default']=0.361 # SIM angle\n",
    "            tile_limits['angle_min'] = 1.2\n",
    "            tile_limits['angle_max'] = 1.3\n",
    "            tile_limits['angle_default'] = 1.29\n",
    "            tile_limits['amp1_min'] = 0.0   # contrast of order 1\n",
    "            tile_limits['amp1_max'] = 1.0\n",
    "            tile_limits['amp1_default'] = 1.0\n",
    "            tile_limits['amp2_min'] = 0.0  # contrast of order 2\n",
    "            tile_limits['amp2_max'] = 1.0\n",
    "            tile_limits['amp2_default'] = 1.0\n",
    "\n",
    "        elif wl == 560:\n",
    "            tile_limits['spacing_min'] = 0.355   # magnitude vector inverse to line spacing value here; see simrecon text file output\n",
    "            tile_limits['spacing_max'] = 0.365\n",
    "            tile_limits['spacing_default']=0.361 # SIM angle\n",
    "            tile_limits['angle_min'] = 1.3\n",
    "            tile_limits['angle_max'] = 1.4\n",
    "            tile_limits['angle_default'] = 1.36\n",
    "            tile_limits['amp1_min'] = 0.98   # contrast of order 1\n",
    "            tile_limits['amp1_max'] = 1.02\n",
    "            tile_limits['amp1_default'] = 1.0\n",
    "            tile_limits['amp2_min'] = 0.98  # contrast of order 2\n",
    "            tile_limits['amp2_max'] = 1.02\n",
    "            tile_limits['amp2_default'] = 1.0\n",
    "\n",
    "        elif wl == 642:\n",
    "            tile_limits['spacing_min'] = 0.408  # magnitude vector inverse to line spacing value here; see simrecon text file output\n",
    "            tile_limits['spacing_max'] = 0.416\n",
    "            tile_limits['spacing_default']=0.412 # SIM angle\n",
    "            tile_limits['angle_min'] = 1.2\n",
    "            tile_limits['angle_max'] = 1.6\n",
    "            tile_limits['angle_default'] = 1.36\n",
    "            tile_limits['amp1_min'] = 0.98   # contrast of order 1\n",
    "            tile_limits['amp1_max'] = 1.02\n",
    "            tile_limits['amp1_default'] = 1.0\n",
    "            tile_limits['amp2_min'] = 0.98  # contrast of order 2\n",
    "            tile_limits['amp2_max'] = 1.02\n",
    "            tile_limits['amp2_default'] = 1.0\n",
    "\n",
    "        elif wl == 532:\n",
    "            tile_limits['spacing_min'] = 0.336  # magnitude vector inverse to line spacing value here; see simrecon text file output\n",
    "            tile_limits['spacing_max'] = 0.348\n",
    "            tile_limits['spacing_default']=0.412 # SIM angle\n",
    "            tile_limits['angle_min'] = 1.2\n",
    "            tile_limits['angle_max'] = 1.6\n",
    "            tile_limits['angle_default'] = 1.36\n",
    "            tile_limits['amp1_min'] = 0.98   # contrast of order 1\n",
    "            tile_limits['amp1_max'] = 1.02\n",
    "            tile_limits['amp1_default'] = 1.0\n",
    "            tile_limits['amp2_min'] = 0.98  # contrast of order 2\n",
    "            tile_limits['amp2_max'] = 1.02\n",
    "            tile_limits['amp2_default'] = 1.0\n",
    "    \n",
    "        user_text1 = 'mag_' + str(tile_limits['spacing_min'])  +\"_\" + str(tile_limits['spacing_max'])\n",
    "        user_text2 = 'ang_' + str(tile_limits['angle_min'])  +\"_\" + str(tile_limits['angle_max'])\n",
    "        user_text3 = 'A1_' + str(tile_limits['amp1_min'])  +\"_\" + str(tile_limits['amp1_max'])\n",
    "        user_text4 = 'A2_' + str(tile_limits['amp2_min'])  +\"_\" + str(tile_limits['amp2_max'])\n",
    "#         print('\\n' + '\\n' \"TILING PARAMETERS: \" + '_spacing_' + str(tile_limits['spacing_min'])  \n",
    "#         +\"_to_\" + str(tile_limits['spacing_max'])+\n",
    "#         '_angle_' + str(tile_limits['angle_min'])  +\"_to_\" + str(tile_limits['angle_max'])+\n",
    "#         '_amp1_' + str(tile_limits['amp1_min'])  +\"_to_\" + str(tile_limits['amp1_max'])+\n",
    "#         '_amp2_' + str(tile_limits['amp2_min'])  +\"_to_\" + str(tile_limits['amp2_max']))\n",
    "        \n",
    "    else:\n",
    "        tile_limits = None\n",
    "    \n",
    "    if wl == 488:\n",
    "        wiener = 0.001 # wiener = 0.0001 for 488nm, 0.00025 for 532nm,0.00025 for 561nm??? not sure??\n",
    "        force_modamp = [1.0,0.055]  # [0.8,0.1] for 488nm,[0.8,0.25] for 532nm, [0.8,0.4] for 561nm\n",
    "    elif wl == 532:\n",
    "        wiener = 0.001 # wiener = 0.0001 for 488nm, 0.00025 for 532nm,0.00025 for 561nm??? not sure??\n",
    "        force_modamp = [0.8,0.25]  # [0.8,0.1] for 488nm,[0.8,0.25] for 532nm, [0.8,0.4] for 561nm\n",
    "    elif wl == 560:\n",
    "        wiener = 0.0005 # wiener = 0.0001 for 488nm, 0.00025 for 532nm,0.00025 for 561nm??? not sure??\n",
    "        force_modamp = [1.0,0.15]  # [0.8,0.1] for 488nm,[0.8,0.25] for 532nm, [0.8,0.4] for 561nm\n",
    "    elif wl == 642:\n",
    "        wiener = 0.0005 # wiener = 0.0001 for 488nm, 0.00025 for 532nm,0.00025 for 561nm??? not sure??\n",
    "        force_modamp = [1.0,0.25]  # [0.8,0.1] for 488nm,[0.8,0.25] for 532nm, [0.8,0.4] for 561nm\n",
    "    \n",
    "    if nofilteroverlaps==True:\n",
    "        user_text_process += '_NoFoverlaps_'\n",
    "        user_text_process += 'Fmod_' + str(force_modamp)\n",
    "        #user_text_process += 'forceotf_'\n",
    "        if 'keeporder2' in  base_kwargs:\n",
    "            del base_kwargs['keeporder2']\n",
    "        base_kwargs.update(dict(nofilteroverlaps=nofilteroverlaps, forcemodamp = force_modamp))\n",
    "    else:\n",
    "        if 'forcemodamp' in  base_kwargs:\n",
    "            del base_kwargs['forcemodamp']\n",
    "        base_kwargs.update(dict(nofilteroverlaps=nofilteroverlaps))\n",
    "        \n",
    "    if keep_order2==True:\n",
    "        user_text_process += '_keepod2_'\n",
    "        #user_text_process += 'forceotf_'\n",
    "        if 'otfamp' in  base_kwargs:\n",
    "            del base_kwargs['otfamp']\n",
    "        if 'nofilteroverlaps' in base_kwargs:\n",
    "            del base_kwargs['nofilteroverlaps']\n",
    "        base_kwargs.update(dict(keeporder2 = keep_order2))\n",
    "        if 'forcemodamp' in  base_kwargs:\n",
    "            del base_kwargs['forcemodamp']\n",
    "\n",
    "    \n",
    "    \n",
    "  \n",
    "    \n",
    "  \n",
    "    \n",
    "    for otf in otfs:\n",
    "                \n",
    "        if \"proc\" not in os.path.split(raw)[1]: \n",
    "           \n",
    "            print(\"\\n\" + \"RAW DATA TO BE PROCESSED, PROCESS No.{}: \".format(step) + str(raw)+'\\n')\n",
    "\n",
    "            ls = (wl/1000)/(2*0.775)\n",
    "\n",
    "            # Test with actually measured OTF\n",
    "\n",
    "            sim_kwargs = dict(\n",
    "                input_file= raw,\n",
    "                otf_file= otf,\n",
    "                ls= ls,  # Lambda/2*Na, units: microns\n",
    "                #ls = 0.315\n",
    "                \n",
    "            )\n",
    "            \n",
    "            \n",
    "            OTF_filename = os.path.split(otf)[1].split('.')[0]\n",
    "            base_kwargs.update(dict(nthreads=1, gammaApo=gammaApo, suppressR=suppressR, wiener=wiener))\n",
    "            sim_kwargs.update(base_kwargs)\n",
    "            print(\"\\nSIMRECON BASE KEYWORD ARGUMENTS:\" + str(base_kwargs))\n",
    "            user_text_process += '_w_' + str(wiener)  #+ '_ls_' + str(round(ls,3)) + 'gApo_'+str(gammaApo)+'_supR_'+str(suppressR)+\n",
    "            if filter_tiles:\n",
    "                user_text_process += '_tile_filter_'\n",
    "\n",
    "            #create processed file output name\n",
    "            sim_kwargs[\"output_file\"] = sim_kwargs[\"input_file\"].replace(\".mrc\",'_proc_' + OTF_filename + '_' +\n",
    "                                    user_text_process + \".mrc\")\n",
    "\n",
    "            tile_process_name = sim_kwargs[\"input_file\"].replace(\".mrc\",'_proc_' + OTF_filename + '_' +\n",
    "             user_text_process +  '_tile' + str(tile_size) + \"_pad\" + str(tile_overlap) + \".mrc\") #_tile16' + \"_pad8\" + \".mrc\") \n",
    "# \n",
    "            if len(tile_process_name) > 255:\n",
    "                print(tile_process_name)\n",
    "                print(\"\"\"\\nfilename-directory too long, > 256 characters. solutions to fix this:\n",
    "            1) Rename your file, 2) copy and paste file into higher directory location with less parent directories\"\"\")\n",
    "                break           \n",
    "\n",
    "\n",
    "            if tile_process_name not in done_already:\n",
    "                 \n",
    "\n",
    "                    print('\\nOTF FILENAME: ' +str(OTF_filename) + '\\n')\n",
    "\n",
    "                    print(\"SIM RECON DATA TO SAVE: \" + str(tile_process_name) + \"\\n\" + '\\n' + '\\n')\n",
    "                    #print(tile_limits)\n",
    "                    \n",
    "                    %time sim_output = split_process_recombine(sim_kwargs[\"input_file\"], tile_size, tile_overlap, sim_kwargs, tile_limits=tile_limits)\n",
    "                    # HAD TO EDIT simrecon_utils.py lines 1488 and 1490 and comment out mrc.close() as it was failing.\n",
    "                    \n",
    "                    \n",
    "                    with open(sim_output[0].replace(\".mrc\", \".txt\"), \"w\") as myfile:\n",
    "                        myfile.write(str(sim_kwargs))\n",
    "                        myfile.write(\"\\n\" + \"-\" * 80 + \"\\n\")\n",
    "                        myfile.write(\"\\n\".join(sim_output[1]))\n",
    "                    done_already.add(sim_output[0])\n",
    "                    \n",
    "           \n",
    "            else:\n",
    "                    print('DATASET ALREADY PROCESSED: ' + str(tile_process_name) + '\\n' + '\\n' + '\\n')\n",
    "\n",
    "\n",
    "\n",
    "# #"
   ]
  }
 ],
 "metadata": {
  "anaconda-cloud": {},
  "kernelspec": {
   "display_name": "Python 3 (ipykernel)",
   "language": "python",
   "name": "python3"
  },
  "language_info": {
   "codemirror_mode": {
    "name": "ipython",
    "version": 3
   },
   "file_extension": ".py",
   "mimetype": "text/x-python",
   "name": "python",
   "nbconvert_exporter": "python",
   "pygments_lexer": "ipython3",
   "version": "3.9.12"
  }
 },
 "nbformat": 4,
 "nbformat_minor": 4
}
