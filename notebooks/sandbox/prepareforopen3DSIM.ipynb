{
 "cells": [
  {
   "cell_type": "markdown",
   "metadata": {},
   "source": [
    "##  Format and save data for Open3DSIM\n",
    "\n",
    "Ths notebook reformats the data to the format needed for Open3DSIM and saves it in the Open3DSIM input folder. "
   ]
  },
  {
   "cell_type": "code",
   "execution_count": 2,
   "metadata": {},
   "outputs": [],
   "source": [
    "import numpy as np\n",
    "from tnia.plotting.projections import show_xy_zy_slice_center\n",
    "import mrc as Mrc\n",
    "import sys\n",
    "sys.path.insert(1, r'../../python')\n",
    "from simreconpython.dims_helper import reshape_zdpyx_dpzyx, reshape_zdpyx_dzpyx \n",
    "import os"
   ]
  },
  {
   "cell_type": "markdown",
   "metadata": {},
   "source": [
    "## Define input name, output folder and output name\n",
    "\n",
    "Note:  Since all the ```.mrc``` file names are the same, we may not want to save the file with the file name, but instead use the directory name which is more informative as to what experiment the data came from. "
   ]
  },
  {
   "cell_type": "code",
   "execution_count": 3,
   "metadata": {},
   "outputs": [],
   "source": [
    "\n",
    "raw_name = r'D:\\Janelia\\Data 2024-10-16\\560cm cell 4 _20240627_124604 cropped\\560 nm 615 45 filter 5 phases 0.81 NA React_All Linear SIM_cam1_1.mrc'\n",
    "out_folder = r'C:\\Users\\bnort\\work\\Janelia\\code\\Open3DSIM\\MATLAB_Open_3DSIM\\input'\n",
    "out_name = r'560nm cell 4 _20240627_124604.mrc' \n",
    "\n",
    "raw_name = r'D:\\Janelia\\Data 2024-06-30\\488nm RPE-1 cell 2 2_20240626_165005  Fail\\488 nm 5 phases 0.81 NA React_All Linear SIM_cam1_1.mrc'\n",
    "out_name = r'488nm RPE-1 cell 2 2_20240626_165005.mrc'\n",
    "\n",
    "raw_name = r'D:\\Janelia\\Data 2024-09-23\\488nm new laser and align_20240820_144916\\488 nm 5 phases 0.81 NA React_All Linear SIM_cam1_1.mrc'\n",
    "out_name = r'488nm new laser and align_20240820_144916.mrc'\n",
    "\n",
    "raw_name = r'D:\\Janelia\\Data 2024-09-06\\LID701_ROI4_20231120_162836\\560 nm 5 phases 0.81 NA React_All Linear SIM_cam1_1.mrc'\n",
    "out_name = r'LID701_ROI4_20231120_162836.mrc'\n",
    "\n",
    "raw_name = r'D:\\Janelia\\Data 2024-08-22\\561nm cell 5 good signal_20240627_151300\\560 nm 615 45 filter 5 phases 0.81 NA React_All Linear SIM_cam1_1.mrc'\n",
    "out_name = r'561nm cell 5 good signal_20240627_151300.mrc'\n",
    "\n",
    "raw_mrc = Mrc.Mrc(raw_name)\n",
    "raw = raw_mrc.data"
   ]
  },
  {
   "cell_type": "markdown",
   "metadata": {},
   "source": [
    "## Reshape the data\n",
    "\n",
    "Now reshape the data from z-dir-phase-yx to dir-z-phase-yx (the format Open3DSIM needs)"
   ]
  },
  {
   "cell_type": "code",
   "execution_count": 4,
   "metadata": {},
   "outputs": [],
   "source": [
    "ndirections = 3 \n",
    "nphases = 5\n",
    "nz = raw.shape[0]//(nphases*ndirections)\n",
    "\n",
    "image= reshape_zdpyx_dzpyx(raw, nphases, ndirections)\n",
    "image = image.reshape((ndirections*nz*nphases, raw.shape[1], raw.shape[2]))"
   ]
  },
  {
   "cell_type": "code",
   "execution_count": 5,
   "metadata": {},
   "outputs": [],
   "source": [
    "\n",
    "Mrc.save(image.astype('uint16'), os.path.join(out_folder, out_name), hdr=raw_mrc.hdr, ifExists='overwrite')"
   ]
  },
  {
   "cell_type": "code",
   "execution_count": null,
   "metadata": {},
   "outputs": [],
   "source": []
  }
 ],
 "metadata": {
  "kernelspec": {
   "display_name": "simrecon_python_373",
   "language": "python",
   "name": "python3"
  },
  "language_info": {
   "codemirror_mode": {
    "name": "ipython",
    "version": 3
   },
   "file_extension": ".py",
   "mimetype": "text/x-python",
   "name": "python",
   "nbconvert_exporter": "python",
   "pygments_lexer": "ipython3",
   "version": "3.7.3"
  }
 },
 "nbformat": 4,
 "nbformat_minor": 2
}
