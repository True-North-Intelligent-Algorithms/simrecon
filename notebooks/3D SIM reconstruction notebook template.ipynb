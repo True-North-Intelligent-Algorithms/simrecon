{
 "cells": [
  {
   "cell_type": "markdown",
   "metadata": {},
   "source": [
    "## 3D SIM reconstruction template\n",
    "\n",
    "These are the paths where the code resides.  Python needs this so it can load the various utility and helper functions used in this notebook. \n",
    "\n",
    "This is a template for running 3D SIM reconstruction based on the Janelia Python and c SIM code written by David Hoffman and Lin Shao.\n",
    "\n",
    "We have cleaned up the code a bit and added some additional paremeters that may be useful in some cases. "
   ]
  },
  {
   "cell_type": "markdown",
   "metadata": {},
   "source": [
    "## 1.  Define code paths\n",
    "Currently we hard code these and they need to be modified to run on different machines.  In the future we may move to a more intelligent approach like always having code exist beside the notebooks and using relative imports.  \n",
    "\n",
    "(right now paths are hard-coded for the Janelia machine, and BNs machine where much of the testing has been ongoing)"
   ]
  },
  {
   "cell_type": "code",
   "execution_count": 1,
   "metadata": {},
   "outputs": [
    {
     "name": "stdout",
     "output_type": "stream",
     "text": [
      "Populating the interactive namespace from numpy and matplotlib\n",
      "The autoreload extension is already loaded. To reload it, use:\n",
      "  %reload_ext autoreload\n"
     ]
    }
   ],
   "source": [
    "%pylab inline\n",
    "\n",
    "import tifffile as tif\n",
    "import os\n",
    "import glob\n",
    "%load_ext autoreload\n",
    "%autoreload \n",
    "import shutil\n",
    "\n",
    "# NOTE: BN the below code is from the legacy notebooks.  I am leaving it here for now, as it may be needed on some machines. \n",
    "if 'C:\\\\Users\\\\Cryo SIM-PALM\\\\Documents\\\\GitHub' in sys.path:\n",
    "    sys.path.remove('C:\\\\Users\\\\Cryo SIM-PALM\\\\Documents\\\\GitHub')\n",
    "else:\n",
    "    pass\n",
    "\n",
    "computer = 'bnort'\n",
    "\n",
    "import sys\n",
    "\n",
    "if computer == 'default':\n",
    "    sys.path.insert(1, 'Y:\\Cryo_data2\\Data Processing Notebooks')\n",
    "    sys.path.insert(1, 'Y:\\Cryo_data2\\Data Processing Notebooks\\Scripts')\n",
    "elif computer == 'bnort':\n",
    "    sys.path.insert(1, r'C:\\Users\\bnort\\work\\Janelia\\code\\\\simrecon\\scripts\\Scripts')\n",
    "    sys.path.insert(1, r'C:\\Users\\bnort\\work\\Janelia\\code\\\\simrecon\\scripts')\n",
    "else:\n",
    "    pass\n",
    "\n",
    "import dphutils \n",
    "from simrecon_utils import simrecon, split_process_recombine\n",
    "\n",
    "# import dask\n",
    "import dask\n",
    "from dask.diagnostics import ProgressBar"
   ]
  },
  {
   "cell_type": "markdown",
   "metadata": {},
   "source": [
    "# Setup home directory and OTF directory:\n",
    "\n",
    "In this cell we define two paths. \n",
    "\n",
    "1.  The ```home``` path which defines where the data is.  The home path will be searched recursively.  All ```.mrc``` files that do not have the string ```proc``` in them will be added to a list of files to be processed. \n",
    "\n",
    "2.  The ```otf_path``` directory has the OTFs.  For a file to be processed it must have the wavelength in the file name, and an OTF with the corresponding wavelength must exist. \n",
    "\n",
    "\n",
    "\n",
    "#### Additonal legacy notes (BN: these notes were in the original notebook I got) I'm leaving them in for now in case we need them for troubleshhoting\n",
    "\n",
    "There was an old note \"OTF folder should be placed inside Data processing notebooks\"\n",
    "\n",
    "(BN I don't think this has to be the case, because there are many notebook that define the full OTF path)\n",
    "\n",
    "OTF Folder directory should be e.g.:   Y:\\Cryo_data2\\Data Processing Notebooks\\SIM PSFs OTFs\n",
    "\n",
    "Raw data from V-SIM data acquisition should be placed inside a dated folder here:   'Y:\\Cryo_data2\\ORCA_data\\3D SIM Cells' \n",
    "\n",
    "with data file directory structure e.g.: 'Y:\\Cryo_data2\\ORCA_data\\3D SIM Cells\\20240322\\488 nm 5 phases 0.81 NA Linear SIM_cam1_0.mrc'"
   ]
  },
  {
   "cell_type": "code",
   "execution_count": 2,
   "metadata": {},
   "outputs": [
    {
     "data": {
      "text/plain": [
       "{560: ['D:\\\\Janelia\\\\Data 2024-09-23\\\\Brians OTF\\\\560 201909_19-20_best.mrc'],\n",
       " 532: ['D:\\\\Janelia\\\\Data 2024-09-23\\\\Brians OTF\\\\532 OTF Bead 3_20190920_154920.mrc'],\n",
       " 488: ['D:\\\\Janelia\\\\Data 2024-09-23\\\\Brians OTF\\\\488 nmLinOTF0_mask.mrc'],\n",
       " 642: ['D:\\\\Janelia\\\\Data 2024-09-23\\\\Brians OTF\\\\642 20240611_125236_best.mrc']}"
      ]
     },
     "execution_count": 2,
     "metadata": {},
     "output_type": "execute_result"
    }
   ],
   "source": [
    "if computer == 'default': \n",
    "    home = r'Y:\\Cryo_data2\\488nm comparison TILED VS Non-Tiled at different base kwarg settings'\n",
    "    otf_path = r'Y:\\Seyforth\\Data For Brian\\Cryo-SIM Scope #2 Data (James System)\\PSFs (best PSFs and examples of bad ones)\\BEAD 2 - NON-AR 1.2W 25ms retake_20240503_170242 BEST PSF!!\\computed_OTF_folder'\n",
    "elif computer == 'bnort':\n",
    "    #home = r'D:\\Janelia\\Data 2024-06-06\\Wiener, gammaApo and SupressR parameter testing\\488nm comparison Brian'\n",
    "    #home = r'D:\\Janelia\\Data 2024-10-02\\560cm cell 4 _20240627_124604'\n",
    "    home = r'D:\\Janelia\\Data 2024-10-10'\n",
    "    home = r'D:\\Janelia\\gold_standard_set\\position 3 nice cells 561nm 4.74um stack_20240530_153702'\n",
    "    \n",
    "    #otf_path = r'D:\\Janelia\\Data 2024-06-06\\Wiener, gammaApo and SupressR parameter testing\\OTF\\BEAD 2 - NON-AR 1.2W 25ms retake_20240503_170242 BEST PSF!!\\computed_OTF_folder'\n",
    "    otf_path = r'D:\\Janelia\\Data 2024-06-03\\PSF-OTF used (Davids set of 4 wavelengths)\\201909_19-20_best'\n",
    "    otf_path = r'C:\\Users\\bnort\\work\\Janelia\\ims\\OTF_folder'\n",
    "    otf_path = r'C:\\Users\\bnort\\work\\Janelia\\ims\\OTFs_mixed'\n",
    "    otf_path = r'D:\\Janelia\\Data 2024-09-23\\Brians OTF'\n",
    "OTFpath = os.path.join(otf_path,\"*{}*.mrc\")\n",
    "OTFs = {wl : [path for path in glob.iglob(OTFpath.format(wl))] for wl in (560, 532, 488, 642)}\n",
    "OTFs"
   ]
  },
  {
   "cell_type": "markdown",
   "metadata": {},
   "source": [
    "## Set default params\n",
    "\n",
    "Here we set the default params that will be used if none of them are overwritten.\n",
    "\n",
    "Note that before calling the non-tiled and/or tiled processing code a small subset of parameters will be overwritten to values optimized for non-tiled/tiled processing"
   ]
  },
  {
   "cell_type": "code",
   "execution_count": 14,
   "metadata": {},
   "outputs": [],
   "source": [
    "# David Solecki's suggestion: wiener=0.007 gammaApo=0.7 and suppressR=15\n",
    "# original values by D.Hoffman: wiener=0.001 gammaApo=0.1 and suppressR=1.5\n",
    "\n",
    "base_kwargs = dict(\n",
    "                    nphases=5,\n",
    "                    ndirs=3,\n",
    "                    angle0= 1.29,\n",
    "                    negDangle=True,              # James made False to try experiment\n",
    "                    na= 0.85,\n",
    "                    nimm= 1.0,\n",
    "                    zoomfact= 2.0, \n",
    "                    background= 100.0,           # james experiment was 100.0\n",
    "                    wiener= 0.007,\n",
    "                    fastSIM=True,\n",
    "                    otfRA= True,\n",
    "                    dampenOrder0=True,\n",
    "                    k0searchall=True,\n",
    "                    equalizez=True,\n",
    "                    preciseapo=True,\n",
    "                    gammaApo=0.7,\n",
    "                    suppressR=15.0,\n",
    "                    nthreads = 1 \n",
    "                )\n",
    "\n",
    "def return_wl_otfs(path):\n",
    "    if \"488 Exc 532 Em\" in path:\n",
    "        wl = 532\n",
    "    elif \"488 Exc 642 Em\" in path:\n",
    "        wl = 642\n",
    "    elif \"532 Exc 561 Em\" in path:\n",
    "        wl = 561\n",
    "    elif \"560 nm\" in path:\n",
    "        wl = 560\n",
    "    elif \"488 nm\" in path:\n",
    "        wl = 488\n",
    "    elif \"532 nm\" in path:\n",
    "        wl = 532\n",
    "    elif \"642 nm\" in path:\n",
    "        wl = 642\n",
    "\n",
    "    else:\n",
    "        raise RuntimeError(\"no matching filename wavelength found, fix directory or filename or code\")\n",
    "    return wl, OTFs[wl]"
   ]
  },
  {
   "cell_type": "markdown",
   "metadata": {},
   "source": [
    "## Tweak params and set advanced params\n",
    "\n",
    "We tweak the commonly used params (```gammaApo```, ```supressR``` and ```wiener```) and then set some advanced params. \n",
    "\n",
    "* ```nofilteroverlaps```: If false we do not mix the overlapping regions of each direction and order.  The theoretically optimal processing weights the frequency components of each band and order by the magnitude of the OTF at that component.  Since bands and orders overlap there can be multiple frequency components at each location and the final component is a OTF weighted mix.  If ```nofilteroverlaps``` is false components will be added together without weighting.  In some cases we have found this results in higher contrast and less striping.  While this result may seem counterintuitive the mixing approach may be sensitive to errors in the OTF (use with care). \n",
    "* ```forcemodamp```: This parameter forces the modulation amplitude to be a specific value.  In some cases we have found that using ```[1.0 0.1]``` combined with the ```nofilteroverlaps``` option results in better contrast and less striping. \n",
    "* ```forceotfamp``` this option is similar to ```forcemodamp``` but it controls how heavilly the order 1 and order 2 OTF is weighted. "
   ]
  },
  {
   "cell_type": "code",
   "execution_count": 4,
   "metadata": {},
   "outputs": [],
   "source": [
    "\n",
    "gammaApo = 0.3\n",
    "suppressR = 10 \n",
    "wiener = 0.001 \n",
    "    \n",
    "base_kwargs.update(dict(gammaApo=gammaApo, suppressR=suppressR, wiener=wiener))   # default Full frame Recon. parameters    \n",
    "\n",
    "user_text = 'gApo_'+str(gammaApo)+'_supR_'+str(suppressR)+'_w_'+str(wiener) \n",
    "\n",
    "nofilteroverlaps =False \n",
    "forcemodamp = False\n",
    "forceotfamp = False\n",
    "\n",
    "if nofilteroverlaps==True:\n",
    "    user_text += '_nofilteroverlaps'\n",
    "    base_kwargs.update(dict(nofilteroverlaps=nofilteroverlaps))   # default Full frame Recon. parameters    \n",
    "\n",
    "if forcemodamp:\n",
    "    o1 = 1.0\n",
    "    o2 = 0.1\n",
    "    user_text += '_forcemodamp_'+str(o1)+'_'+str(o2)\n",
    "    forcemodamp = [o1, o2]\n",
    "    base_kwargs.update(dict(forcemodamp=forcemodamp))   # default Full frame Recon. parameters    \n",
    "\n",
    "if forceotfamp:\n",
    "    o1 = 1\n",
    "    o2 = 10\n",
    "    user_text += '_forceotfamp_'+str(o1)+'_'+str(o2)\n",
    "    forceotfamp = [o1, o2]\n",
    "    base_kwargs.update(dict(otfamp=forceotfamp))\n",
    "\n"
   ]
  },
  {
   "cell_type": "markdown",
   "metadata": {},
   "source": [
    "## remove old processed data\n",
    "\n",
    "This is commented out, but I assume we comment back in if we want to erase the previous run"
   ]
  },
  {
   "cell_type": "code",
   "execution_count": 5,
   "metadata": {},
   "outputs": [
    {
     "data": {
      "text/plain": [
       "'python\\n# clear processed\\nfor path in glob.glob(home + \"/*/*proc *.mrc\"):\\n    os.remove(path)\\nfor path in glob.glob(home + \"/*/*proc *.txt\"):\\n    os.remove(path)\\n'"
      ]
     },
     "execution_count": 5,
     "metadata": {},
     "output_type": "execute_result"
    }
   ],
   "source": [
    "'''python\n",
    "# clear processed\n",
    "for path in glob.glob(home + \"/*/*proc *.mrc\"):\n",
    "    os.remove(path)\n",
    "for path in glob.glob(home + \"/*/*proc *.txt\"):\n",
    "    os.remove(path)\n",
    "'''"
   ]
  },
  {
   "cell_type": "markdown",
   "metadata": {},
   "source": [
    "# Define ```process``` function that uses DASK and simrecon package\n",
    "\n",
    "This function is annotated as a dask ```delayed``` function.  Which means it will not be called right away but put in a queue to call using dask. "
   ]
  },
  {
   "cell_type": "code",
   "execution_count": 6,
   "metadata": {},
   "outputs": [],
   "source": [
    "@dask.delayed\n",
    "def process(sim_kwargs, output_file_name):\n",
    "    sim_output = simrecon(**sim_kwargs)\n",
    "    with open(output_file_name.replace(\".mrc\", \".txt\"), \"w\") as myfile:\n",
    "        myfile.write(str(sim_kwargs))\n",
    "        myfile.write(\"\\n\".join(sim_output))\n",
    "    return output_file_name"
   ]
  },
  {
   "cell_type": "markdown",
   "metadata": {},
   "source": [
    "# Check for processed data\n",
    "\n",
    "The cell below checks for raw data which has already been processed using full frame SIM reconstruction algorithm"
   ]
  },
  {
   "cell_type": "code",
   "execution_count": 7,
   "metadata": {},
   "outputs": [
    {
     "name": "stdout",
     "output_type": "stream",
     "text": [
      "Data processed already: \n",
      "\n"
     ]
    }
   ],
   "source": [
    "done_already = set(glob.iglob(home + \"/**/*proc*.mrc\", recursive = True))\n",
    "done_already;\n",
    "done_already = set()     # do this if want to re-process\n",
    "print('Data processed already: \\n')\n",
    "\n",
    "for i in done_already:\n",
    "    print(i + '\\n')"
   ]
  },
  {
   "cell_type": "markdown",
   "metadata": {},
   "source": [
    "## Set up data to be processed\n",
    "\n",
    "This cell loops through the ```mrc``` files, looks for an OTF that matches the wavelength in the file name (via ```return_wl_otfs```), makes sure ```proc``` is not in the name, then adds the ```dask.delayed``` ```process``` function to the ```to_process``` list.  The processing will occur in the next cell. "
   ]
  },
  {
   "cell_type": "code",
   "execution_count": 8,
   "metadata": {
    "scrolled": false
   },
   "outputs": [
    {
     "name": "stdout",
     "output_type": "stream",
     "text": [
      "Data to process D:\\Janelia\\gold_standard_set\\position 3 nice cells 561nm 4.74um stack_20240530_153702\\560 nm 655 40 filter 5 phases 0.81 NA React_All Linear SIM_cam1_1.mrc\n",
      "\n",
      "OTF filename: 560 201909_19-20_best\n",
      "\n",
      "\n",
      "SIM recon Data to save:\n",
      "D:\\Janelia\\gold_standard_set\\position 3 nice cells 561nm 4.74um stack_20240530_153702\\560 nm 655 40 filter 5 phases 0.81 NA React_All Linear SIM_cam1_1_proc560 201909_19-20_best_gApo_0.3_supR_10_w_0.001.mrc\n",
      "\n"
     ]
    }
   ],
   "source": [
    "to_process = []\n",
    "\n",
    "for raw in glob.iglob(home + \"/**/*SIM*.mrc\", recursive = True):\n",
    "    wl, otfs = return_wl_otfs(raw)\n",
    "    for otf in otfs:\n",
    "        if \"proc\" not in raw:\n",
    "            print('Data to process ' +str(raw))\n",
    "            # Test with actually measured OTF\n",
    "            sim_kwargs = dict(                                                                                                            \n",
    "                input_file= raw,\n",
    "                otf_file= otf,\n",
    "                ls= (wl/1000)/2/0.81,)\n",
    "            \n",
    "            sim_kwargs.update(base_kwargs)\n",
    "            OTF_filename = os.path.split(otf)[1].split('.')[0]\n",
    "            print('\\nOTF filename: ' +str(OTF_filename))\n",
    "                \n",
    "            #create processed file output name\n",
    "            sim_kwargs[\"output_file\"] = sim_kwargs[\"input_file\"].replace(\".mrc\", '_proc' + OTF_filename + '_' \n",
    "                                                                         + user_text + \".mrc\")\n",
    "                \n",
    "            if sim_kwargs[\"output_file\"] not in done_already:\n",
    "                print(\"\\n\\nSIM recon Data to save:\" + '\\n' + str(sim_kwargs[\"output_file\"]) + '\\n')\n",
    "                to_process.append(process(sim_kwargs, sim_kwargs[\"output_file\"]))"
   ]
  },
  {
   "cell_type": "markdown",
   "metadata": {},
   "source": [
    "# Cell below runs all files for full frame reconstruction and progress using DASK\n",
    "\n",
    "This cell will start and run the processing.  We use dask to compute our processing queue that was set up in the cell above."
   ]
  },
  {
   "cell_type": "code",
   "execution_count": 9,
   "metadata": {
    "scrolled": true
   },
   "outputs": [
    {
     "name": "stdout",
     "output_type": "stream",
     "text": [
      "[Delayed('process-3069a60d-82e5-45f3-aac1-8107d4a7d1b2')]\n",
      "[########################################] | 100% Completed |  2min 28.4s\n"
     ]
    }
   ],
   "source": [
    "with ProgressBar():\n",
    "    print(to_process)\n",
    "    out_names = done_already.update(*dask.compute(to_process))"
   ]
  },
  {
   "cell_type": "markdown",
   "metadata": {},
   "source": [
    "# Check for data allready processed with tiling\n",
    "\n",
    "Cell below checks for data already processed using the tiledreconstruction method, cell below that creates list of data to be set to done already, i.e. already processed\n"
   ]
  },
  {
   "cell_type": "code",
   "execution_count": 10,
   "metadata": {},
   "outputs": [
    {
     "name": "stdout",
     "output_type": "stream",
     "text": [
      "D:\\Janelia\\gold_standard_set\\position 3 nice cells 561nm 4.74um stack_20240530_153702\\560 nm 655 40 filter 5 phases 0.81 NA React_All Linear SIM_cam1_1.mrc\n",
      "D:\\Janelia\\gold_standard_set\\position 3 nice cells 561nm 4.74um stack_20240530_153702\\560 nm 655 40 filter 5 phases 0.81 NA React_All Linear SIM_cam1_1_proc560 201909_19-20_best_gApo_0.3_supR_10_w_0.001.mrc\n",
      "D:\\Janelia\\gold_standard_set\\position 3 nice cells 561nm 4.74um stack_20240530_153702\\560 nm 655 40 filter 5 phases 0.81 NA React_All Linear SIM_cam1_1_proc560 OTF Bead 3_20190920_154442_gApo_0.3_supR_10_w_0.001.mrc\n",
      "D:\\Janelia\\gold_standard_set\\position 3 nice cells 561nm 4.74um stack_20240530_153702\\560 nm 655 40 filter 5 phases 0.81 NA React_All Linear SIM_cam1_1_proc_560 OTF Bead 3_20190920_154442_gApo_0.3_supR_0.5_w_0.001_tile16_pad8.mrc\n",
      "D:\\Janelia\\gold_standard_set\\position 3 nice cells 561nm 4.74um stack_20240530_153702\\560 nm 655 40 filter 5 phases 0.81 NA React_All Linear SIM_cam1_1_proc_560 OTF Bead 3_20190920_154442_gApo_0.3_supR_1.5_w_0.001_tile32_pad16.mrc\n",
      "D:\\Janelia\\gold_standard_set\\position 3 nice cells 561nm 4.74um stack_20240530_153702\\560 nm 655 40 filter 5 phases 0.81 NA React_All Linear SIM_cam1_1_proc_560 OTF Bead 3_20190920_154442_gApo_0.3_supR_1.5_w_0.001_tile64_pad32.mrc\n",
      "D:\\Janelia\\gold_standard_set\\position 3 nice cells 561nm 4.74um stack_20240530_153702\\560 nm 655 40 filter 5 phases 0.81 NA React_All Linear SIM_cam1_1_proc_560 OTF Bead 3_20190920_154442_gApo_0.5_supR_1.0_w_0.001_tile16_pad8.mrc\n",
      "D:\\Janelia\\gold_standard_set\\position 3 nice cells 561nm 4.74um stack_20240530_153702\\ORIGINAL SIMRECON 560 nm 655 40 filter 5 phases 0.81 NA React_All Linear SIM_cam1_1_proc_560 201909_19-20_best_gApo_0.5_supR_1.0_w_0.001dampen_0_on_tile16_pad8.mrc\n"
     ]
    }
   ],
   "source": [
    "for path in glob.glob(home + \"/*/*_tile64_pad32*\"):\n",
    "    done_already.add(path.replace(\"_tile64_pad32\", \"\") + \"__split__\")\n",
    "\n",
    "[path for path in done_already if \"_tile64_pad32\" in path]\n",
    "\n",
    "for raw in glob.iglob(home + \"/**/*SIM*.mrc\", recursive = True):\n",
    "    print(raw)"
   ]
  },
  {
   "cell_type": "code",
   "execution_count": 11,
   "metadata": {},
   "outputs": [
    {
     "name": "stdout",
     "output_type": "stream",
     "text": [
      "D:\\Janelia\\gold_standard_set\\position 3 nice cells 561nm 4.74um stack_20240530_153702\n",
      "[]\n"
     ]
    }
   ],
   "source": [
    "print(home)\n",
    "print(glob.glob(home + \"/**/*SIM_*.mrc\"))"
   ]
  },
  {
   "cell_type": "markdown",
   "metadata": {},
   "source": [
    "# Run tiled reconstruction\n",
    "\n",
    "Note:  Optimal settings are slightly different for tiled reconstruction and adjusted here.  \n",
    "\n",
    "```tile_size``` and ```tile_overlap``` can also be adjusted in this cell.\n",
    "\n",
    "Set ```filter_tiles``` to true will use the ```tile_limits``` dictionary to constrain the line spacings, angles, and amplitudes.  Line spacing is the inverse of the frequency magnitude vector. "
   ]
  },
  {
   "cell_type": "code",
   "execution_count": null,
   "metadata": {},
   "outputs": [],
   "source": []
  },
  {
   "cell_type": "code",
   "execution_count": 15,
   "metadata": {
    "scrolled": false
   },
   "outputs": [
    {
     "name": "stdout",
     "output_type": "stream",
     "text": [
      "D:\\Janelia\\gold_standard_set\\position 3 nice cells 561nm 4.74um stack_20240530_153702\\560 nm 655 40 filter 5 phases 0.81 NA React_All Linear SIM_cam1_1.mrc\n",
      "\n",
      "File to be processed: D:\\Janelia\\gold_standard_set\\position 3 nice cells 561nm 4.74um stack_20240530_153702\\560 nm 655 40 filter 5 phases 0.81 NA React_All Linear SIM_cam1_1.mrc\n"
     ]
    },
    {
     "data": {
      "application/vnd.jupyter.widget-view+json": {
       "model_id": "547c914079374a4db54300776df827f5",
       "version_major": 2,
       "version_minor": 0
      },
      "text/plain": [
       "  0%|          | 0/64 [00:00<?, ?it/s]"
      ]
     },
     "metadata": {},
     "output_type": "display_data"
    },
    {
     "data": {
      "application/vnd.jupyter.widget-view+json": {
       "model_id": "16e11c8b3b254df384f54890b6f1c564",
       "version_major": 2,
       "version_minor": 0
      },
      "text/plain": [
       "Splitting and saving data:   0%|          | 0/4096 [00:00<?, ?it/s]"
      ]
     },
     "metadata": {},
     "output_type": "display_data"
    },
    {
     "name": "stdout",
     "output_type": "stream",
     "text": [
      "[########################################] | 100% Completed | 57.8s\n"
     ]
    },
    {
     "data": {
      "application/vnd.jupyter.widget-view+json": {
       "model_id": "2dc785f0e1e748b5ad123faddc6f72e6",
       "version_major": 2,
       "version_minor": 0
      },
      "text/plain": [
       "Reading back processed:   0%|          | 0/4096 [00:00<?, ?it/s]"
      ]
     },
     "metadata": {},
     "output_type": "display_data"
    },
    {
     "data": {
      "application/vnd.jupyter.widget-view+json": {
       "model_id": "05034c28d4d94112ba9f967b9c453390",
       "version_major": 2,
       "version_minor": 0
      },
      "text/plain": [
       "Recombining:   0%|          | 0/4096 [00:00<?, ?it/s]"
      ]
     },
     "metadata": {},
     "output_type": "display_data"
    },
    {
     "name": "stdout",
     "output_type": "stream",
     "text": [
      "MRC Raw data file is still open\n",
      "MRC temp data file is still open\n",
      "MRC Raw data file is now closed\n",
      "MRC temp data file is now closed\n",
      "D:\\Janelia\\gold_standard_set\\position 3 nice cells 561nm 4.74um stack_20240530_153702\\560 nm 655 40 filter 5 phases 0.81 NA React_All Linear SIM_cam1_1_proc560 201909_19-20_best_gApo_0.3_supR_10_w_0.001.mrc\n",
      "D:\\Janelia\\gold_standard_set\\position 3 nice cells 561nm 4.74um stack_20240530_153702\\560 nm 655 40 filter 5 phases 0.81 NA React_All Linear SIM_cam1_1_proc560 OTF Bead 3_20190920_154442_gApo_0.3_supR_10_w_0.001.mrc\n",
      "D:\\Janelia\\gold_standard_set\\position 3 nice cells 561nm 4.74um stack_20240530_153702\\560 nm 655 40 filter 5 phases 0.81 NA React_All Linear SIM_cam1_1_proc_560 201909_19-20_best_gApo_0.5_supR_1.0_w_0.001_tile16_pad8.mrc\n",
      "D:\\Janelia\\gold_standard_set\\position 3 nice cells 561nm 4.74um stack_20240530_153702\\560 nm 655 40 filter 5 phases 0.81 NA React_All Linear SIM_cam1_1_proc_560 OTF Bead 3_20190920_154442_gApo_0.3_supR_0.5_w_0.001_tile16_pad8.mrc\n",
      "D:\\Janelia\\gold_standard_set\\position 3 nice cells 561nm 4.74um stack_20240530_153702\\560 nm 655 40 filter 5 phases 0.81 NA React_All Linear SIM_cam1_1_proc_560 OTF Bead 3_20190920_154442_gApo_0.3_supR_1.5_w_0.001_tile32_pad16.mrc\n",
      "D:\\Janelia\\gold_standard_set\\position 3 nice cells 561nm 4.74um stack_20240530_153702\\560 nm 655 40 filter 5 phases 0.81 NA React_All Linear SIM_cam1_1_proc_560 OTF Bead 3_20190920_154442_gApo_0.3_supR_1.5_w_0.001_tile64_pad32.mrc\n",
      "D:\\Janelia\\gold_standard_set\\position 3 nice cells 561nm 4.74um stack_20240530_153702\\560 nm 655 40 filter 5 phases 0.81 NA React_All Linear SIM_cam1_1_proc_560 OTF Bead 3_20190920_154442_gApo_0.5_supR_1.0_w_0.001_tile16_pad8.mrc\n",
      "D:\\Janelia\\gold_standard_set\\position 3 nice cells 561nm 4.74um stack_20240530_153702\\ORIGINAL SIMRECON 560 nm 655 40 filter 5 phases 0.81 NA React_All Linear SIM_cam1_1_proc_560 201909_19-20_best_gApo_0.5_supR_1.0_w_0.001dampen_0_on_tile16_pad8.mrc\n"
     ]
    }
   ],
   "source": [
    "#%%time\n",
    "\n",
    "gammaApo = 0.5\n",
    "suppressR = 1.0\n",
    "wiener = 0.001\n",
    "done_already = set()\n",
    "base_kwargs.update(dict(gammaApo=gammaApo, suppressR=suppressR, wiener=wiener)) # default tiling Recon. parameters\n",
    "\n",
    "user_text = 'gApo_'+str(gammaApo)+'_supR_'+str(suppressR)+'_w_'+str(wiener)\n",
    "\n",
    "if nofilteroverlaps==True:\n",
    "    user_text += '_nofilteroverlaps'\n",
    "    base_kwargs.update(dict(nofilteroverlaps=nofilteroverlaps))   # default Full frame Recon. parameters    \n",
    "\n",
    "if forcemodamp:\n",
    "    o1 = 1.0\n",
    "    o2 = 0.1\n",
    "    user_text += '_forcemodamp_'+str(o1)+'_'+str(o2)\n",
    "    forcemodamp = [o1, o2]\n",
    "    base_kwargs.update(dict(forcemodamp=forcemodamp))   # default Full frame Recon. parameters    \n",
    "\n",
    "if forceotfamp:\n",
    "    o1 = 1\n",
    "    o2 = 10\n",
    "    user_text += '_forceotfamp_'+str(o1)+'_'+str(o2)\n",
    "    forceotfamp = [o1, o2]\n",
    "    base_kwargs.update(dict(otfamp=forceotfamp))\n",
    "\n",
    "\n",
    "tile_size = 16\n",
    "tile_overlap = 8\n",
    "\n",
    "filter_tiles = False\n",
    "         \n",
    "if filter_tiles:\n",
    "    user_text=user_text+'_filter_tiles'\n",
    "\n",
    "    tile_limits = {}\n",
    "   \n",
    "    tile_limits['spacing_min'] = 0.31\n",
    "    tile_limits['spacing_max'] = 0.33\n",
    "    tile_limits['spacing_default']=0.315\n",
    "    tile_limits['angle_min'] = 1.0\n",
    "    tile_limits['angle_max'] = 2.0\n",
    "    tile_limits['angle_default'] = 1.36\n",
    "    tile_limits['amp1_min'] = 0.9\n",
    "    tile_limits['amp1_max'] = 1.1\n",
    "    tile_limits['amp1_default'] = 1.0\n",
    "    tile_limits['amp2_min'] = 0.9\n",
    "    tile_limits['amp2_max'] = 1.1\n",
    "    tile_limits['amp2_default'] = 1.0\n",
    "else:\n",
    "    tile_limits = None\n",
    "\n",
    "for raw in glob.iglob(home + \"/**/*SIM*.mrc\", recursive = True):\n",
    "    wl, otfs = return_wl_otfs(raw)\n",
    "    print(raw)\n",
    "    \n",
    "    for otf in otfs:\n",
    "        if \"proc\" not in raw:                  #checks for if data was already processed\n",
    "            if \"_tile64_pad32\" not in raw:       #checks for if data was already processed using tiling method\n",
    "                print(\"\\nFile to be processed: \" + str(raw))\n",
    "                # Test with actually measured OTF\n",
    "                sim_kwargs = dict(\n",
    "                    input_file= raw,\n",
    "                    otf_file= otf,\n",
    "                    ls= (wl/1000)/2/0.81\n",
    "                    #ls = .315\n",
    "                )\n",
    "                sim_kwargs.update(base_kwargs)\n",
    "                \n",
    "                OTF_filename = os.path.split(otf)[1].split('.')[0]\n",
    "                \n",
    "                #create processed file output name\n",
    "                out_name = sim_kwargs[\"output_file\"] = sim_kwargs[\"input_file\"].replace(\".mrc\",'_proc_' + OTF_filename + '_' +\n",
    "                                                                          user_text + \".mrc\")\n",
    "                \n",
    "                # perform reconstruction and output recon image file and text file\n",
    "              \n",
    "                out_name += \"__split__\"\n",
    "                \n",
    "                try:\n",
    "                    if out_name not in done_already:\n",
    "                        #print(sim_kwargs[\"input_file\"])\n",
    "                        sim_output = split_process_recombine(sim_kwargs[\"input_file\"], tile_size, tile_overlap, sim_kwargs, tile_limits=tile_limits)\n",
    "                        # HAD TO EDIT simrecon_utils.py lines 1488 and 1490 and comment out mrc.close() as it was failing.\n",
    "                        with open(sim_output[0].replace(\".mrc\", \".txt\"), \"w\") as myfile:\n",
    "                            myfile.write(str(sim_kwargs))\n",
    "                            myfile.write(\"\\n\" + \"-\" * 80 + \"\\n\")\n",
    "                            myfile.write(\"\\n\".join(sim_output[1]))\n",
    "\n",
    "                    done_already.add(out_name)\n",
    "                    for path in glob.glob(home + \"/*/*_tile64_pad32*\"):\n",
    "                        done_already.add(path.replace(\"_tile64_pad32\", \"\") + \"__split__\")\n",
    "                except:\n",
    "                    print('Error processing ' + str(raw))\n",
    "                    continue"
   ]
  },
  {
   "cell_type": "markdown",
   "metadata": {},
   "source": [
    "###### from simrecon_utils import process_txt_output, plot_params"
   ]
  },
  {
   "cell_type": "code",
   "execution_count": null,
   "metadata": {
    "scrolled": false
   },
   "outputs": [],
   "source": [
    "dst = \"Tiled Parameters/\"\n",
    "try:\n",
    "    os.mkdir(dst)\n",
    "except FileExistsError:\n",
    "    pass\n",
    "for raw in glob.iglob(home + \"/*/*SIM*tile*.txt\"):\n",
    "    with open(raw) as f:\n",
    "        fig, axs = plot_params(process_txt_output(\"\".join(f.readlines())))\n",
    "        fig.savefig(dst + os.path.abspath(raw).split(os.path.sep)[-2] + \".png\", dpi=300, bbox_inches=\"tight\")"
   ]
  },
  {
   "cell_type": "code",
   "execution_count": null,
   "metadata": {},
   "outputs": [],
   "source": [
    "print(\"done!\")"
   ]
  },
  {
   "cell_type": "markdown",
   "metadata": {},
   "source": [
    "# Renaming 3D SIM files for DropBox"
   ]
  },
  {
   "cell_type": "code",
   "execution_count": null,
   "metadata": {},
   "outputs": [],
   "source": [
    "for wl in (\"488 nm\", \"532 nm\", \"560 nm\", \"642 nm\"):\n",
    "    curdir = os.path.split(os.path.abspath(os.curdir))[1]\n",
    "    glob_str = \"F:/ORCA_Data/{}/3D SIM Cells/*{}*/*{}.mrc\".format(curdir, \"\", \"{}*SIM*proc*\".format(wl))\n",
    "    for path in sorted(glob.glob(glob_str)):\n",
    "        print(path)\n",
    "        path_head, path_tail = os.path.split(path)\n",
    "        path_head_new, path_tail_new = os.path.split(path_head)\n",
    "        file_root = path_tail_new.split(\"_\")[0]+' '+path_tail_new.split(\"_\")[1]\n",
    "\n",
    "        OTF = path_tail.split('_OTF')[-1]\n",
    "        proc = OTF.split('_proc')[-1]\n",
    "        if proc == '.mrc':\n",
    "            OTF = proc = OTF.split('_proc')[0] + '.mrc'\n",
    "        new_path = os.path.join(path_head_new, file_root + ' wl'+wl.split(' ')[0]+' proc_with_OTF' + OTF)\n",
    "        print(new_path)\n",
    "        print('')\n",
    "        \n",
    "        shutil.copyfile(path,new_path)"
   ]
  },
  {
   "cell_type": "code",
   "execution_count": null,
   "metadata": {},
   "outputs": [],
   "source": []
  }
 ],
 "metadata": {
  "anaconda-cloud": {},
  "kernelspec": {
   "display_name": "simrecon_python_373",
   "language": "python",
   "name": "python3"
  },
  "language_info": {
   "codemirror_mode": {
    "name": "ipython",
    "version": 3
   },
   "file_extension": ".py",
   "mimetype": "text/x-python",
   "name": "python",
   "nbconvert_exporter": "python",
   "pygments_lexer": "ipython3",
   "version": "3.7.3"
  }
 },
 "nbformat": 4,
 "nbformat_minor": 2
}
