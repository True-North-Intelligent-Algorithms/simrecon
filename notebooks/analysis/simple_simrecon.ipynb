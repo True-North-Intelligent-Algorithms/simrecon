{
 "cells": [
  {
   "cell_type": "markdown",
   "metadata": {},
   "source": [
    "## Simple SIM recon \n",
    "\n",
    "This notebook is used to call simrecon on a single image and PSF pair without directory parsing."
   ]
  },
  {
   "cell_type": "markdown",
   "metadata": {},
   "source": [
    "## 1.  Define code paths\n",
    "Currently we hard code these and they need to be modified to run on different machines.  In the future we may move to a more intelligent approach like always having code exist beside the notebooks and using relative imports.  "
   ]
  },
  {
   "cell_type": "code",
   "execution_count": 2,
   "metadata": {},
   "outputs": [
    {
     "name": "stdout",
     "output_type": "stream",
     "text": [
      "Populating the interactive namespace from numpy and matplotlib\n",
      "The autoreload extension is already loaded. To reload it, use:\n",
      "  %reload_ext autoreload\n"
     ]
    }
   ],
   "source": [
    "%pylab inline\n",
    "%load_ext autoreload\n",
    "%autoreload \n",
    "\n",
    "import tifffile as tif\n",
    "import os\n",
    "import sys\n",
    "import numpy as np\n",
    "\n",
    "computer = 'bnort'\n",
    "\n",
    "if computer == 'default':\n",
    "    sys.path.insert(1, 'Y:\\Cryo_data2\\Data Processing Notebooks')\n",
    "    sys.path.insert(1, 'Y:\\Cryo_data2\\Data Processing Notebooks\\Scripts')\n",
    "elif computer == 'bnort':\n",
    "    sys.path.insert(1, r'C:\\Users\\bnort\\work\\Janelia\\code\\\\simrecon\\scripts\\Scripts')\n",
    "    sys.path.insert(1, r'C:\\Users\\bnort\\work\\Janelia\\code\\\\simrecon\\scripts')\n",
    "else:\n",
    "    pass\n",
    "\n",
    "from simrecon_utils import simrecon"
   ]
  },
  {
   "cell_type": "code",
   "execution_count": 3,
   "metadata": {},
   "outputs": [
    {
     "name": "stdout",
     "output_type": "stream",
     "text": [
      "C:\\Users\\bnort\\work\\Janelia\\ims\\computed_OTF_folder\\488nmLinOTF0_nomask2.mrc\n",
      "D:\\Janelia\\Data 2024-06-06\\Wiener, gammaApo and SupressR parameter testing\\488nm comparison Brian\\CELL 4 - 1.0W 300ms updated HWPQWP pos_20240503_115909\\488 nm 5 phases 0.81 NA React_All Linear SIM_cam1_1.mrc\n"
     ]
    }
   ],
   "source": [
    "input_name = r'D:\\Janelia\\Data For Brian\\Cryo-SIM Scope #2 Data (James System)\\Not Anti-reflection coated\\Successful samples\\CELL 4 - 1.0W 300ms updated HWPQWP\\488 nm 5 phases 0.81 NA React_All Linear SIM_cam1_1.mrc'\n",
    "input_name = r'D:\\Janelia\\Data 2024-06-30\\488cm cell 5 good signal_20240627_131236  Fail\\488 nm 5 phases 0.81 NA React_All Linear SIM_cam1_1.mrc'\n",
    "input_name = r'D:\\Janelia\\Data 2024-06-06\\Wiener, gammaApo and SupressR parameter testing\\488nm comparison Brian\\CELL 4 - 1.0W 300ms updated HWPQWP pos_20240503_115909\\488 nm 5 phases 0.81 NA React_All Linear SIM_cam1_1.mrc'\n",
    "otf_name = r'D:\\Janelia\\Data 2024-06-03\\PSF-OTF used (Davids set of 4 wavelengths)\\201909_19-20_best\\488 OTF Bead 8_20190919_141256.mrc'\n",
    "#otf_name = r'C:\\Users\\bnort\\work\\Janelia\\ims\\computed_OTF_folder\\488nmLin403OTF0.mrc'\n",
    "#otf_name = r'C:\\Users\\bnort\\work\\Janelia\\ims\\computed_OTF_folder\\488nmLinOTF0.mrc'\n",
    "#otf_name = r'C:\\Users\\bnort\\work\\Janelia\\ims\\computed_OTF_folder\\488nmLinOTF0bn_oldroi_mask.mrc'\n",
    "otf_name = r'C:\\Users\\bnort\\work\\Janelia\\ims\\computed_OTF_folder\\488nmLinOTF0_legacy.mrc'\n",
    "otf_name = r'C:\\Users\\bnort\\work\\Janelia\\ims\\computed_OTF_folder\\488nmLinOTF0_nomask2.mrc'\n",
    "\n",
    "wl = 488\n",
    "print(otf_name)\n",
    "print(input_name)"
   ]
  },
  {
   "cell_type": "markdown",
   "metadata": {},
   "source": [
    "## Set default params\n",
    "\n",
    "Here we set the default params that will be used if none of them are overwritten.\n"
   ]
  },
  {
   "cell_type": "code",
   "execution_count": 4,
   "metadata": {},
   "outputs": [],
   "source": [
    "\n",
    "base_kwargs = dict(\n",
    "                    nphases=5,\n",
    "                    ndirs=3,\n",
    "                    angle0= 1.29,\n",
    "                    negDangle=True,              \n",
    "                    na= 0.85,\n",
    "                    nimm= 1.0,\n",
    "                    zoomfact= 2.0, \n",
    "                    background= 100.0,           \n",
    "                    wiener= 0.001,\n",
    "                    fastSIM=True,\n",
    "                    otfRA= True,\n",
    "                    dampenOrder0=True,\n",
    "                    k0searchall=True,\n",
    "                    equalizez=True,\n",
    "                    preciseapo=True,\n",
    "                    gammaApo=0.7,\n",
    "                    suppressR=15.0,\n",
    "                    nthreads = 8\n",
    "                )"
   ]
  },
  {
   "cell_type": "code",
   "execution_count": 5,
   "metadata": {},
   "outputs": [
    {
     "name": "stdout",
     "output_type": "stream",
     "text": [
      "gApo_0.3_supR_10_w_0.1_wl_488_bnPSF4\n"
     ]
    }
   ],
   "source": [
    "#to_process = []\n",
    "gammaApo = 0.3\n",
    "suppressR = 10 \n",
    "wiener = 0.1\n",
    "driftfix = False \n",
    "nosuppress = False\n",
    "zpadto = 0 \n",
    "\n",
    "user_text = 'gApo_'+str(gammaApo)+'_supR_'+str(suppressR)+'_w_'+str(wiener)+'_wl_'+str(wl)\n",
    "user_text += '_bnPSF4'\n",
    "\n",
    "if zpadto > 0:\n",
    "    user_text += '_zpadto_'+str(zpadto)\n",
    "\n",
    "if driftfix:\n",
    "    user_text += '_driftfix'\n",
    "\n",
    "if nosuppress:\n",
    "    user_text += '_nosuppress'\n",
    "\n",
    "print(user_text)"
   ]
  },
  {
   "cell_type": "code",
   "execution_count": 6,
   "metadata": {},
   "outputs": [
    {
     "ename": "NameError",
     "evalue": "name 'output_file' is not defined",
     "output_type": "error",
     "traceback": [
      "\u001b[1;31m---------------------------------------------------------------------------\u001b[0m",
      "\u001b[1;31mNameError\u001b[0m                                 Traceback (most recent call last)",
      "\u001b[1;32m~\\AppData\\Local\\Temp\\ipykernel_27996\\3782333590.py\u001b[0m in \u001b[0;36m<module>\u001b[1;34m\u001b[0m\n\u001b[1;32m----> 1\u001b[1;33m \u001b[0mprint\u001b[0m\u001b[1;33m(\u001b[0m\u001b[0moutput_file\u001b[0m\u001b[1;33m)\u001b[0m\u001b[1;33m\u001b[0m\u001b[1;33m\u001b[0m\u001b[0m\n\u001b[0m\u001b[0;32m      2\u001b[0m \u001b[1;31m# print number characters in output file name\u001b[0m\u001b[1;33m\u001b[0m\u001b[1;33m\u001b[0m\u001b[1;33m\u001b[0m\u001b[0m\n\u001b[0;32m      3\u001b[0m \u001b[0mprint\u001b[0m\u001b[1;33m(\u001b[0m\u001b[0mlen\u001b[0m\u001b[1;33m(\u001b[0m\u001b[0moutput_file\u001b[0m\u001b[1;33m)\u001b[0m\u001b[1;33m)\u001b[0m\u001b[1;33m\u001b[0m\u001b[1;33m\u001b[0m\u001b[0m\n",
      "\u001b[1;31mNameError\u001b[0m: name 'output_file' is not defined"
     ]
    }
   ],
   "source": [
    "print(output_file)\n",
    "# print number characters in output file name\n",
    "print(len(output_file))"
   ]
  },
  {
   "cell_type": "code",
   "execution_count": 7,
   "metadata": {
    "scrolled": false
   },
   "outputs": [
    {
     "name": "stdout",
     "output_type": "stream",
     "text": [
      "['nphases=5, ndirs=3\\r', 'nx=1024, ny=1024, nz=24, nwaves=1, ntimes=1\\r', 'nzotf=65, dkzotf=0.061538, nxotf=81, nyotf=1, dkrotf=0.048077\\r', 'Number of threads used: 8\\r', 'Creating FFT plans...\\r', 'Separation matrix:\\r', '  1.00000   1.00000   1.00000   1.00000   1.00000 \\r', '  1.00000   0.30902  -0.80902  -0.80902   0.30902 \\r', '  0.00000   0.95106   0.58779  -0.58779  -0.95106 \\r', '  1.00000  -0.80902   0.30902   0.30902  -0.80902 \\r', '  0.00000   0.58779  -0.95106   0.95106  -0.58779 \\r', '\\r', 'rdistcutoff = 3.269231 1/micron\\r', 'k0guess[direction 0] = (0.459975, 1.594829) 1/micron\\r', 'Initial guess by findk0() of k0[direction 0] = (0.356487,1.604027) 1/micron\\r', 'before fitk0andmodamp\\r', ' In getmodamp: angle=1.352105, mag=1.643164, amp=0.148309, phase=1.423591\\r', ' In getmodamp: angle=1.353105, mag=1.643164, amp=0.100630, phase=2.061489\\r', ' In getmodamp: angle=1.351105, mag=1.643164, amp=0.122590, phase=1.175686\\r', ' In getmodamp: angle=1.351975, mag=1.643164, amp=0.150973, phase=1.378248\\r', ' In getmodamp: angle=1.351975, mag=1.643915, amp=0.148608, phase=1.407864\\r', ' In getmodamp: angle=1.351975, mag=1.642412, amp=0.138860, phase=1.352162\\r', 'Optimum modulation amplitude:\\r', ' In getmodamp: angle=1.351975, mag=1.643413, amp=0.151796, phase=1.387310\\r', ' Reverse modamp is: amp=4.272011, phase=1.387310\\r', ' Combined modamp is: amp=0.372047, phase=1.387310\\r', ' Correlation coefficient is: 0.200601\\r', 'Optimum k0 angle=1.351975, length=1.643413 (1/microns), spacing=0.608490 microns\\r', ' In getmodamp: angle=1.351975, mag=1.643413, amp=0.064073, phase=-2.354841\\r', ' Reverse modamp is: amp=56.310146, phase=-2.354841\\r', ' Combined modamp is: amp=40.727524, phase=-2.354841\\r', ' Correlation coefficient is: 0.035993\\r', 'best fit for k0 is 6.244695 percent off expected value.\\r', '\\r', 'k0[0].x=0.356750, k0[0].y=1.604224\\r', 'k0guess[direction 1] = (1.611150, 0.399064) 1/micron\\r', 'Initial guess by findk0() of k0[direction 1] = (1.505763,0.484825) 1/micron\\r', 'before fitk0andmodamp\\r', ' In getmodamp: angle=0.311498, mag=1.581891, amp=0.307032, phase=-2.406050\\r', ' In getmodamp: angle=0.312498, mag=1.581891, amp=0.300651, phase=-2.388030\\r', ' In getmodamp: angle=0.310498, mag=1.581891, amp=0.145673, phase=-2.285483\\r', ' In getmodamp: angle=0.311947, mag=1.581891, amp=0.330133, phase=-2.402597\\r', ' In getmodamp: angle=0.311947, mag=1.582642, amp=0.333597, phase=-2.471317\\r', ' In getmodamp: angle=0.311947, mag=1.583393, amp=0.315288, phase=-2.566664\\r', 'Optimum modulation amplitude:\\r', ' In getmodamp: angle=0.311947, mag=1.582388, amp=0.334949, phase=-2.444703\\r', ' Reverse modamp is: amp=2.428378, phase=-2.444703\\r', ' Combined modamp is: amp=0.759500, phase=-2.444703\\r', ' Correlation coefficient is: 0.394410\\r', 'Optimum k0 angle=0.311947, length=1.582388 (1/microns), spacing=0.631956 microns\\r', ' In getmodamp: angle=0.311947, mag=1.582388, amp=0.196371, phase=-1.595303\\r', ' Reverse modamp is: amp=20.425951, phase=-1.595303\\r', ' Combined modamp is: amp=15.398481, phase=-1.595303\\r', ' Correlation coefficient is: 0.104781\\r', 'best fit for k0 is 8.205663 percent off expected value.\\r', '\\r', 'k0[1].x=1.506018, k0[1].y=0.485655\\r', 'k0guess[direction 2] = (1.151174, -1.195765) 1/micron\\r', 'Initial guess by findk0() of k0[direction 2] = (1.186903,-1.126859) 1/micron\\r', 'before fitk0andmodamp\\r', ' In getmodamp: angle=-0.759453, mag=1.636627, amp=0.127592, phase=-2.306099\\r', ' In getmodamp: angle=-0.758453, mag=1.636627, amp=0.099095, phase=-2.325348\\r', ' In getmodamp: angle=-0.760453, mag=1.636627, amp=0.078363, phase=-2.261528\\r', ' In getmodamp: angle=-0.759342, mag=1.636627, amp=0.128405, phase=-2.308315\\r', ' In getmodamp: angle=-0.759342, mag=1.637379, amp=0.118742, phase=-2.444849\\r', ' In getmodamp: angle=-0.759342, mag=1.635876, amp=0.127318, phase=-2.192531\\r', 'Optimum modulation amplitude:\\r', ' In getmodamp: angle=-0.759342, mag=1.636330, amp=0.129303, phase=-2.260356\\r', ' Reverse modamp is: amp=4.767538, phase=-2.260356\\r', ' Combined modamp is: amp=0.305637, phase=-2.260356\\r', ' Correlation coefficient is: 0.174075\\r', 'Optimum k0 angle=-0.759342, length=1.636330 (1/microns), spacing=0.611124 microns\\r', ' In getmodamp: angle=-0.759342, mag=1.636330, amp=0.030963, phase=-1.211346\\r', ' Reverse modamp is: amp=116.489410, phase=-1.211346\\r', ' Combined modamp is: amp=84.204102, phase=-1.211346\\r', ' Correlation coefficient is: 0.017409\\r', 'best fit for k0 is 4.691724 percent off expected value.\\r', '\\r', 'k0[2].x=1.186812, k0[2].y=-1.126523\\r', '0.828   -0.212   -1.283   -2.313   2.930   1.859   \\r', '\\r', 'for direction 0, do filterbands() and assemblerealspace()\\r', 'before filterbands\\r', 'before assemblerealspacebands\\r', 'moving centerband\\r', 're-transforming centerband\\r', 'inserting centerband\\r', 'centerband assembly completed\\r', 'moving order 1\\r', 'order 1 sideband assembly completed\\r', 'moving order 2\\r', 'order 2 sideband assembly completed\\r', '\\r', 'for direction 1, do filterbands() and assemblerealspace()\\r', 'before filterbands\\r', 'before assemblerealspacebands\\r', 'moving centerband\\r', 're-transforming centerband\\r', 'inserting centerband\\r', 'centerband assembly completed\\r', 'moving order 1\\r', 'order 1 sideband assembly completed\\r', 'moving order 2\\r', 'order 2 sideband assembly completed\\r', '\\r', 'for direction 2, do filterbands() and assemblerealspace()\\r', 'before filterbands\\r', 'before assemblerealspacebands\\r', 'moving centerband\\r', 're-transforming centerband\\r', 'inserting centerband\\r', 'centerband assembly completed\\r', 'moving order 1\\r', 'order 1 sideband assembly completed\\r', 'moving order 2\\r', 'order 2 sideband assembly completed\\r', 'before write\\r', 'Time point 0, wave 0 done\\r', '']\n"
     ]
    }
   ],
   "source": [
    "base_kwargs.update(dict(gammaApo=gammaApo, suppressR=suppressR, wiener=wiener, zpadto=zpadto))   # default Full frame Recon. parameters\n",
    "    \n",
    "sim_kwargs = dict(                                                                                                            \n",
    "input_file= input_name,\n",
    "otf_file= otf_name,\n",
    "ls= (wl/1000)/2/0.81)\n",
    "        \n",
    "sim_kwargs.update(base_kwargs)\n",
    "            \n",
    "#create processed file output name\n",
    "output_file = sim_kwargs[\"input_file\"].replace(\".mrc\", '_proc'+'_' + user_text + \".mrc\")\n",
    "sim_kwargs[\"output_file\"] = output_file\n",
    "    \n",
    "sim_output = simrecon(**sim_kwargs)\n",
    "print(sim_output)\n",
    "for i in range(len(sim_output)):\n",
    "    sim_output[i] = sim_output[i].replace('\\r', '')\n",
    "with open(output_file.replace(\".mrc\", \".txt\"), \"w\") as myfile:\n",
    "    myfile.write(str(sim_kwargs))\n",
    "    myfile.write(\"\\n\".join(sim_output))            "
   ]
  },
  {
   "cell_type": "code",
   "execution_count": 94,
   "metadata": {},
   "outputs": [
    {
     "name": "stdout",
     "output_type": "stream",
     "text": [
      "['nphases=5, ndirs=3', 'nx=1024, ny=1024, nz=24, nwaves=1, ntimes=1', 'nzotf=65, dkzotf=0.061538, nxotf=81, nyotf=1, dkrotf=0.048077', 'Number of threads used: 8', 'Creating FFT plans...', 'Separation matrix:', '  1.00000   1.00000   1.00000   1.00000   1.00000 ', '  1.00000   0.30902  -0.80902  -0.80902   0.30902 ', '  0.00000   0.95106   0.58779  -0.58779  -0.95106 ', '  1.00000  -0.80902   0.30902   0.30902  -0.80902 ', '  0.00000   0.58779  -0.95106   0.95106  -0.58779 ', '', 'rdistcutoff = 3.269231 1/micron', 'k0guess[direction 0] = (0.459975, 1.594829) 1/micron', 'Initial guess by findk0() of k0[direction 0] = (0.356478,1.604063) 1/micron', 'before fitk0andmodamp', ' In getmodamp: angle=1.352116, mag=1.643197, amp=0.145386, phase=1.427344', ' In getmodamp: angle=1.353116, mag=1.643197, amp=0.098262, phase=2.062564', ' In getmodamp: angle=1.351116, mag=1.643197, amp=0.120322, phase=1.179327', ' In getmodamp: angle=1.351983, mag=1.643197, amp=0.148027, phase=1.381364', ' In getmodamp: angle=1.351983, mag=1.643948, amp=0.145671, phase=1.413470', ' In getmodamp: angle=1.351983, mag=1.642446, amp=0.136653, phase=1.352837', 'Optimum modulation amplitude:', ' In getmodamp: angle=1.351983, mag=1.643440, amp=0.148761, phase=1.391030', ' Reverse modamp is: amp=4.058384, phase=1.391030', ' Combined modamp is: amp=0.333620, phase=1.391030', ' Correlation coefficient is: 0.204037', 'Optimum k0 angle=1.351983, length=1.643440 (1/microns), spacing=0.608480 microns', ' In getmodamp: angle=1.351983, mag=1.643440, amp=0.054663, phase=-2.491733', ' Reverse modamp is: amp=38.189060, phase=-2.491733', ' Combined modamp is: amp=19.945452, phase=-2.491733', ' Correlation coefficient is: 0.040169', 'best fit for k0 is 6.245237 percent off expected value.', '', 'k0[0].x=0.356744, k0[0].y=1.604254', 'k0guess[direction 1] = (1.611150, 0.399064) 1/micron', 'Initial guess by findk0() of k0[direction 1] = (1.607583,0.439746) 1/micron', 'before fitk0andmodamp', ' In getmodamp: angle=0.267013, mag=1.666643, amp=0.145494, phase=-1.840669', ' In getmodamp: angle=0.268013, mag=1.666643, amp=0.077035, phase=-1.212472', ' In getmodamp: angle=0.266013, mag=1.666643, amp=0.111866, phase=-1.977898', ' In getmodamp: angle=0.266875, mag=1.666643, amp=0.148056, phase=-1.870366', ' In getmodamp: angle=0.266875, mag=1.667394, amp=0.147715, phase=-1.979963', ' In getmodamp: angle=0.266875, mag=1.665891, amp=0.133984, phase=-1.756487', 'Optimum modulation amplitude:', ' In getmodamp: angle=0.266875, mag=1.667000, amp=0.149735, phase=-1.922010', ' Reverse modamp is: amp=4.473395, phase=-1.922010', ' Combined modamp is: amp=0.385947, phase=-1.922010', ' Correlation coefficient is: 0.195121', 'Optimum k0 angle=0.266875, length=1.667000 (1/microns), spacing=0.599880 microns', ' In getmodamp: angle=0.266875, mag=1.667000, amp=0.011049, phase=-2.303356', ' Reverse modamp is: amp=151.265030, phase=-2.303356', ' Combined modamp is: amp=60.773323, phase=-2.303356', ' Correlation coefficient is: 0.009071', 'best fit for k0 is 2.450689 percent off expected value.', '', 'k0[1].x=1.607988, k0[1].y=0.439618', 'k0guess[direction 2] = (1.151174, -1.195765) 1/micron', 'Initial guess by findk0() of k0[direction 2] = (1.178989,-1.186780) 1/micron', 'before fitk0andmodamp', ' In getmodamp: angle=-0.788691, mag=1.672860, amp=0.116012, phase=0.712390', ' In getmodamp: angle=-0.787691, mag=1.672860, amp=0.082723, phase=0.627622', ' In getmodamp: angle=-0.789691, mag=1.672860, amp=0.100958, phase=0.967377', ' In getmodamp: angle=-0.788861, mag=1.672860, amp=0.116637, phase=0.743266', ' In getmodamp: angle=-0.788861, mag=1.673611, amp=0.101613, phase=0.726977', ' In getmodamp: angle=-0.788861, mag=1.672109, amp=0.121164, phase=0.775140', ' In getmodamp: angle=-0.788861, mag=1.671358, amp=0.113053, phase=0.828739', 'Optimum modulation amplitude:', ' In getmodamp: angle=-0.788861, mag=1.672213, amp=0.121270, phase=0.769596', ' Reverse modamp is: amp=4.480646, phase=0.769596', ' Combined modamp is: amp=0.249098, phase=0.769596', ' Correlation coefficient is: 0.174927', 'Optimum k0 angle=-0.788861, length=1.672213 (1/microns), spacing=0.598010 microns', ' In getmodamp: angle=-0.788861, mag=1.672213, amp=0.093662, phase=1.795709', ' Reverse modamp is: amp=20.205355, phase=1.795709', ' Combined modamp is: amp=9.632522, phase=1.795709', ' Correlation coefficient is: 0.072269', 'best fit for k0 is 1.728345 percent off expected value.', '', 'k0[2].x=1.178332, k0[2].y=-1.186520', '0.828   -0.257   -1.312   -2.313   2.885   1.829   ', '', 'for direction 0, do filterbands() and assemblerealspace()', 'before filterbands', 'before assemblerealspacebands', 'moving centerband', 're-transforming centerband', 'inserting centerband', 'centerband assembly completed', 'moving order 1', 'order 1 sideband assembly completed', 'moving order 2', 'order 2 sideband assembly completed', '', 'for direction 1, do filterbands() and assemblerealspace()', 'before filterbands', 'before assemblerealspacebands', 'moving centerband', 're-transforming centerband', 'inserting centerband', 'centerband assembly completed', 'moving order 1', 'order 1 sideband assembly completed', 'moving order 2', 'order 2 sideband assembly completed', '', 'for direction 2, do filterbands() and assemblerealspace()', 'before filterbands', 'before assemblerealspacebands', 'moving centerband', 're-transforming centerband', 'inserting centerband', 'centerband assembly completed', 'moving order 1', 'order 1 sideband assembly completed', 'moving order 2', 'order 2 sideband assembly completed', 'before write', 'Time point 0, wave 0 done', '']\n"
     ]
    }
   ],
   "source": [
    "print(sim_output)"
   ]
  }
 ],
 "metadata": {
  "anaconda-cloud": {},
  "kernelspec": {
   "display_name": "Python 3 (ipykernel)",
   "language": "python",
   "name": "python3"
  },
  "language_info": {
   "codemirror_mode": {
    "name": "ipython",
    "version": 3
   },
   "file_extension": ".py",
   "mimetype": "text/x-python",
   "name": "python",
   "nbconvert_exporter": "python",
   "pygments_lexer": "ipython3",
   "version": "3.7.3"
  }
 },
 "nbformat": 4,
 "nbformat_minor": 2
}
