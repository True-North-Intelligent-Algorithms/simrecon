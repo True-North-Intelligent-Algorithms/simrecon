{
 "cells": [
  {
   "cell_type": "markdown",
   "metadata": {},
   "source": [
    "## Explore tile params\n",
    "\n",
    "This notebook uses Napari to render the raw data, the processed data, the pattern angle at each direction and tile, the pattern vector magnitude at each direction and tile, and the modulation amplitudes at each direction and tile. "
   ]
  },
  {
   "cell_type": "markdown",
   "metadata": {},
   "source": [
    "## Import dependencies and set up file names. \n",
    "\n",
    "We need a raw file and a processed file name, there should be a text file along side the processed file containing the output of simrecon.  When run in tiled mode there should be a separate output for each tile. \n",
    "\n",
    "We also need to set the ```find_amp2``` flag.   For older data this should be ```False``` as the second order amplitude was not output.  For newer data this can be ```True```. "
   ]
  },
  {
   "cell_type": "code",
   "execution_count": 11,
   "metadata": {},
   "outputs": [],
   "source": [
    "import mrc as Mrc\n",
    "import napari \n",
    "from skimage.transform import resize\n",
    "import os\n",
    "import sys\n",
    "sys.path.insert(1, r'../../python')\n",
    "from simreconpython.dims_helper import reshape_zdpyx_dpzyx, reshape_tile_data_to_match_raw_data\n",
    "\n",
    "data_path = r'D:\\Janelia\\Data 2024-06-30\\488cm cell 5 good signal_20240627_131236  Fail vector tuning Best'\n",
    "\n",
    "data_path = r'D:\\Janelia\\Data 2024-09-03\\560cm cell 4 _20240627_124604'\n",
    "raw_name = r'560 nm 615 45 filter 5 phases 0.81 NA React_All Linear SIM_cam1_1.mrc'\n",
    "processed_name = r'560 nm 615 45 filter 5 phases 0.81 NA React_All Linear SIM_cam1_1_proc_560 201909_19-20_best_gApo_0.5_supR_1.5_w_0.001dampen_0_ondriftfix_True_tile32_pad16.mrc'\n",
    "find_amp2 = False\n",
    "\n",
    "data_path = r'D:\\Janelia\\Data 2024-06-30\\cell 5 Oct 7'\n",
    "raw_name = r'488 nm 5 phases 0.81 NA React_All Linear SIM_cam1_1.mrc'\n",
    "processed_name = r'488 nm 5 phases 0.81 NA React_All Linear SIM_cam1_1_proc_gApo_0.3_supR_0.1_w_0.001_wl_488_488nmLinOTF0_mask_t_8_4_forceotfamp_1_1_tile8_pad4.mrc'\n",
    "find_amp2 = True\n",
    "\n",
    "raw_mrc = Mrc.Mrc(os.path.join(data_path, raw_name))\n",
    "processed_mrc = Mrc.Mrc(os.path.join(data_path, processed_name))\n",
    "\n",
    "raw_data = raw_mrc.data\n",
    "processed_data = processed_mrc.data\n",
    "\n",
    "nz = processed_data.shape[0]\n",
    "ny = processed_data.shape[1]\n",
    "nx = processed_data.shape[2]\n",
    "ndirs = 3\n",
    "nphases = 5"
   ]
  },
  {
   "cell_type": "markdown",
   "metadata": {},
   "source": [
    "## Reshape raw data\n",
    "\n",
    "Reshape raw data to direction-phase-z-y-x order. "
   ]
  },
  {
   "cell_type": "code",
   "execution_count": 12,
   "metadata": {},
   "outputs": [
    {
     "name": "stdout",
     "output_type": "stream",
     "text": [
      "(3, 5, 16, 1024, 1024)\n"
     ]
    }
   ],
   "source": [
    "raw_data = reshape_zdpyx_dpzyx(raw_data, nphases, ndirs)\n",
    "print(raw_data.shape)\n"
   ]
  },
  {
   "cell_type": "markdown",
   "metadata": {},
   "source": [
    "## resize raw data \n",
    "\n",
    "This is done to match the increased x and y dimensions of the processed data so when visualizing corresponding regions match up. "
   ]
  },
  {
   "cell_type": "code",
   "execution_count": 13,
   "metadata": {},
   "outputs": [
    {
     "name": "stdout",
     "output_type": "stream",
     "text": [
      "(3, 5, 16, 2048, 2048)\n"
     ]
    }
   ],
   "source": [
    "raw_data = resize(raw_data, (ndirs, nphases, nz, ny, nx), order=0, anti_aliasing=True)\n",
    "print(raw_data.shape)"
   ]
  },
  {
   "cell_type": "markdown",
   "metadata": {},
   "source": [
    "## repeat processed data for each direction and phase\n",
    "\n",
    "Replicate the processed data for each direciton and phase so that corresponding regions match up.  For example if we want to inspect a trouble spot at a certain direction and phase, we have the corresponding processed data aligned properly. "
   ]
  },
  {
   "cell_type": "code",
   "execution_count": 14,
   "metadata": {},
   "outputs": [
    {
     "data": {
      "text/plain": [
       "(3, 5, 16, 2048, 2048)"
      ]
     },
     "execution_count": 14,
     "metadata": {},
     "output_type": "execute_result"
    }
   ],
   "source": [
    "import numpy as np\n",
    "processed_data =  np.stack([processed_data]*ndirs*nphases, axis=0)\n",
    "processed_data=np.reshape(processed_data, (3, 5, nz, processed_data.shape[2], processed_data.shape[3])) \n",
    "processed_data.shape"
   ]
  },
  {
   "cell_type": "markdown",
   "metadata": {},
   "source": [
    "## Process the text file\n",
    "\n",
    "Generate arrays containing maps of the tile parameters (angle, magnitude, amplitude) by parsing the text file. "
   ]
  },
  {
   "cell_type": "code",
   "execution_count": 15,
   "metadata": {},
   "outputs": [
    {
     "name": "stdout",
     "output_type": "stream",
     "text": [
      "D:\\Janelia\\Data 2024-06-30\\cell 5 Oct 7\\488 nm 5 phases 0.81 NA React_All Linear SIM_cam1_1_proc_gApo_0.3_supR_0.1_w_0.001_wl_488_488nmLinOTF0_mask_t_8_4_forceotfamp_1_1_tile8_pad4.txt\n"
     ]
    }
   ],
   "source": [
    "import sys\n",
    "\n",
    "sys.path.insert(1, r'C:\\Users\\bnort\\work\\Janelia\\code\\\\simrecon\\scripts\\Scripts')\n",
    "sys.path.insert(1, r'C:\\Users\\bnort\\work\\Janelia\\code\\\\simrecon\\scripts')\n",
    "from simrecon_utils import simrecon, split_process_recombine, process_txt_output, plot_params\n",
    "\n",
    "full_name = os.path.join(data_path, processed_name)\n",
    "text_name = full_name.replace(\".mrc\", \".txt\")\n",
    "print(text_name)\n",
    "\n",
    "with open(text_name) as f:\n",
    "    temp = f.readlines()\n",
    "    temp = [line for line in temp if line.strip()]\n",
    "    temp1=\"\".join(temp)\n",
    "    tile_data = process_txt_output(temp1, find_amp2)\n",
    "    #fig, axes = plot_params(txt_output, dpi=150, axes_pad=0.1, figsize=(9,15), cbar_size=\"5%\", cbar_pad=\"20%\", fontsize=6)\n",
    "    #tile_params_name = os.path.join(figure_path, user_text + \"_tile_params.png\")\n",
    "    #fig.savefig(tile_params_name, dpi=300, bbox_inches=\"tight\")\n",
    "\n"
   ]
  },
  {
   "cell_type": "markdown",
   "metadata": {},
   "source": [
    "## Transpose tile param arrays\n",
    "\n",
    "... so the are in Python yx order. "
   ]
  },
  {
   "cell_type": "code",
   "execution_count": 16,
   "metadata": {},
   "outputs": [
    {
     "name": "stdout",
     "output_type": "stream",
     "text": [
      "angle (3, 128, 128)\n",
      "mag (3, 128, 128)\n",
      "amp (3, 128, 128)\n",
      "phase (3, 128, 128)\n",
      "ramp (3, 128, 128)\n",
      "camp (3, 128, 128)\n",
      "ccoef (3, 128, 128)\n",
      "amp2 (3, 128, 128)\n"
     ]
    }
   ],
   "source": [
    "for key in tile_data.keys():\n",
    "    print(key, tile_data[key].shape)\n",
    "    tile_data[key] = np.transpose(tile_data[key], (0, 2, 1))"
   ]
  },
  {
   "cell_type": "markdown",
   "metadata": {},
   "source": [
    "## Handle Nans "
   ]
  },
  {
   "cell_type": "code",
   "execution_count": 17,
   "metadata": {},
   "outputs": [],
   "source": [
    "def safe_convert(val):\n",
    "    try:\n",
    "        if val == '-nan(ind)':\n",
    "            return -np.nan\n",
    "        return float(val)\n",
    "    except:\n",
    "        return np.nan\n",
    "    \n",
    "safe_convert_vec = np.vectorize(safe_convert)\n",
    "\n",
    "tile_data['amp'] = safe_convert_vec(tile_data['amp'])\n",
    "\n",
    "if find_amp2:\n",
    "    tile_data['amp2'] = safe_convert_vec(tile_data['amp2'])"
   ]
  },
  {
   "cell_type": "markdown",
   "metadata": {},
   "source": [
    "## Reshape to match processed data size"
   ]
  },
  {
   "cell_type": "code",
   "execution_count": 18,
   "metadata": {},
   "outputs": [
    {
     "name": "stdout",
     "output_type": "stream",
     "text": [
      "dict_keys(['angle', 'mag', 'amp', 'phase', 'ramp', 'camp', 'ccoef', 'amp2'])\n"
     ]
    }
   ],
   "source": [
    "\n",
    "print(tile_data.keys())\n",
    "temp = tile_data['amp']\n",
    "\n",
    "angle_data = reshape_tile_data_to_match_raw_data(tile_data['angle'].astype(float), nz, ny, nx, ndirs, nphases)\n",
    "mag_data = reshape_tile_data_to_match_raw_data(tile_data['mag'].astype(float), nz, ny, nx, ndirs, nphases)\n",
    "amp_data = reshape_tile_data_to_match_raw_data(tile_data['amp'].astype(float), nz, ny, nx, ndirs, nphases)\n",
    "if find_amp2:\n",
    "    amp2_data = reshape_tile_data_to_match_raw_data(tile_data['amp2'].astype(float), nz, ny, nx, ndirs, nphases)\n",
    "phase_data = reshape_tile_data_to_match_raw_data(tile_data['phase'].astype(float), nz, ny, nx, ndirs, nphases)\n",
    "ccoef_data = reshape_tile_data_to_match_raw_data(tile_data['ccoef'].astype(float), nz, ny, nx, ndirs, nphases)\n"
   ]
  },
  {
   "cell_type": "code",
   "execution_count": 19,
   "metadata": {},
   "outputs": [],
   "source": [
    "viewer = napari.Viewer()\n",
    "viewer.add_image(raw_data, name='raw_data')\n",
    "viewer.add_image(processed_data, name='processed_data')\n",
    "viewer.add_image(angle_data, name='angle_data', colormap='green')\n",
    "viewer.add_image(mag_data, name='mag_data', colormap='red')\n",
    "viewer.add_image(amp_data, name='amp_data', colormap='blue')\n",
    "if find_amp2:\n",
    "    viewer.add_image(amp2_data, name='amp2_data', colormap='purple')"
   ]
  },
  {
   "cell_type": "code",
   "execution_count": null,
   "metadata": {},
   "outputs": [],
   "source": []
  }
 ],
 "metadata": {
  "kernelspec": {
   "display_name": "simrecon_python",
   "language": "python",
   "name": "python3"
  },
  "language_info": {
   "codemirror_mode": {
    "name": "ipython",
    "version": 3
   },
   "file_extension": ".py",
   "mimetype": "text/x-python",
   "name": "python",
   "nbconvert_exporter": "python",
   "pygments_lexer": "ipython3",
   "version": "3.12.3"
  }
 },
 "nbformat": 4,
 "nbformat_minor": 2
}
