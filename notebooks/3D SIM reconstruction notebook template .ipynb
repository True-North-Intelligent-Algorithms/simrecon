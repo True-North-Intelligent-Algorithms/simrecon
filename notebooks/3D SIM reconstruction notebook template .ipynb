{
 "cells": [
  {
   "cell_type": "markdown",
   "metadata": {},
   "source": [
    "## WIP 3D SIM reconstruction template\n",
    "\n",
    "This is a work in progress template for running 3D SIM reconstruction based on the Janelia Python and c SIM code written by David Hoffman and Lin Shao"
   ]
  },
  {
   "cell_type": "markdown",
   "metadata": {},
   "source": [
    "## 1.  Define code paths\n",
    "Currently we hard code these and they need to be modified to run on different machines.  In the future we may move to a more intelligent approach like always having code exist beside the notebooks and using relative imports.  "
   ]
  },
  {
   "cell_type": "code",
   "execution_count": 6,
   "metadata": {},
   "outputs": [
    {
     "name": "stdout",
     "output_type": "stream",
     "text": [
      "Populating the interactive namespace from numpy and matplotlib\n",
      "The autoreload extension is already loaded. To reload it, use:\n",
      "  %reload_ext autoreload\n"
     ]
    }
   ],
   "source": [
    "%pylab inline\n",
    "\n",
    "import tifffile as tif\n",
    "import os\n",
    "import glob\n",
    "%load_ext autoreload\n",
    "%autoreload \n",
    "import shutil\n",
    "\n",
    "# NOTE: BN the below code is from the legacy notebooks.  I am leaving it here for now, as it may be needed on some machines. \n",
    "if 'C:\\\\Users\\\\Cryo SIM-PALM\\\\Documents\\\\GitHub' in sys.path:\n",
    "    sys.path.remove('C:\\\\Users\\\\Cryo SIM-PALM\\\\Documents\\\\GitHub')\n",
    "else:\n",
    "    pass\n",
    "\n",
    "computer = 'bnort'\n",
    "\n",
    "import sys\n",
    "\n",
    "if computer == 'default':\n",
    "    sys.path.insert(1, 'Y:\\Cryo_data2\\Data Processing Notebooks')\n",
    "    sys.path.insert(1, 'Y:\\Cryo_data2\\Data Processing Notebooks\\Scripts')\n",
    "elif computer == 'bnort':\n",
    "    sys.path.insert(1, r'C:\\Users\\bnort\\work\\Janelia\\code\\janeliaversion_tests\\scripts\\Scripts')\n",
    "    sys.path.insert(1, r'C:\\Users\\bnort\\work\\Janelia\\code\\janeliaversion_tests\\scripts')\n",
    "else:\n",
    "    pass\n",
    "\n",
    "import dphutils \n",
    "from simrecon_utils import simrecon, split_process_recombine\n",
    "\n",
    "# import dask\n",
    "import dask\n",
    "from dask.diagnostics import ProgressBar"
   ]
  },
  {
   "cell_type": "markdown",
   "metadata": {},
   "source": [
    "# SETUP HOME DIRECTORY and DATA PROCESSING NOTEBOOKS and OTF directory:\n",
    "\n",
    "BN:  I think we should set up all three directories here so user only has to modify in one place.\n",
    "\n",
    "Right now we leave in paths for the current test machines but in the future may move to a more intelligent approach (for example user chooses paths with dialog box, paths stored in configuration)\n",
    "\n",
    "Note:  I don't see the 'data processing notebooks' location set or used anywhere.  Is this a legacy thing that is no longer needed? \n",
    "\n",
    "Home should start from {Hesslab(\\\\prfs.hhmi.org)} e.g. home = r'Y:\\Cryo_data2\\ORCA_data\\3D SIM Cells'\n",
    "\n",
    "Data Processing notebooks should be here: 'Y:\\Cryo_data2\\Data Processing Notebooks'\n",
    "\n",
    "## Additonal legacy notes\n",
    "\n",
    "There was an old note \"OTF folder should be placed inside Data processing notebooks\"\n",
    "\n",
    "(BN I don't think this has to be the case, because there are many notebook that define the full OTF path)\n",
    "\n",
    "OTF Folder directory should be e.g.:   Y:\\Cryo_data2\\Data Processing Notebooks\\SIM PSFs OTFs\n",
    "\n",
    "Raw data from V-SIM data acquisition should be placed inside a dated folder here:   'Y:\\Cryo_data2\\ORCA_data\\3D SIM Cells' \n",
    "\n",
    "with data file directory structure e.g.: 'Y:\\Cryo_data2\\ORCA_data\\3D SIM Cells\\20240322\\488 nm 5 phases 0.81 NA Linear SIM_cam1_0.mrc'"
   ]
  },
  {
   "cell_type": "code",
   "execution_count": 10,
   "metadata": {},
   "outputs": [
    {
     "data": {
      "text/plain": [
       "{560: [],\n",
       " 532: [],\n",
       " 488: ['D:\\\\Janelia\\\\Data 2024-06-06\\\\Wiener, gammaApo and SupressR parameter testing\\\\OTF\\\\BEAD 2 - NON-AR 1.2W 25ms retake_20240503_170242 BEST PSF!!\\\\computed_OTF_folder\\\\488nmLinOTF0.mrc'],\n",
       " 642: []}"
      ]
     },
     "execution_count": 10,
     "metadata": {},
     "output_type": "execute_result"
    }
   ],
   "source": [
    "if computer == 'default': \n",
    "    home = r'Y:\\Cryo_data2\\488nm comparison TILED VS Non-Tiled at different base kwarg settings'\n",
    "    otf_path = r'Y:\\Seyforth\\Data For Brian\\Cryo-SIM Scope #2 Data (James System)\\PSFs (best PSFs and examples of bad ones)\\BEAD 2 - NON-AR 1.2W 25ms retake_20240503_170242 BEST PSF!!\\computed_OTF_folder'\n",
    "elif computer == 'bnort':\n",
    "    home = r'D:\\Janelia\\Data 2024-06-06\\Wiener, gammaApo and SupressR parameter testing\\488nm comparison Brian'\n",
    "    otf_path = r'D:\\Janelia\\Data 2024-06-06\\Wiener, gammaApo and SupressR parameter testing\\OTF\\BEAD 2 - NON-AR 1.2W 25ms retake_20240503_170242 BEST PSF!!\\computed_OTF_folder'\n",
    "\n",
    "OTFpath = os.path.join(otf_path,\"*{}*.mrc\")\n",
    "OTFs = {wl : [path for path in glob.iglob(OTFpath.format(wl))] for wl in (560, 532, 488, 642)}\n",
    "OTFs"
   ]
  },
  {
   "cell_type": "markdown",
   "metadata": {},
   "source": [
    "## Set default params\n",
    "\n",
    "Here we set the default params that will be used if none of them are overwritten.\n",
    "\n",
    "Note that before calling the non-tiled and/or tiled processing code a small subset of parameters will be overwritten to values optimized for non-tiled/tiled processing"
   ]
  },
  {
   "cell_type": "code",
   "execution_count": 7,
   "metadata": {},
   "outputs": [],
   "source": [
    "# David Solecki's suggestion: wiener=0.007 gammaApo=0.7 and suppressR=15\n",
    "# original values by D.Hoffman: wiener=0.001 gammaApo=0.1 and suppressR=1.5\n",
    "\n",
    "base_kwargs = dict(\n",
    "                    nphases=5,\n",
    "                    ndirs=3,\n",
    "                    angle0= 1.29,\n",
    "                    negDangle=True,              # James made False to try experiment\n",
    "                    na= 0.85,\n",
    "                    nimm= 1.0,\n",
    "                    zoomfact= 2.0, \n",
    "                    background= 100.0,           # james experiment was 100.0\n",
    "                    wiener= 0.007,\n",
    "                    fastSIM=True,\n",
    "                    otfRA= True,\n",
    "                    dampenOrder0=True,\n",
    "                    k0searchall=True,\n",
    "                    equalizez=True,\n",
    "                    preciseapo=True,\n",
    "                    gammaApo=0.7,\n",
    "                    suppressR=15.0\n",
    "                )\n",
    "\n",
    "def return_wl_otfs(path):\n",
    "    if \"488 Exc 532 Em\" in path:\n",
    "        wl = 532\n",
    "    elif \"488 Exc 642 Em\" in path:\n",
    "        wl = 642\n",
    "    elif \"532 Exc 561 Em\" in path:\n",
    "        wl = 561\n",
    "    elif \"560 nm\" in path:\n",
    "        wl = 560\n",
    "    elif \"488 nm\" in path:\n",
    "        wl = 488\n",
    "    elif \"532 nm\" in path:\n",
    "        wl = 532\n",
    "    elif \"642 nm\" in path:\n",
    "        wl = 642\n",
    "\n",
    "    else:\n",
    "        raise RuntimeError(\"no matching filename wavelength found, fix directory or filename or code\")\n",
    "    return wl, OTFs[wl]"
   ]
  },
  {
   "cell_type": "markdown",
   "metadata": {},
   "source": [
    "## remove old processed data\n",
    "\n",
    "This is commented out, but I assume we comment back in if we want to erase the previous run"
   ]
  },
  {
   "cell_type": "code",
   "execution_count": 5,
   "metadata": {},
   "outputs": [
    {
     "data": {
      "text/plain": [
       "'python\\n# clear processed\\nfor path in glob.glob(home + \"/*/*proc *.mrc\"):\\n    os.remove(path)\\nfor path in glob.glob(home + \"/*/*proc *.txt\"):\\n    os.remove(path)\\n'"
      ]
     },
     "execution_count": 5,
     "metadata": {},
     "output_type": "execute_result"
    }
   ],
   "source": [
    "'''python\n",
    "# clear processed\n",
    "for path in glob.glob(home + \"/*/*proc *.mrc\"):\n",
    "    os.remove(path)\n",
    "for path in glob.glob(home + \"/*/*proc *.txt\"):\n",
    "    os.remove(path)\n",
    "'''"
   ]
  },
  {
   "cell_type": "markdown",
   "metadata": {},
   "source": [
    "# Define process function defined to use DASK and simrecon package\n",
    "\n",
    "This function is annotated as a dask ```delayed``` function.  Which means it will not be called right away but put in a queue to call using dask. "
   ]
  },
  {
   "cell_type": "code",
   "execution_count": 8,
   "metadata": {},
   "outputs": [],
   "source": [
    "@dask.delayed\n",
    "def process(sim_kwargs, output_file_name):\n",
    "    sim_output = simrecon(**sim_kwargs)\n",
    "    with open(output_file_name.replace(\".mrc\", \".txt\"), \"w\") as myfile:\n",
    "        myfile.write(str(sim_kwargs))\n",
    "        myfile.write(\"\\n\".join(sim_output))\n",
    "    return output_file_name"
   ]
  },
  {
   "cell_type": "markdown",
   "metadata": {},
   "source": [
    "# Cell below checks for raw data which has already been processed using full frame SIM reconstruction algorithm"
   ]
  },
  {
   "cell_type": "code",
   "execution_count": 11,
   "metadata": {},
   "outputs": [
    {
     "name": "stdout",
     "output_type": "stream",
     "text": [
      "Data processed already: \n",
      "\n"
     ]
    }
   ],
   "source": [
    "done_already = set(glob.iglob(home + \"/**/*proc*.mrc\", recursive = True))\n",
    "done_already;\n",
    "done_already = set()     # do this if want to re-process\n",
    "print('Data processed already: \\n')\n",
    "\n",
    "for i in done_already:\n",
    "    print(i + '\\n')"
   ]
  },
  {
   "cell_type": "markdown",
   "metadata": {},
   "source": [
    "# Full frame Simrecon SIM image reconstruction, recon parameters: \n",
    "\n",
    "Set up full frame processing.  Note that we override gammaApo, supressR and wiener parameters.  Also note the code will not be run right away (just put in a dask queue)"
   ]
  },
  {
   "cell_type": "code",
   "execution_count": 12,
   "metadata": {
    "scrolled": false
   },
   "outputs": [
    {
     "name": "stdout",
     "output_type": "stream",
     "text": [
      "Data to process D:\\Janelia\\Data 2024-06-06\\Wiener, gammaApo and SupressR parameter testing\\488nm comparison Brian\\CELL 4 - 1.0W 300ms updated HWPQWP pos_20240503_115909\\488 nm 5 phases 0.81 NA React_All Linear SIM_cam1_1.mrc\n",
      "\n",
      "OTF filename: 488nmLinOTF0\n",
      "\n",
      "\n",
      "SIM recon Data to save:\n",
      "D:\\Janelia\\Data 2024-06-06\\Wiener, gammaApo and SupressR parameter testing\\488nm comparison Brian\\CELL 4 - 1.0W 300ms updated HWPQWP pos_20240503_115909\\488 nm 5 phases 0.81 NA React_All Linear SIM_cam1_1_proc488nmLinOTF0_gApo_0.3_supR_10_w_0.001.mrc\n",
      "\n"
     ]
    }
   ],
   "source": [
    "# RUN ME!\n",
    "from contextlib import suppress\n",
    "\n",
    "\n",
    "to_process = []\n",
    "\n",
    "gammaApo = 0.3\n",
    "suppressR = 10\n",
    "wiener = 0.001\n",
    "\n",
    "base_kwargs.update(dict(gammaApo=gammaApo, suppressR=suppressR, wiener=wiener))   # default Full frame Recon. parameters\n",
    "\n",
    "user_text = 'gApo_'+str(gammaApo)+'_supR_'+str(suppressR)+'_w_'+str(wiener) \n",
    "\n",
    "for raw in glob.iglob(home + \"/**/*SIM*.mrc\", recursive = True):\n",
    "    wl, otfs = return_wl_otfs(raw)\n",
    "    for otf in otfs:\n",
    "        if \"proc\" not in raw:\n",
    "            print('Data to process ' +str(raw))\n",
    "            # Test with actually measured OTF\n",
    "            sim_kwargs = dict(                                                                                                            \n",
    "                input_file= raw,\n",
    "                otf_file= otf,\n",
    "                ls= (wl/1000)/2/0.81,)\n",
    "            \n",
    "            sim_kwargs.update(base_kwargs)\n",
    "            OTF_filename = os.path.split(otf)[1].split('.')[0]\n",
    "            print('\\nOTF filename: ' +str(OTF_filename))\n",
    "                \n",
    "            #create processed file output name\n",
    "            sim_kwargs[\"output_file\"] = sim_kwargs[\"input_file\"].replace(\".mrc\", '_proc' + OTF_filename + '_' \n",
    "                                                                         + user_text + \".mrc\")\n",
    "                \n",
    "            if sim_kwargs[\"output_file\"] not in done_already:\n",
    "                print(\"\\n\\nSIM recon Data to save:\" + '\\n' + str(sim_kwargs[\"output_file\"]) + '\\n')\n",
    "                to_process.append(process(sim_kwargs, sim_kwargs[\"output_file\"]))"
   ]
  },
  {
   "cell_type": "markdown",
   "metadata": {},
   "source": [
    "# Running cell below shows all files being processed for full frame reconstruction and progress using DASK\n",
    "\n",
    "This cell will start and run the processing.  We use dask to compute our processing queue that was set up in the cell above."
   ]
  },
  {
   "cell_type": "code",
   "execution_count": 13,
   "metadata": {
    "scrolled": true
   },
   "outputs": [
    {
     "name": "stdout",
     "output_type": "stream",
     "text": [
      "[Delayed('process-c89ec95a-6a43-4767-9347-b07036a7d7b9')]\n",
      "[########################################] | 100% Completed |  1min  1.6s\n"
     ]
    }
   ],
   "source": [
    "with ProgressBar():\n",
    "    print(to_process)\n",
    "    out_names = done_already.update(*dask.compute(to_process))"
   ]
  },
  {
   "cell_type": "markdown",
   "metadata": {},
   "source": [
    "# cell below checks for data already processed using the tiledreconstruction method, cell below that creates list of data to be set to done already, i.e. already processed\n"
   ]
  },
  {
   "cell_type": "code",
   "execution_count": 14,
   "metadata": {},
   "outputs": [],
   "source": [
    "for path in glob.glob(home + \"/*/*_tile64_pad32*\"):\n",
    "    done_already.add(path.replace(\"_tile64_pad32\", \"\") + \"__split__\")"
   ]
  },
  {
   "cell_type": "code",
   "execution_count": 15,
   "metadata": {
    "scrolled": true
   },
   "outputs": [
    {
     "data": {
      "text/plain": [
       "[]"
      ]
     },
     "execution_count": 15,
     "metadata": {},
     "output_type": "execute_result"
    }
   ],
   "source": [
    "[path for path in done_already if \"_tile64_pad32\" in path]"
   ]
  },
  {
   "cell_type": "code",
   "execution_count": 16,
   "metadata": {},
   "outputs": [
    {
     "name": "stdout",
     "output_type": "stream",
     "text": [
      "D:\\Janelia\\Data 2024-06-06\\Wiener, gammaApo and SupressR parameter testing\\488nm comparison Brian\\CELL 4 - 1.0W 300ms updated HWPQWP pos_20240503_115909\\488 nm 5 phases 0.81 NA React_All Linear SIM_cam1_1.mrc\n",
      "D:\\Janelia\\Data 2024-06-06\\Wiener, gammaApo and SupressR parameter testing\\488nm comparison Brian\\CELL 4 - 1.0W 300ms updated HWPQWP pos_20240503_115909\\488 nm 5 phases 0.81 NA React_All Linear SIM_cam1_1_proc488nmLinOTF0_gApo_0.3_supR_10_w_0.001.mrc\n",
      "D:\\Janelia\\Data 2024-06-06\\Wiener, gammaApo and SupressR parameter testing\\488nm comparison Brian\\CELL 4 - 1.0W 300ms updated HWPQWP pos_20240503_115909\\488 nm 5 phases 0.81 NA React_All Linear SIM_cam1_1_proc__488nmLinOTF0_gApo_0.3_supR_10_w_0.001.mrc\n"
     ]
    }
   ],
   "source": [
    "for raw in glob.iglob(home + \"/**/*SIM*.mrc\", recursive = True):\n",
    "    \n",
    "    print(raw)"
   ]
  },
  {
   "cell_type": "code",
   "execution_count": 17,
   "metadata": {},
   "outputs": [
    {
     "name": "stdout",
     "output_type": "stream",
     "text": [
      "D:\\Janelia\\Data 2024-06-06\\Wiener, gammaApo and SupressR parameter testing\\488nm comparison Brian\n",
      "['D:\\\\Janelia\\\\Data 2024-06-06\\\\Wiener, gammaApo and SupressR parameter testing\\\\488nm comparison Brian\\\\CELL 4 - 1.0W 300ms updated HWPQWP pos_20240503_115909\\\\488 nm 5 phases 0.81 NA React_All Linear SIM_cam1_1.mrc', 'D:\\\\Janelia\\\\Data 2024-06-06\\\\Wiener, gammaApo and SupressR parameter testing\\\\488nm comparison Brian\\\\CELL 4 - 1.0W 300ms updated HWPQWP pos_20240503_115909\\\\488 nm 5 phases 0.81 NA React_All Linear SIM_cam1_1_proc488nmLinOTF0_gApo_0.3_supR_10_w_0.001.mrc', 'D:\\\\Janelia\\\\Data 2024-06-06\\\\Wiener, gammaApo and SupressR parameter testing\\\\488nm comparison Brian\\\\CELL 4 - 1.0W 300ms updated HWPQWP pos_20240503_115909\\\\488 nm 5 phases 0.81 NA React_All Linear SIM_cam1_1_proc__488nmLinOTF0_gApo_0.3_supR_10_w_0.001.mrc']\n"
     ]
    }
   ],
   "source": [
    "print(home)\n",
    "print(glob.glob(home + \"/**/*SIM_*.mrc\"))"
   ]
  },
  {
   "cell_type": "markdown",
   "metadata": {},
   "source": [
    "# Cell below runs tiled reconstruction of SIM images"
   ]
  },
  {
   "cell_type": "code",
   "execution_count": 18,
   "metadata": {
    "scrolled": false
   },
   "outputs": [
    {
     "name": "stdout",
     "output_type": "stream",
     "text": [
      "D:\\Janelia\\Data 2024-06-06\\Wiener, gammaApo and SupressR parameter testing\\488nm comparison Brian\\CELL 4 - 1.0W 300ms updated HWPQWP pos_20240503_115909\\488 nm 5 phases 0.81 NA React_All Linear SIM_cam1_1.mrc\n",
      "\n",
      "File to be processed: D:\\Janelia\\Data 2024-06-06\\Wiener, gammaApo and SupressR parameter testing\\488nm comparison Brian\\CELL 4 - 1.0W 300ms updated HWPQWP pos_20240503_115909\\488 nm 5 phases 0.81 NA React_All Linear SIM_cam1_1.mrc\n"
     ]
    },
    {
     "data": {
      "application/vnd.jupyter.widget-view+json": {
       "model_id": "6e752e09eb804cd09335a4dcbe5a8d6a",
       "version_major": 2,
       "version_minor": 0
      },
      "text/plain": [
       "HBox(children=(IntProgress(value=0, max=16), HTML(value='')))"
      ]
     },
     "metadata": {},
     "output_type": "display_data"
    },
    {
     "name": "stdout",
     "output_type": "stream",
     "text": [
      "\n"
     ]
    },
    {
     "data": {
      "application/vnd.jupyter.widget-view+json": {
       "model_id": "b909f7a9606c48b49eadf7ac07f7b829",
       "version_major": 2,
       "version_minor": 0
      },
      "text/plain": [
       "HBox(children=(IntProgress(value=0, description='Splitting and saving data', max=256, style=ProgressStyle(desc…"
      ]
     },
     "metadata": {},
     "output_type": "display_data"
    },
    {
     "name": "stdout",
     "output_type": "stream",
     "text": [
      "\n",
      "['D:/tmptagdl762\\\\sub_image000000_97b4961ff3b60fbd3ebed336686c5fa4_proc.mrc', 'D:/tmptagdl762\\\\sub_image000001_97b4961ff3b60fbd3ebed336686c5fa4_proc.mrc', 'D:/tmptagdl762\\\\sub_image000002_97b4961ff3b60fbd3ebed336686c5fa4_proc.mrc', 'D:/tmptagdl762\\\\sub_image000003_97b4961ff3b60fbd3ebed336686c5fa4_proc.mrc', 'D:/tmptagdl762\\\\sub_image000004_97b4961ff3b60fbd3ebed336686c5fa4_proc.mrc', 'D:/tmptagdl762\\\\sub_image000005_97b4961ff3b60fbd3ebed336686c5fa4_proc.mrc', 'D:/tmptagdl762\\\\sub_image000006_97b4961ff3b60fbd3ebed336686c5fa4_proc.mrc', 'D:/tmptagdl762\\\\sub_image000007_97b4961ff3b60fbd3ebed336686c5fa4_proc.mrc', 'D:/tmptagdl762\\\\sub_image000008_97b4961ff3b60fbd3ebed336686c5fa4_proc.mrc', 'D:/tmptagdl762\\\\sub_image000009_97b4961ff3b60fbd3ebed336686c5fa4_proc.mrc', 'D:/tmptagdl762\\\\sub_image000010_97b4961ff3b60fbd3ebed336686c5fa4_proc.mrc', 'D:/tmptagdl762\\\\sub_image000011_97b4961ff3b60fbd3ebed336686c5fa4_proc.mrc', 'D:/tmptagdl762\\\\sub_image000012_97b4961ff3b60fbd3ebed336686c5fa4_proc.mrc', 'D:/tmptagdl762\\\\sub_image000013_97b4961ff3b60fbd3ebed336686c5fa4_proc.mrc', 'D:/tmptagdl762\\\\sub_image000014_97b4961ff3b60fbd3ebed336686c5fa4_proc.mrc', 'D:/tmptagdl762\\\\sub_image000015_97b4961ff3b60fbd3ebed336686c5fa4_proc.mrc', 'D:/tmptagdl762\\\\sub_image000016_97b4961ff3b60fbd3ebed336686c5fa4_proc.mrc', 'D:/tmptagdl762\\\\sub_image000017_97b4961ff3b60fbd3ebed336686c5fa4_proc.mrc', 'D:/tmptagdl762\\\\sub_image000018_97b4961ff3b60fbd3ebed336686c5fa4_proc.mrc', 'D:/tmptagdl762\\\\sub_image000019_97b4961ff3b60fbd3ebed336686c5fa4_proc.mrc', 'D:/tmptagdl762\\\\sub_image000020_97b4961ff3b60fbd3ebed336686c5fa4_proc.mrc', 'D:/tmptagdl762\\\\sub_image000021_97b4961ff3b60fbd3ebed336686c5fa4_proc.mrc', 'D:/tmptagdl762\\\\sub_image000022_97b4961ff3b60fbd3ebed336686c5fa4_proc.mrc', 'D:/tmptagdl762\\\\sub_image000023_97b4961ff3b60fbd3ebed336686c5fa4_proc.mrc', 'D:/tmptagdl762\\\\sub_image000024_97b4961ff3b60fbd3ebed336686c5fa4_proc.mrc', 'D:/tmptagdl762\\\\sub_image000025_97b4961ff3b60fbd3ebed336686c5fa4_proc.mrc', 'D:/tmptagdl762\\\\sub_image000026_97b4961ff3b60fbd3ebed336686c5fa4_proc.mrc', 'D:/tmptagdl762\\\\sub_image000027_97b4961ff3b60fbd3ebed336686c5fa4_proc.mrc', 'D:/tmptagdl762\\\\sub_image000028_97b4961ff3b60fbd3ebed336686c5fa4_proc.mrc', 'D:/tmptagdl762\\\\sub_image000029_97b4961ff3b60fbd3ebed336686c5fa4_proc.mrc', 'D:/tmptagdl762\\\\sub_image000030_97b4961ff3b60fbd3ebed336686c5fa4_proc.mrc', 'D:/tmptagdl762\\\\sub_image000031_97b4961ff3b60fbd3ebed336686c5fa4_proc.mrc', 'D:/tmptagdl762\\\\sub_image000032_97b4961ff3b60fbd3ebed336686c5fa4_proc.mrc', 'D:/tmptagdl762\\\\sub_image000033_97b4961ff3b60fbd3ebed336686c5fa4_proc.mrc', 'D:/tmptagdl762\\\\sub_image000034_97b4961ff3b60fbd3ebed336686c5fa4_proc.mrc', 'D:/tmptagdl762\\\\sub_image000035_97b4961ff3b60fbd3ebed336686c5fa4_proc.mrc', 'D:/tmptagdl762\\\\sub_image000036_97b4961ff3b60fbd3ebed336686c5fa4_proc.mrc', 'D:/tmptagdl762\\\\sub_image000037_97b4961ff3b60fbd3ebed336686c5fa4_proc.mrc', 'D:/tmptagdl762\\\\sub_image000038_97b4961ff3b60fbd3ebed336686c5fa4_proc.mrc', 'D:/tmptagdl762\\\\sub_image000039_97b4961ff3b60fbd3ebed336686c5fa4_proc.mrc', 'D:/tmptagdl762\\\\sub_image000040_97b4961ff3b60fbd3ebed336686c5fa4_proc.mrc', 'D:/tmptagdl762\\\\sub_image000041_97b4961ff3b60fbd3ebed336686c5fa4_proc.mrc', 'D:/tmptagdl762\\\\sub_image000042_97b4961ff3b60fbd3ebed336686c5fa4_proc.mrc', 'D:/tmptagdl762\\\\sub_image000043_97b4961ff3b60fbd3ebed336686c5fa4_proc.mrc', 'D:/tmptagdl762\\\\sub_image000044_97b4961ff3b60fbd3ebed336686c5fa4_proc.mrc', 'D:/tmptagdl762\\\\sub_image000045_97b4961ff3b60fbd3ebed336686c5fa4_proc.mrc', 'D:/tmptagdl762\\\\sub_image000046_97b4961ff3b60fbd3ebed336686c5fa4_proc.mrc', 'D:/tmptagdl762\\\\sub_image000047_97b4961ff3b60fbd3ebed336686c5fa4_proc.mrc', 'D:/tmptagdl762\\\\sub_image000048_97b4961ff3b60fbd3ebed336686c5fa4_proc.mrc', 'D:/tmptagdl762\\\\sub_image000049_97b4961ff3b60fbd3ebed336686c5fa4_proc.mrc', 'D:/tmptagdl762\\\\sub_image000050_97b4961ff3b60fbd3ebed336686c5fa4_proc.mrc', 'D:/tmptagdl762\\\\sub_image000051_97b4961ff3b60fbd3ebed336686c5fa4_proc.mrc', 'D:/tmptagdl762\\\\sub_image000052_97b4961ff3b60fbd3ebed336686c5fa4_proc.mrc', 'D:/tmptagdl762\\\\sub_image000053_97b4961ff3b60fbd3ebed336686c5fa4_proc.mrc', 'D:/tmptagdl762\\\\sub_image000054_97b4961ff3b60fbd3ebed336686c5fa4_proc.mrc', 'D:/tmptagdl762\\\\sub_image000055_97b4961ff3b60fbd3ebed336686c5fa4_proc.mrc', 'D:/tmptagdl762\\\\sub_image000056_97b4961ff3b60fbd3ebed336686c5fa4_proc.mrc', 'D:/tmptagdl762\\\\sub_image000057_97b4961ff3b60fbd3ebed336686c5fa4_proc.mrc', 'D:/tmptagdl762\\\\sub_image000058_97b4961ff3b60fbd3ebed336686c5fa4_proc.mrc', 'D:/tmptagdl762\\\\sub_image000059_97b4961ff3b60fbd3ebed336686c5fa4_proc.mrc', 'D:/tmptagdl762\\\\sub_image000060_97b4961ff3b60fbd3ebed336686c5fa4_proc.mrc', 'D:/tmptagdl762\\\\sub_image000061_97b4961ff3b60fbd3ebed336686c5fa4_proc.mrc', 'D:/tmptagdl762\\\\sub_image000062_97b4961ff3b60fbd3ebed336686c5fa4_proc.mrc', 'D:/tmptagdl762\\\\sub_image000063_97b4961ff3b60fbd3ebed336686c5fa4_proc.mrc', 'D:/tmptagdl762\\\\sub_image000064_97b4961ff3b60fbd3ebed336686c5fa4_proc.mrc', 'D:/tmptagdl762\\\\sub_image000065_97b4961ff3b60fbd3ebed336686c5fa4_proc.mrc', 'D:/tmptagdl762\\\\sub_image000066_97b4961ff3b60fbd3ebed336686c5fa4_proc.mrc', 'D:/tmptagdl762\\\\sub_image000067_97b4961ff3b60fbd3ebed336686c5fa4_proc.mrc', 'D:/tmptagdl762\\\\sub_image000068_97b4961ff3b60fbd3ebed336686c5fa4_proc.mrc', 'D:/tmptagdl762\\\\sub_image000069_97b4961ff3b60fbd3ebed336686c5fa4_proc.mrc', 'D:/tmptagdl762\\\\sub_image000070_97b4961ff3b60fbd3ebed336686c5fa4_proc.mrc', 'D:/tmptagdl762\\\\sub_image000071_97b4961ff3b60fbd3ebed336686c5fa4_proc.mrc', 'D:/tmptagdl762\\\\sub_image000072_97b4961ff3b60fbd3ebed336686c5fa4_proc.mrc', 'D:/tmptagdl762\\\\sub_image000073_97b4961ff3b60fbd3ebed336686c5fa4_proc.mrc', 'D:/tmptagdl762\\\\sub_image000074_97b4961ff3b60fbd3ebed336686c5fa4_proc.mrc', 'D:/tmptagdl762\\\\sub_image000075_97b4961ff3b60fbd3ebed336686c5fa4_proc.mrc', 'D:/tmptagdl762\\\\sub_image000076_97b4961ff3b60fbd3ebed336686c5fa4_proc.mrc', 'D:/tmptagdl762\\\\sub_image000077_97b4961ff3b60fbd3ebed336686c5fa4_proc.mrc', 'D:/tmptagdl762\\\\sub_image000078_97b4961ff3b60fbd3ebed336686c5fa4_proc.mrc', 'D:/tmptagdl762\\\\sub_image000079_97b4961ff3b60fbd3ebed336686c5fa4_proc.mrc', 'D:/tmptagdl762\\\\sub_image000080_97b4961ff3b60fbd3ebed336686c5fa4_proc.mrc', 'D:/tmptagdl762\\\\sub_image000081_97b4961ff3b60fbd3ebed336686c5fa4_proc.mrc', 'D:/tmptagdl762\\\\sub_image000082_97b4961ff3b60fbd3ebed336686c5fa4_proc.mrc', 'D:/tmptagdl762\\\\sub_image000083_97b4961ff3b60fbd3ebed336686c5fa4_proc.mrc', 'D:/tmptagdl762\\\\sub_image000084_97b4961ff3b60fbd3ebed336686c5fa4_proc.mrc', 'D:/tmptagdl762\\\\sub_image000085_97b4961ff3b60fbd3ebed336686c5fa4_proc.mrc', 'D:/tmptagdl762\\\\sub_image000086_97b4961ff3b60fbd3ebed336686c5fa4_proc.mrc', 'D:/tmptagdl762\\\\sub_image000087_97b4961ff3b60fbd3ebed336686c5fa4_proc.mrc', 'D:/tmptagdl762\\\\sub_image000088_97b4961ff3b60fbd3ebed336686c5fa4_proc.mrc', 'D:/tmptagdl762\\\\sub_image000089_97b4961ff3b60fbd3ebed336686c5fa4_proc.mrc', 'D:/tmptagdl762\\\\sub_image000090_97b4961ff3b60fbd3ebed336686c5fa4_proc.mrc', 'D:/tmptagdl762\\\\sub_image000091_97b4961ff3b60fbd3ebed336686c5fa4_proc.mrc', 'D:/tmptagdl762\\\\sub_image000092_97b4961ff3b60fbd3ebed336686c5fa4_proc.mrc', 'D:/tmptagdl762\\\\sub_image000093_97b4961ff3b60fbd3ebed336686c5fa4_proc.mrc', 'D:/tmptagdl762\\\\sub_image000094_97b4961ff3b60fbd3ebed336686c5fa4_proc.mrc', 'D:/tmptagdl762\\\\sub_image000095_97b4961ff3b60fbd3ebed336686c5fa4_proc.mrc', 'D:/tmptagdl762\\\\sub_image000096_97b4961ff3b60fbd3ebed336686c5fa4_proc.mrc', 'D:/tmptagdl762\\\\sub_image000097_97b4961ff3b60fbd3ebed336686c5fa4_proc.mrc', 'D:/tmptagdl762\\\\sub_image000098_97b4961ff3b60fbd3ebed336686c5fa4_proc.mrc', 'D:/tmptagdl762\\\\sub_image000099_97b4961ff3b60fbd3ebed336686c5fa4_proc.mrc', 'D:/tmptagdl762\\\\sub_image000100_97b4961ff3b60fbd3ebed336686c5fa4_proc.mrc', 'D:/tmptagdl762\\\\sub_image000101_97b4961ff3b60fbd3ebed336686c5fa4_proc.mrc', 'D:/tmptagdl762\\\\sub_image000102_97b4961ff3b60fbd3ebed336686c5fa4_proc.mrc', 'D:/tmptagdl762\\\\sub_image000103_97b4961ff3b60fbd3ebed336686c5fa4_proc.mrc', 'D:/tmptagdl762\\\\sub_image000104_97b4961ff3b60fbd3ebed336686c5fa4_proc.mrc', 'D:/tmptagdl762\\\\sub_image000105_97b4961ff3b60fbd3ebed336686c5fa4_proc.mrc', 'D:/tmptagdl762\\\\sub_image000106_97b4961ff3b60fbd3ebed336686c5fa4_proc.mrc', 'D:/tmptagdl762\\\\sub_image000107_97b4961ff3b60fbd3ebed336686c5fa4_proc.mrc', 'D:/tmptagdl762\\\\sub_image000108_97b4961ff3b60fbd3ebed336686c5fa4_proc.mrc', 'D:/tmptagdl762\\\\sub_image000109_97b4961ff3b60fbd3ebed336686c5fa4_proc.mrc', 'D:/tmptagdl762\\\\sub_image000110_97b4961ff3b60fbd3ebed336686c5fa4_proc.mrc', 'D:/tmptagdl762\\\\sub_image000111_97b4961ff3b60fbd3ebed336686c5fa4_proc.mrc', 'D:/tmptagdl762\\\\sub_image000112_97b4961ff3b60fbd3ebed336686c5fa4_proc.mrc', 'D:/tmptagdl762\\\\sub_image000113_97b4961ff3b60fbd3ebed336686c5fa4_proc.mrc', 'D:/tmptagdl762\\\\sub_image000114_97b4961ff3b60fbd3ebed336686c5fa4_proc.mrc', 'D:/tmptagdl762\\\\sub_image000115_97b4961ff3b60fbd3ebed336686c5fa4_proc.mrc', 'D:/tmptagdl762\\\\sub_image000116_97b4961ff3b60fbd3ebed336686c5fa4_proc.mrc', 'D:/tmptagdl762\\\\sub_image000117_97b4961ff3b60fbd3ebed336686c5fa4_proc.mrc', 'D:/tmptagdl762\\\\sub_image000118_97b4961ff3b60fbd3ebed336686c5fa4_proc.mrc', 'D:/tmptagdl762\\\\sub_image000119_97b4961ff3b60fbd3ebed336686c5fa4_proc.mrc', 'D:/tmptagdl762\\\\sub_image000120_97b4961ff3b60fbd3ebed336686c5fa4_proc.mrc', 'D:/tmptagdl762\\\\sub_image000121_97b4961ff3b60fbd3ebed336686c5fa4_proc.mrc', 'D:/tmptagdl762\\\\sub_image000122_97b4961ff3b60fbd3ebed336686c5fa4_proc.mrc', 'D:/tmptagdl762\\\\sub_image000123_97b4961ff3b60fbd3ebed336686c5fa4_proc.mrc', 'D:/tmptagdl762\\\\sub_image000124_97b4961ff3b60fbd3ebed336686c5fa4_proc.mrc', 'D:/tmptagdl762\\\\sub_image000125_97b4961ff3b60fbd3ebed336686c5fa4_proc.mrc', 'D:/tmptagdl762\\\\sub_image000126_97b4961ff3b60fbd3ebed336686c5fa4_proc.mrc', 'D:/tmptagdl762\\\\sub_image000127_97b4961ff3b60fbd3ebed336686c5fa4_proc.mrc', 'D:/tmptagdl762\\\\sub_image000128_97b4961ff3b60fbd3ebed336686c5fa4_proc.mrc', 'D:/tmptagdl762\\\\sub_image000129_97b4961ff3b60fbd3ebed336686c5fa4_proc.mrc', 'D:/tmptagdl762\\\\sub_image000130_97b4961ff3b60fbd3ebed336686c5fa4_proc.mrc', 'D:/tmptagdl762\\\\sub_image000131_97b4961ff3b60fbd3ebed336686c5fa4_proc.mrc', 'D:/tmptagdl762\\\\sub_image000132_97b4961ff3b60fbd3ebed336686c5fa4_proc.mrc', 'D:/tmptagdl762\\\\sub_image000133_97b4961ff3b60fbd3ebed336686c5fa4_proc.mrc', 'D:/tmptagdl762\\\\sub_image000134_97b4961ff3b60fbd3ebed336686c5fa4_proc.mrc', 'D:/tmptagdl762\\\\sub_image000135_97b4961ff3b60fbd3ebed336686c5fa4_proc.mrc', 'D:/tmptagdl762\\\\sub_image000136_97b4961ff3b60fbd3ebed336686c5fa4_proc.mrc', 'D:/tmptagdl762\\\\sub_image000137_97b4961ff3b60fbd3ebed336686c5fa4_proc.mrc', 'D:/tmptagdl762\\\\sub_image000138_97b4961ff3b60fbd3ebed336686c5fa4_proc.mrc', 'D:/tmptagdl762\\\\sub_image000139_97b4961ff3b60fbd3ebed336686c5fa4_proc.mrc', 'D:/tmptagdl762\\\\sub_image000140_97b4961ff3b60fbd3ebed336686c5fa4_proc.mrc', 'D:/tmptagdl762\\\\sub_image000141_97b4961ff3b60fbd3ebed336686c5fa4_proc.mrc', 'D:/tmptagdl762\\\\sub_image000142_97b4961ff3b60fbd3ebed336686c5fa4_proc.mrc', 'D:/tmptagdl762\\\\sub_image000143_97b4961ff3b60fbd3ebed336686c5fa4_proc.mrc', 'D:/tmptagdl762\\\\sub_image000144_97b4961ff3b60fbd3ebed336686c5fa4_proc.mrc', 'D:/tmptagdl762\\\\sub_image000145_97b4961ff3b60fbd3ebed336686c5fa4_proc.mrc', 'D:/tmptagdl762\\\\sub_image000146_97b4961ff3b60fbd3ebed336686c5fa4_proc.mrc', 'D:/tmptagdl762\\\\sub_image000147_97b4961ff3b60fbd3ebed336686c5fa4_proc.mrc', 'D:/tmptagdl762\\\\sub_image000148_97b4961ff3b60fbd3ebed336686c5fa4_proc.mrc', 'D:/tmptagdl762\\\\sub_image000149_97b4961ff3b60fbd3ebed336686c5fa4_proc.mrc', 'D:/tmptagdl762\\\\sub_image000150_97b4961ff3b60fbd3ebed336686c5fa4_proc.mrc', 'D:/tmptagdl762\\\\sub_image000151_97b4961ff3b60fbd3ebed336686c5fa4_proc.mrc', 'D:/tmptagdl762\\\\sub_image000152_97b4961ff3b60fbd3ebed336686c5fa4_proc.mrc', 'D:/tmptagdl762\\\\sub_image000153_97b4961ff3b60fbd3ebed336686c5fa4_proc.mrc', 'D:/tmptagdl762\\\\sub_image000154_97b4961ff3b60fbd3ebed336686c5fa4_proc.mrc', 'D:/tmptagdl762\\\\sub_image000155_97b4961ff3b60fbd3ebed336686c5fa4_proc.mrc', 'D:/tmptagdl762\\\\sub_image000156_97b4961ff3b60fbd3ebed336686c5fa4_proc.mrc', 'D:/tmptagdl762\\\\sub_image000157_97b4961ff3b60fbd3ebed336686c5fa4_proc.mrc', 'D:/tmptagdl762\\\\sub_image000158_97b4961ff3b60fbd3ebed336686c5fa4_proc.mrc', 'D:/tmptagdl762\\\\sub_image000159_97b4961ff3b60fbd3ebed336686c5fa4_proc.mrc', 'D:/tmptagdl762\\\\sub_image000160_97b4961ff3b60fbd3ebed336686c5fa4_proc.mrc', 'D:/tmptagdl762\\\\sub_image000161_97b4961ff3b60fbd3ebed336686c5fa4_proc.mrc', 'D:/tmptagdl762\\\\sub_image000162_97b4961ff3b60fbd3ebed336686c5fa4_proc.mrc', 'D:/tmptagdl762\\\\sub_image000163_97b4961ff3b60fbd3ebed336686c5fa4_proc.mrc', 'D:/tmptagdl762\\\\sub_image000164_97b4961ff3b60fbd3ebed336686c5fa4_proc.mrc', 'D:/tmptagdl762\\\\sub_image000165_97b4961ff3b60fbd3ebed336686c5fa4_proc.mrc', 'D:/tmptagdl762\\\\sub_image000166_97b4961ff3b60fbd3ebed336686c5fa4_proc.mrc', 'D:/tmptagdl762\\\\sub_image000167_97b4961ff3b60fbd3ebed336686c5fa4_proc.mrc', 'D:/tmptagdl762\\\\sub_image000168_97b4961ff3b60fbd3ebed336686c5fa4_proc.mrc', 'D:/tmptagdl762\\\\sub_image000169_97b4961ff3b60fbd3ebed336686c5fa4_proc.mrc', 'D:/tmptagdl762\\\\sub_image000170_97b4961ff3b60fbd3ebed336686c5fa4_proc.mrc', 'D:/tmptagdl762\\\\sub_image000171_97b4961ff3b60fbd3ebed336686c5fa4_proc.mrc', 'D:/tmptagdl762\\\\sub_image000172_97b4961ff3b60fbd3ebed336686c5fa4_proc.mrc', 'D:/tmptagdl762\\\\sub_image000173_97b4961ff3b60fbd3ebed336686c5fa4_proc.mrc', 'D:/tmptagdl762\\\\sub_image000174_97b4961ff3b60fbd3ebed336686c5fa4_proc.mrc', 'D:/tmptagdl762\\\\sub_image000175_97b4961ff3b60fbd3ebed336686c5fa4_proc.mrc', 'D:/tmptagdl762\\\\sub_image000176_97b4961ff3b60fbd3ebed336686c5fa4_proc.mrc', 'D:/tmptagdl762\\\\sub_image000177_97b4961ff3b60fbd3ebed336686c5fa4_proc.mrc', 'D:/tmptagdl762\\\\sub_image000178_97b4961ff3b60fbd3ebed336686c5fa4_proc.mrc', 'D:/tmptagdl762\\\\sub_image000179_97b4961ff3b60fbd3ebed336686c5fa4_proc.mrc', 'D:/tmptagdl762\\\\sub_image000180_97b4961ff3b60fbd3ebed336686c5fa4_proc.mrc', 'D:/tmptagdl762\\\\sub_image000181_97b4961ff3b60fbd3ebed336686c5fa4_proc.mrc', 'D:/tmptagdl762\\\\sub_image000182_97b4961ff3b60fbd3ebed336686c5fa4_proc.mrc', 'D:/tmptagdl762\\\\sub_image000183_97b4961ff3b60fbd3ebed336686c5fa4_proc.mrc', 'D:/tmptagdl762\\\\sub_image000184_97b4961ff3b60fbd3ebed336686c5fa4_proc.mrc', 'D:/tmptagdl762\\\\sub_image000185_97b4961ff3b60fbd3ebed336686c5fa4_proc.mrc', 'D:/tmptagdl762\\\\sub_image000186_97b4961ff3b60fbd3ebed336686c5fa4_proc.mrc', 'D:/tmptagdl762\\\\sub_image000187_97b4961ff3b60fbd3ebed336686c5fa4_proc.mrc', 'D:/tmptagdl762\\\\sub_image000188_97b4961ff3b60fbd3ebed336686c5fa4_proc.mrc', 'D:/tmptagdl762\\\\sub_image000189_97b4961ff3b60fbd3ebed336686c5fa4_proc.mrc', 'D:/tmptagdl762\\\\sub_image000190_97b4961ff3b60fbd3ebed336686c5fa4_proc.mrc', 'D:/tmptagdl762\\\\sub_image000191_97b4961ff3b60fbd3ebed336686c5fa4_proc.mrc', 'D:/tmptagdl762\\\\sub_image000192_97b4961ff3b60fbd3ebed336686c5fa4_proc.mrc', 'D:/tmptagdl762\\\\sub_image000193_97b4961ff3b60fbd3ebed336686c5fa4_proc.mrc', 'D:/tmptagdl762\\\\sub_image000194_97b4961ff3b60fbd3ebed336686c5fa4_proc.mrc', 'D:/tmptagdl762\\\\sub_image000195_97b4961ff3b60fbd3ebed336686c5fa4_proc.mrc', 'D:/tmptagdl762\\\\sub_image000196_97b4961ff3b60fbd3ebed336686c5fa4_proc.mrc', 'D:/tmptagdl762\\\\sub_image000197_97b4961ff3b60fbd3ebed336686c5fa4_proc.mrc', 'D:/tmptagdl762\\\\sub_image000198_97b4961ff3b60fbd3ebed336686c5fa4_proc.mrc', 'D:/tmptagdl762\\\\sub_image000199_97b4961ff3b60fbd3ebed336686c5fa4_proc.mrc', 'D:/tmptagdl762\\\\sub_image000200_97b4961ff3b60fbd3ebed336686c5fa4_proc.mrc', 'D:/tmptagdl762\\\\sub_image000201_97b4961ff3b60fbd3ebed336686c5fa4_proc.mrc', 'D:/tmptagdl762\\\\sub_image000202_97b4961ff3b60fbd3ebed336686c5fa4_proc.mrc', 'D:/tmptagdl762\\\\sub_image000203_97b4961ff3b60fbd3ebed336686c5fa4_proc.mrc', 'D:/tmptagdl762\\\\sub_image000204_97b4961ff3b60fbd3ebed336686c5fa4_proc.mrc', 'D:/tmptagdl762\\\\sub_image000205_97b4961ff3b60fbd3ebed336686c5fa4_proc.mrc', 'D:/tmptagdl762\\\\sub_image000206_97b4961ff3b60fbd3ebed336686c5fa4_proc.mrc', 'D:/tmptagdl762\\\\sub_image000207_97b4961ff3b60fbd3ebed336686c5fa4_proc.mrc', 'D:/tmptagdl762\\\\sub_image000208_97b4961ff3b60fbd3ebed336686c5fa4_proc.mrc', 'D:/tmptagdl762\\\\sub_image000209_97b4961ff3b60fbd3ebed336686c5fa4_proc.mrc', 'D:/tmptagdl762\\\\sub_image000210_97b4961ff3b60fbd3ebed336686c5fa4_proc.mrc', 'D:/tmptagdl762\\\\sub_image000211_97b4961ff3b60fbd3ebed336686c5fa4_proc.mrc', 'D:/tmptagdl762\\\\sub_image000212_97b4961ff3b60fbd3ebed336686c5fa4_proc.mrc', 'D:/tmptagdl762\\\\sub_image000213_97b4961ff3b60fbd3ebed336686c5fa4_proc.mrc', 'D:/tmptagdl762\\\\sub_image000214_97b4961ff3b60fbd3ebed336686c5fa4_proc.mrc', 'D:/tmptagdl762\\\\sub_image000215_97b4961ff3b60fbd3ebed336686c5fa4_proc.mrc', 'D:/tmptagdl762\\\\sub_image000216_97b4961ff3b60fbd3ebed336686c5fa4_proc.mrc', 'D:/tmptagdl762\\\\sub_image000217_97b4961ff3b60fbd3ebed336686c5fa4_proc.mrc', 'D:/tmptagdl762\\\\sub_image000218_97b4961ff3b60fbd3ebed336686c5fa4_proc.mrc', 'D:/tmptagdl762\\\\sub_image000219_97b4961ff3b60fbd3ebed336686c5fa4_proc.mrc', 'D:/tmptagdl762\\\\sub_image000220_97b4961ff3b60fbd3ebed336686c5fa4_proc.mrc', 'D:/tmptagdl762\\\\sub_image000221_97b4961ff3b60fbd3ebed336686c5fa4_proc.mrc', 'D:/tmptagdl762\\\\sub_image000222_97b4961ff3b60fbd3ebed336686c5fa4_proc.mrc', 'D:/tmptagdl762\\\\sub_image000223_97b4961ff3b60fbd3ebed336686c5fa4_proc.mrc', 'D:/tmptagdl762\\\\sub_image000224_97b4961ff3b60fbd3ebed336686c5fa4_proc.mrc', 'D:/tmptagdl762\\\\sub_image000225_97b4961ff3b60fbd3ebed336686c5fa4_proc.mrc', 'D:/tmptagdl762\\\\sub_image000226_97b4961ff3b60fbd3ebed336686c5fa4_proc.mrc', 'D:/tmptagdl762\\\\sub_image000227_97b4961ff3b60fbd3ebed336686c5fa4_proc.mrc', 'D:/tmptagdl762\\\\sub_image000228_97b4961ff3b60fbd3ebed336686c5fa4_proc.mrc', 'D:/tmptagdl762\\\\sub_image000229_97b4961ff3b60fbd3ebed336686c5fa4_proc.mrc', 'D:/tmptagdl762\\\\sub_image000230_97b4961ff3b60fbd3ebed336686c5fa4_proc.mrc', 'D:/tmptagdl762\\\\sub_image000231_97b4961ff3b60fbd3ebed336686c5fa4_proc.mrc', 'D:/tmptagdl762\\\\sub_image000232_97b4961ff3b60fbd3ebed336686c5fa4_proc.mrc', 'D:/tmptagdl762\\\\sub_image000233_97b4961ff3b60fbd3ebed336686c5fa4_proc.mrc', 'D:/tmptagdl762\\\\sub_image000234_97b4961ff3b60fbd3ebed336686c5fa4_proc.mrc', 'D:/tmptagdl762\\\\sub_image000235_97b4961ff3b60fbd3ebed336686c5fa4_proc.mrc', 'D:/tmptagdl762\\\\sub_image000236_97b4961ff3b60fbd3ebed336686c5fa4_proc.mrc', 'D:/tmptagdl762\\\\sub_image000237_97b4961ff3b60fbd3ebed336686c5fa4_proc.mrc', 'D:/tmptagdl762\\\\sub_image000238_97b4961ff3b60fbd3ebed336686c5fa4_proc.mrc', 'D:/tmptagdl762\\\\sub_image000239_97b4961ff3b60fbd3ebed336686c5fa4_proc.mrc', 'D:/tmptagdl762\\\\sub_image000240_97b4961ff3b60fbd3ebed336686c5fa4_proc.mrc', 'D:/tmptagdl762\\\\sub_image000241_97b4961ff3b60fbd3ebed336686c5fa4_proc.mrc', 'D:/tmptagdl762\\\\sub_image000242_97b4961ff3b60fbd3ebed336686c5fa4_proc.mrc', 'D:/tmptagdl762\\\\sub_image000243_97b4961ff3b60fbd3ebed336686c5fa4_proc.mrc', 'D:/tmptagdl762\\\\sub_image000244_97b4961ff3b60fbd3ebed336686c5fa4_proc.mrc', 'D:/tmptagdl762\\\\sub_image000245_97b4961ff3b60fbd3ebed336686c5fa4_proc.mrc', 'D:/tmptagdl762\\\\sub_image000246_97b4961ff3b60fbd3ebed336686c5fa4_proc.mrc', 'D:/tmptagdl762\\\\sub_image000247_97b4961ff3b60fbd3ebed336686c5fa4_proc.mrc', 'D:/tmptagdl762\\\\sub_image000248_97b4961ff3b60fbd3ebed336686c5fa4_proc.mrc', 'D:/tmptagdl762\\\\sub_image000249_97b4961ff3b60fbd3ebed336686c5fa4_proc.mrc', 'D:/tmptagdl762\\\\sub_image000250_97b4961ff3b60fbd3ebed336686c5fa4_proc.mrc', 'D:/tmptagdl762\\\\sub_image000251_97b4961ff3b60fbd3ebed336686c5fa4_proc.mrc', 'D:/tmptagdl762\\\\sub_image000252_97b4961ff3b60fbd3ebed336686c5fa4_proc.mrc', 'D:/tmptagdl762\\\\sub_image000253_97b4961ff3b60fbd3ebed336686c5fa4_proc.mrc', 'D:/tmptagdl762\\\\sub_image000254_97b4961ff3b60fbd3ebed336686c5fa4_proc.mrc', 'D:/tmptagdl762\\\\sub_image000255_97b4961ff3b60fbd3ebed336686c5fa4_proc.mrc']\n"
     ]
    },
    {
     "data": {
      "application/vnd.jupyter.widget-view+json": {
       "model_id": "4b5c6f2bff9346f9b928922eb55ec8de",
       "version_major": 2,
       "version_minor": 0
      },
      "text/plain": [
       "HBox(children=(IntProgress(value=0, description='Reading back processed', max=256, style=ProgressStyle(descrip…"
      ]
     },
     "metadata": {},
     "output_type": "display_data"
    },
    {
     "name": "stdout",
     "output_type": "stream",
     "text": [
      "\n"
     ]
    },
    {
     "data": {
      "application/vnd.jupyter.widget-view+json": {
       "model_id": "83d30649d2674faeae53f798a5d8bb3d",
       "version_major": 2,
       "version_minor": 0
      },
      "text/plain": [
       "HBox(children=(IntProgress(value=0, description='Recombining', max=256, style=ProgressStyle(description_width=…"
      ]
     },
     "metadata": {},
     "output_type": "display_data"
    },
    {
     "name": "stdout",
     "output_type": "stream",
     "text": [
      "MRC Raw data file is still open\n",
      "MRC temp data file is still open\n",
      "MRC Raw data file is now closed\n",
      "MRC temp data file is now closed\n",
      "Wall time: 3min 54s\n",
      "D:\\Janelia\\Data 2024-06-06\\Wiener, gammaApo and SupressR parameter testing\\488nm comparison Brian\\CELL 4 - 1.0W 300ms updated HWPQWP pos_20240503_115909\\488 nm 5 phases 0.81 NA React_All Linear SIM_cam1_1_proc488nmLinOTF0_gApo_0.3_supR_10_w_0.001.mrc\n",
      "D:\\Janelia\\Data 2024-06-06\\Wiener, gammaApo and SupressR parameter testing\\488nm comparison Brian\\CELL 4 - 1.0W 300ms updated HWPQWP pos_20240503_115909\\488 nm 5 phases 0.81 NA React_All Linear SIM_cam1_1_proc__488nmLinOTF0_gApo_0.3_supR_10_w_0.001.mrc\n",
      "Wall time: 3min 54s\n"
     ]
    }
   ],
   "source": [
    "%%time\n",
    "\n",
    "gammaApo = 0.2\n",
    "suppressR = 1.5\n",
    "wiener = 0.001\n",
    "\n",
    "base_kwargs.update(dict(gammaApo=gammaApo, suppressR=suppressR, wiener=wiener)) # default tiling Recon. parameters\n",
    "\n",
    "user_text = 'gApo_'+str(gammaApo)+'_supR_'+str(suppressR)+'_w_'+str(wiener)\n",
    "\n",
    "for raw in glob.iglob(home + \"/**/*SIM*.mrc\", recursive = True):\n",
    "    wl, otfs = return_wl_otfs(raw)\n",
    "    print(raw)\n",
    "    \n",
    "    for otf in otfs:\n",
    "        if \"proc\" not in raw:                  #checks for if data was already processed\n",
    "            if \"_tile64_pad32\" not in raw:       #checks for if data was already processed using tiling method\n",
    "                print(\"\\nFile to be processed: \" + str(raw))\n",
    "                # Test with actually measured OTF\n",
    "                sim_kwargs = dict(\n",
    "                    input_file= raw,\n",
    "                    otf_file= otf,\n",
    "                    ls= (wl/1000)/2/0.81,\n",
    "                )\n",
    "                sim_kwargs.update(base_kwargs)\n",
    "                \n",
    "                OTF_filename = os.path.split(otf)[1].split('.')[0]\n",
    "                \n",
    "                #create processed file output name\n",
    "                out_name = sim_kwargs[\"output_file\"] = sim_kwargs[\"input_file\"].replace(\".mrc\",'_proc_' + OTF_filename + '_' +\n",
    "                                                                          user_text + \".mrc\")\n",
    "                \n",
    "                # perform reconstruction and output recon image file and text file\n",
    "              \n",
    "                out_name += \"__split__\"\n",
    "                \n",
    "                if out_name not in done_already:\n",
    "                    #print(sim_kwargs[\"input_file\"])\n",
    "                    %time sim_output = split_process_recombine(sim_kwargs[\"input_file\"], 64, 32, sim_kwargs)\n",
    "                    # HAD TO EDIT simrecon_utils.py lines 1488 and 1490 and comment out mrc.close() as it was failing.\n",
    "                    with open(sim_output[0].replace(\".mrc\", \".txt\"), \"w\") as myfile:\n",
    "                        myfile.write(str(sim_kwargs))\n",
    "                        myfile.write(\"\\n\" + \"-\" * 80 + \"\\n\")\n",
    "                        myfile.write(\"\\n\".join(sim_output[1]))\n",
    "\n",
    "                done_already.add(out_name)\n",
    "                for path in glob.glob(home + \"/*/*_tile64_pad32*\"):\n",
    "                    done_already.add(path.replace(\"_tile64_pad32\", \"\") + \"__split__\")"
   ]
  },
  {
   "cell_type": "markdown",
   "metadata": {},
   "source": [
    "###### from simrecon_utils import process_txt_output, plot_params"
   ]
  },
  {
   "cell_type": "code",
   "execution_count": null,
   "metadata": {
    "scrolled": false
   },
   "outputs": [],
   "source": [
    "dst = \"Tiled Parameters/\"\n",
    "try:\n",
    "    os.mkdir(dst)\n",
    "except FileExistsError:\n",
    "    pass\n",
    "for raw in glob.iglob(home + \"/*/*SIM*tile*.txt\"):\n",
    "    with open(raw) as f:\n",
    "        fig, axs = plot_params(process_txt_output(\"\".join(f.readlines())))\n",
    "        fig.savefig(dst + os.path.abspath(raw).split(os.path.sep)[-2] + \".png\", dpi=300, bbox_inches=\"tight\")"
   ]
  },
  {
   "cell_type": "code",
   "execution_count": null,
   "metadata": {},
   "outputs": [],
   "source": [
    "print(\"done!\")"
   ]
  },
  {
   "cell_type": "code",
   "execution_count": null,
   "metadata": {},
   "outputs": [],
   "source": []
  },
  {
   "cell_type": "code",
   "execution_count": null,
   "metadata": {},
   "outputs": [],
   "source": []
  },
  {
   "cell_type": "markdown",
   "metadata": {},
   "source": [
    "# Renaming 3D SIM files for DropBox"
   ]
  },
  {
   "cell_type": "code",
   "execution_count": null,
   "metadata": {},
   "outputs": [],
   "source": [
    "for wl in (\"488 nm\", \"532 nm\", \"560 nm\", \"642 nm\"):\n",
    "    curdir = os.path.split(os.path.abspath(os.curdir))[1]\n",
    "    glob_str = \"F:/ORCA_Data/{}/3D SIM Cells/*{}*/*{}.mrc\".format(curdir, \"\", \"{}*SIM*proc*\".format(wl))\n",
    "    for path in sorted(glob.glob(glob_str)):\n",
    "        print(path)\n",
    "        path_head, path_tail = os.path.split(path)\n",
    "        path_head_new, path_tail_new = os.path.split(path_head)\n",
    "        file_root = path_tail_new.split(\"_\")[0]+' '+path_tail_new.split(\"_\")[1]\n",
    "\n",
    "        OTF = path_tail.split('_OTF')[-1]\n",
    "        proc = OTF.split('_proc')[-1]\n",
    "        if proc == '.mrc':\n",
    "            OTF = proc = OTF.split('_proc')[0] + '.mrc'\n",
    "        new_path = os.path.join(path_head_new, file_root + ' wl'+wl.split(' ')[0]+' proc_with_OTF' + OTF)\n",
    "        print(new_path)\n",
    "        print('')\n",
    "        \n",
    "        shutil.copyfile(path,new_path)"
   ]
  },
  {
   "cell_type": "code",
   "execution_count": null,
   "metadata": {},
   "outputs": [],
   "source": []
  }
 ],
 "metadata": {
  "anaconda-cloud": {},
  "kernelspec": {
   "display_name": "Python 3 (ipykernel)",
   "language": "python",
   "name": "python3"
  },
  "language_info": {
   "codemirror_mode": {
    "name": "ipython",
    "version": 3
   },
   "file_extension": ".py",
   "mimetype": "text/x-python",
   "name": "python",
   "nbconvert_exporter": "python",
   "pygments_lexer": "ipython3",
   "version": "3.7.3"
  }
 },
 "nbformat": 4,
 "nbformat_minor": 2
}
