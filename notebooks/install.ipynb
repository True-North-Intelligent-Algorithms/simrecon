{
 "cells": [
  {
   "cell_type": "markdown",
   "metadata": {},
   "source": [
    "```\n",
    "conda create -n simrecon_python_373 python=3.7.3\n",
    "pip install ipykernel\n",
    "pip install matplotlib==3.5.3\n",
    "pip install tifffile==2019.7.2\n",
    "pip install scipy==1.2.1\n",
    "pip install requests==2.22.0\n",
    "pip install tqdm==4.32.1\n",
    "pip install dask[complete]==1.2.2\n",
    "pip install mrc==0.1.6\n",
    "pip install scikit-image==0.15.0\n",
    "```"
   ]
  },
  {
   "cell_type": "markdown",
   "metadata": {},
   "source": []
  }
 ],
 "metadata": {
  "language_info": {
   "name": "python"
  }
 },
 "nbformat": 4,
 "nbformat_minor": 2
}
